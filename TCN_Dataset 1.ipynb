{
  "nbformat": 4,
  "nbformat_minor": 0,
  "metadata": {
    "colab": {
      "provenance": [],
      "collapsed_sections": []
    },
    "kernelspec": {
      "name": "python3",
      "display_name": "Python 3"
    },
    "language_info": {
      "name": "python"
    },
    "accelerator": "GPU"
  },
  "cells": [
    {
      "cell_type": "code",
      "metadata": {
        "colab": {
          "base_uri": "https://localhost:8080/"
        },
        "id": "3CGvb7R6Ctu-",
        "outputId": "c7cb1ca0-451a-4aa6-d51e-2b6772f4f582"
      },
      "source": [
        "from google.colab import drive \n",
        "drive.mount('/content/drive')"
      ],
      "execution_count": null,
      "outputs": [
        {
          "output_type": "stream",
          "name": "stdout",
          "text": [
            "Mounted at /content/drive\n"
          ]
        }
      ]
    },
    {
      "cell_type": "code",
      "metadata": {
        "colab": {
          "base_uri": "https://localhost:8080/"
        },
        "id": "LCBGoaZIvIRM",
        "outputId": "7a975836-c9f0-4bf7-cda8-858c166e3fdf"
      },
      "source": [
        "pip install keras-tcn"
      ],
      "execution_count": null,
      "outputs": [
        {
          "output_type": "stream",
          "name": "stdout",
          "text": [
            "Collecting keras-tcn\n",
            "  Downloading keras_tcn-3.4.2-py3-none-any.whl (13 kB)\n",
            "Collecting tensorflow-addons\n",
            "  Downloading tensorflow_addons-0.16.1-cp37-cp37m-manylinux_2_12_x86_64.manylinux2010_x86_64.whl (1.1 MB)\n",
            "\u001b[K     |████████████████████████████████| 1.1 MB 4.3 MB/s \n",
            "\u001b[?25hRequirement already satisfied: tensorflow in /usr/local/lib/python3.7/dist-packages (from keras-tcn) (2.8.0)\n",
            "Requirement already satisfied: numpy in /usr/local/lib/python3.7/dist-packages (from keras-tcn) (1.21.5)\n",
            "Requirement already satisfied: opt-einsum>=2.3.2 in /usr/local/lib/python3.7/dist-packages (from tensorflow->keras-tcn) (3.3.0)\n",
            "Requirement already satisfied: keras-preprocessing>=1.1.1 in /usr/local/lib/python3.7/dist-packages (from tensorflow->keras-tcn) (1.1.2)\n",
            "Collecting tf-estimator-nightly==2.8.0.dev2021122109\n",
            "  Downloading tf_estimator_nightly-2.8.0.dev2021122109-py2.py3-none-any.whl (462 kB)\n",
            "\u001b[K     |████████████████████████████████| 462 kB 45.8 MB/s \n",
            "\u001b[?25hRequirement already satisfied: wrapt>=1.11.0 in /usr/local/lib/python3.7/dist-packages (from tensorflow->keras-tcn) (1.14.0)\n",
            "Requirement already satisfied: typing-extensions>=3.6.6 in /usr/local/lib/python3.7/dist-packages (from tensorflow->keras-tcn) (3.10.0.2)\n",
            "Requirement already satisfied: astunparse>=1.6.0 in /usr/local/lib/python3.7/dist-packages (from tensorflow->keras-tcn) (1.6.3)\n",
            "Requirement already satisfied: grpcio<2.0,>=1.24.3 in /usr/local/lib/python3.7/dist-packages (from tensorflow->keras-tcn) (1.44.0)\n",
            "Requirement already satisfied: absl-py>=0.4.0 in /usr/local/lib/python3.7/dist-packages (from tensorflow->keras-tcn) (1.0.0)\n",
            "Requirement already satisfied: termcolor>=1.1.0 in /usr/local/lib/python3.7/dist-packages (from tensorflow->keras-tcn) (1.1.0)\n",
            "Requirement already satisfied: tensorflow-io-gcs-filesystem>=0.23.1 in /usr/local/lib/python3.7/dist-packages (from tensorflow->keras-tcn) (0.24.0)\n",
            "Requirement already satisfied: tensorboard<2.9,>=2.8 in /usr/local/lib/python3.7/dist-packages (from tensorflow->keras-tcn) (2.8.0)\n",
            "Requirement already satisfied: keras<2.9,>=2.8.0rc0 in /usr/local/lib/python3.7/dist-packages (from tensorflow->keras-tcn) (2.8.0)\n",
            "Requirement already satisfied: setuptools in /usr/local/lib/python3.7/dist-packages (from tensorflow->keras-tcn) (57.4.0)\n",
            "Requirement already satisfied: six>=1.12.0 in /usr/local/lib/python3.7/dist-packages (from tensorflow->keras-tcn) (1.15.0)\n",
            "Requirement already satisfied: protobuf>=3.9.2 in /usr/local/lib/python3.7/dist-packages (from tensorflow->keras-tcn) (3.17.3)\n",
            "Requirement already satisfied: libclang>=9.0.1 in /usr/local/lib/python3.7/dist-packages (from tensorflow->keras-tcn) (13.0.0)\n",
            "Requirement already satisfied: flatbuffers>=1.12 in /usr/local/lib/python3.7/dist-packages (from tensorflow->keras-tcn) (2.0)\n",
            "Requirement already satisfied: h5py>=2.9.0 in /usr/local/lib/python3.7/dist-packages (from tensorflow->keras-tcn) (3.1.0)\n",
            "Requirement already satisfied: google-pasta>=0.1.1 in /usr/local/lib/python3.7/dist-packages (from tensorflow->keras-tcn) (0.2.0)\n",
            "Requirement already satisfied: gast>=0.2.1 in /usr/local/lib/python3.7/dist-packages (from tensorflow->keras-tcn) (0.5.3)\n",
            "Requirement already satisfied: wheel<1.0,>=0.23.0 in /usr/local/lib/python3.7/dist-packages (from astunparse>=1.6.0->tensorflow->keras-tcn) (0.37.1)\n",
            "Requirement already satisfied: cached-property in /usr/local/lib/python3.7/dist-packages (from h5py>=2.9.0->tensorflow->keras-tcn) (1.5.2)\n",
            "Requirement already satisfied: google-auth<3,>=1.6.3 in /usr/local/lib/python3.7/dist-packages (from tensorboard<2.9,>=2.8->tensorflow->keras-tcn) (1.35.0)\n",
            "Requirement already satisfied: markdown>=2.6.8 in /usr/local/lib/python3.7/dist-packages (from tensorboard<2.9,>=2.8->tensorflow->keras-tcn) (3.3.6)\n",
            "Requirement already satisfied: google-auth-oauthlib<0.5,>=0.4.1 in /usr/local/lib/python3.7/dist-packages (from tensorboard<2.9,>=2.8->tensorflow->keras-tcn) (0.4.6)\n",
            "Requirement already satisfied: tensorboard-data-server<0.7.0,>=0.6.0 in /usr/local/lib/python3.7/dist-packages (from tensorboard<2.9,>=2.8->tensorflow->keras-tcn) (0.6.1)\n",
            "Requirement already satisfied: tensorboard-plugin-wit>=1.6.0 in /usr/local/lib/python3.7/dist-packages (from tensorboard<2.9,>=2.8->tensorflow->keras-tcn) (1.8.1)\n",
            "Requirement already satisfied: werkzeug>=0.11.15 in /usr/local/lib/python3.7/dist-packages (from tensorboard<2.9,>=2.8->tensorflow->keras-tcn) (1.0.1)\n",
            "Requirement already satisfied: requests<3,>=2.21.0 in /usr/local/lib/python3.7/dist-packages (from tensorboard<2.9,>=2.8->tensorflow->keras-tcn) (2.23.0)\n",
            "Requirement already satisfied: pyasn1-modules>=0.2.1 in /usr/local/lib/python3.7/dist-packages (from google-auth<3,>=1.6.3->tensorboard<2.9,>=2.8->tensorflow->keras-tcn) (0.2.8)\n",
            "Requirement already satisfied: rsa<5,>=3.1.4 in /usr/local/lib/python3.7/dist-packages (from google-auth<3,>=1.6.3->tensorboard<2.9,>=2.8->tensorflow->keras-tcn) (4.8)\n",
            "Requirement already satisfied: cachetools<5.0,>=2.0.0 in /usr/local/lib/python3.7/dist-packages (from google-auth<3,>=1.6.3->tensorboard<2.9,>=2.8->tensorflow->keras-tcn) (4.2.4)\n",
            "Requirement already satisfied: requests-oauthlib>=0.7.0 in /usr/local/lib/python3.7/dist-packages (from google-auth-oauthlib<0.5,>=0.4.1->tensorboard<2.9,>=2.8->tensorflow->keras-tcn) (1.3.1)\n",
            "Requirement already satisfied: importlib-metadata>=4.4 in /usr/local/lib/python3.7/dist-packages (from markdown>=2.6.8->tensorboard<2.9,>=2.8->tensorflow->keras-tcn) (4.11.3)\n",
            "Requirement already satisfied: zipp>=0.5 in /usr/local/lib/python3.7/dist-packages (from importlib-metadata>=4.4->markdown>=2.6.8->tensorboard<2.9,>=2.8->tensorflow->keras-tcn) (3.7.0)\n",
            "Requirement already satisfied: pyasn1<0.5.0,>=0.4.6 in /usr/local/lib/python3.7/dist-packages (from pyasn1-modules>=0.2.1->google-auth<3,>=1.6.3->tensorboard<2.9,>=2.8->tensorflow->keras-tcn) (0.4.8)\n",
            "Requirement already satisfied: certifi>=2017.4.17 in /usr/local/lib/python3.7/dist-packages (from requests<3,>=2.21.0->tensorboard<2.9,>=2.8->tensorflow->keras-tcn) (2021.10.8)\n",
            "Requirement already satisfied: idna<3,>=2.5 in /usr/local/lib/python3.7/dist-packages (from requests<3,>=2.21.0->tensorboard<2.9,>=2.8->tensorflow->keras-tcn) (2.10)\n",
            "Requirement already satisfied: chardet<4,>=3.0.2 in /usr/local/lib/python3.7/dist-packages (from requests<3,>=2.21.0->tensorboard<2.9,>=2.8->tensorflow->keras-tcn) (3.0.4)\n",
            "Requirement already satisfied: urllib3!=1.25.0,!=1.25.1,<1.26,>=1.21.1 in /usr/local/lib/python3.7/dist-packages (from requests<3,>=2.21.0->tensorboard<2.9,>=2.8->tensorflow->keras-tcn) (1.24.3)\n",
            "Requirement already satisfied: oauthlib>=3.0.0 in /usr/local/lib/python3.7/dist-packages (from requests-oauthlib>=0.7.0->google-auth-oauthlib<0.5,>=0.4.1->tensorboard<2.9,>=2.8->tensorflow->keras-tcn) (3.2.0)\n",
            "Requirement already satisfied: typeguard>=2.7 in /usr/local/lib/python3.7/dist-packages (from tensorflow-addons->keras-tcn) (2.7.1)\n",
            "Installing collected packages: tf-estimator-nightly, tensorflow-addons, keras-tcn\n",
            "Successfully installed keras-tcn-3.4.2 tensorflow-addons-0.16.1 tf-estimator-nightly-2.8.0.dev2021122109\n"
          ]
        }
      ]
    },
    {
      "cell_type": "code",
      "metadata": {
        "id": "8lION2m9CyTJ"
      },
      "source": [
        "import tensorflow as tf\n",
        "import keras\n",
        "from tensorflow.keras import regularizers, optimizers\n",
        "from tensorflow.keras.utils import to_categorical\n",
        "from keras import losses\n",
        "from keras.models import Sequential, Model, load_model\n",
        "from keras.layers import Dense, Input, Dropout, Embedding, LSTM, Flatten, Conv1D, Dense, Flatten, Activation, UpSampling1D, MaxPooling1D, ZeroPadding1D\n",
        "from keras.preprocessing import sequence\n",
        "from keras.callbacks import ModelCheckpoint, TensorBoard\n",
        "from keras.utils.vis_utils import plot_model\n",
        "import sklearn\n",
        "from sklearn.preprocessing import StandardScaler, MinMaxScaler\n",
        "from sklearn.model_selection import train_test_split\n",
        "from sklearn.metrics import confusion_matrix, roc_auc_score, roc_auc_score, classification_report\n",
        "from tcn import TCN, tcn_full_summary\n",
        "\n",
        "import sys\n",
        "from tqdm import tqdm\n",
        "import os \n",
        "import seaborn as sns\n",
        "import pandas as pd\n",
        "import numpy as np\n",
        "\n",
        "import matplotlib\n",
        "from matplotlib import pyplot as plt\n",
        "import matplotlib.pyplot as plt\n",
        "import matplotlib.gridspec as gridspec\n",
        "%matplotlib inline\n",
        " \n"
      ],
      "execution_count": null,
      "outputs": []
    },
    {
      "cell_type": "code",
      "metadata": {
        "id": "JskKFg0sC2-K"
      },
      "source": [
        "df= pd.read_csv('/content/drive/MyDrive/Colab Notebooks/dataset_full.csv' , sep = ',')"
      ],
      "execution_count": null,
      "outputs": []
    },
    {
      "cell_type": "code",
      "metadata": {
        "id": "FNU_OK5iEgFE",
        "colab": {
          "base_uri": "https://localhost:8080/"
        },
        "outputId": "c67a3866-c94c-4733-9771-8ab1ae759a83"
      },
      "source": [
        "list(df.columns)"
      ],
      "execution_count": null,
      "outputs": [
        {
          "output_type": "execute_result",
          "data": {
            "text/plain": [
              "['qty_dot_url',\n",
              " 'qty_hyphen_url',\n",
              " 'qty_underline_url',\n",
              " 'qty_slash_url',\n",
              " 'qty_questionmark_url',\n",
              " 'qty_equal_url',\n",
              " 'qty_at_url',\n",
              " 'qty_and_url',\n",
              " 'qty_exclamation_url',\n",
              " 'qty_space_url',\n",
              " 'qty_tilde_url',\n",
              " 'qty_comma_url',\n",
              " 'qty_plus_url',\n",
              " 'qty_asterisk_url',\n",
              " 'qty_hashtag_url',\n",
              " 'qty_dollar_url',\n",
              " 'qty_percent_url',\n",
              " 'qty_tld_url',\n",
              " 'length_url',\n",
              " 'qty_dot_domain',\n",
              " 'qty_hyphen_domain',\n",
              " 'qty_underline_domain',\n",
              " 'qty_slash_domain',\n",
              " 'qty_questionmark_domain',\n",
              " 'qty_equal_domain',\n",
              " 'qty_at_domain',\n",
              " 'qty_and_domain',\n",
              " 'qty_exclamation_domain',\n",
              " 'qty_space_domain',\n",
              " 'qty_tilde_domain',\n",
              " 'qty_comma_domain',\n",
              " 'qty_plus_domain',\n",
              " 'qty_asterisk_domain',\n",
              " 'qty_hashtag_domain',\n",
              " 'qty_dollar_domain',\n",
              " 'qty_percent_domain',\n",
              " 'qty_vowels_domain',\n",
              " 'domain_length',\n",
              " 'domain_in_ip',\n",
              " 'server_client_domain',\n",
              " 'qty_dot_directory',\n",
              " 'qty_hyphen_directory',\n",
              " 'qty_underline_directory',\n",
              " 'qty_slash_directory',\n",
              " 'qty_questionmark_directory',\n",
              " 'qty_equal_directory',\n",
              " 'qty_at_directory',\n",
              " 'qty_and_directory',\n",
              " 'qty_exclamation_directory',\n",
              " 'qty_space_directory',\n",
              " 'qty_tilde_directory',\n",
              " 'qty_comma_directory',\n",
              " 'qty_plus_directory',\n",
              " 'qty_asterisk_directory',\n",
              " 'qty_hashtag_directory',\n",
              " 'qty_dollar_directory',\n",
              " 'qty_percent_directory',\n",
              " 'directory_length',\n",
              " 'qty_dot_file',\n",
              " 'qty_hyphen_file',\n",
              " 'qty_underline_file',\n",
              " 'qty_slash_file',\n",
              " 'qty_questionmark_file',\n",
              " 'qty_equal_file',\n",
              " 'qty_at_file',\n",
              " 'qty_and_file',\n",
              " 'qty_exclamation_file',\n",
              " 'qty_space_file',\n",
              " 'qty_tilde_file',\n",
              " 'qty_comma_file',\n",
              " 'qty_plus_file',\n",
              " 'qty_asterisk_file',\n",
              " 'qty_hashtag_file',\n",
              " 'qty_dollar_file',\n",
              " 'qty_percent_file',\n",
              " 'file_length',\n",
              " 'qty_dot_params',\n",
              " 'qty_hyphen_params',\n",
              " 'qty_underline_params',\n",
              " 'qty_slash_params',\n",
              " 'qty_questionmark_params',\n",
              " 'qty_equal_params',\n",
              " 'qty_at_params',\n",
              " 'qty_and_params',\n",
              " 'qty_exclamation_params',\n",
              " 'qty_space_params',\n",
              " 'qty_tilde_params',\n",
              " 'qty_comma_params',\n",
              " 'qty_plus_params',\n",
              " 'qty_asterisk_params',\n",
              " 'qty_hashtag_params',\n",
              " 'qty_dollar_params',\n",
              " 'qty_percent_params',\n",
              " 'params_length',\n",
              " 'tld_present_params',\n",
              " 'qty_params',\n",
              " 'email_in_url',\n",
              " 'time_response',\n",
              " 'domain_spf',\n",
              " 'asn_ip',\n",
              " 'time_domain_activation',\n",
              " 'time_domain_expiration',\n",
              " 'qty_ip_resolved',\n",
              " 'qty_nameservers',\n",
              " 'qty_mx_servers',\n",
              " 'ttl_hostname',\n",
              " 'tls_ssl_certificate',\n",
              " 'qty_redirects',\n",
              " 'url_google_index',\n",
              " 'domain_google_index',\n",
              " 'url_shortened',\n",
              " 'phishing']"
            ]
          },
          "metadata": {},
          "execution_count": 6
        }
      ]
    },
    {
      "cell_type": "code",
      "metadata": {
        "colab": {
          "base_uri": "https://localhost:8080/",
          "height": 402
        },
        "id": "W6hPXqrfA4F6",
        "outputId": "a7d9aed6-0b74-4784-ade6-f3204c499d9b"
      },
      "source": [
        "print(df['phishing'].value_counts())\n",
        "sns.countplot(df['phishing'])"
      ],
      "execution_count": null,
      "outputs": [
        {
          "output_type": "stream",
          "name": "stdout",
          "text": [
            "0    58000\n",
            "1    30647\n",
            "Name: phishing, dtype: int64\n"
          ]
        },
        {
          "output_type": "stream",
          "name": "stderr",
          "text": [
            "/usr/local/lib/python3.7/dist-packages/seaborn/_decorators.py:43: FutureWarning: Pass the following variable as a keyword arg: x. From version 0.12, the only valid positional argument will be `data`, and passing other arguments without an explicit keyword will result in an error or misinterpretation.\n",
            "  FutureWarning\n"
          ]
        },
        {
          "output_type": "execute_result",
          "data": {
            "text/plain": [
              "<matplotlib.axes._subplots.AxesSubplot at 0x7f646c1bf110>"
            ]
          },
          "metadata": {},
          "execution_count": 8
        },
        {
          "output_type": "display_data",
          "data": {
            "image/png": "[encoded data removed]",
            "text/plain": [
              "<Figure size 432x288 with 1 Axes>"
            ]
          },
          "metadata": {
            "needs_background": "light"
          }
        }
      ]
    },
    {
      "cell_type": "code",
      "source": [
        "df.dtypes == 'int64'\n",
        "def remove_negatives(df):\n",
        "    df[df == -1] = 0\n",
        "remove_negatives(df)"
      ],
      "metadata": {
        "id": "LCmTrZZwQXaC"
      },
      "execution_count": null,
      "outputs": []
    },
    {
      "cell_type": "code",
      "metadata": {
        "id": "QukaBsrZDYsD"
      },
      "source": [
        "dataset = df.values\n",
        "input_x = dataset[:,:-1]\n",
        "output_x = dataset[:, -1]\n"
      ],
      "execution_count": null,
      "outputs": []
    },
    {
      "cell_type": "code",
      "metadata": {
        "id": "zypOVN11DhfO"
      },
      "source": [
        "validation_size = 0.25\n",
        "x_train, x_test, y_train, y_test = train_test_split(input_x , output_x, test_size=validation_size)"
      ],
      "execution_count": null,
      "outputs": []
    },
    {
      "cell_type": "code",
      "metadata": {
        "id": "cvsq0AqMDxkC"
      },
      "source": [
        "x_train = np.array(x_train).reshape(x_train.shape[0], x_train.shape[1], 1)\n",
        "x_test = np.array(x_test).reshape(x_test.shape[0], x_test.shape[1], 1)\n",
        "input_shape = (x_train.shape[1], 1)\n"
      ],
      "execution_count": null,
      "outputs": []
    },
    {
      "cell_type": "code",
      "metadata": {
        "colab": {
          "base_uri": "https://localhost:8080/"
        },
        "id": "sOgj--6rD9ED",
        "outputId": "9e47f065-4260-4da8-905c-685cb644be8b"
      },
      "source": [
        "print(x_train.shape)\n",
        "print(x_test.shape)"
      ],
      "execution_count": null,
      "outputs": [
        {
          "output_type": "stream",
          "name": "stdout",
          "text": [
            "(66485, 111, 1)\n",
            "(22162, 111, 1)\n"
          ]
        }
      ]
    },
    {
      "cell_type": "code",
      "metadata": {
        "id": "7rY9XySfEMTa"
      },
      "source": [
        "from tensorflow.keras.utils import to_categorical\n",
        "y_train = to_categorical(y_train, 2)\n",
        "y_test = to_categorical(y_test, 2)"
      ],
      "execution_count": null,
      "outputs": []
    },
    {
      "cell_type": "code",
      "metadata": {
        "colab": {
          "base_uri": "https://localhost:8080/"
        },
        "id": "evVdZ6x4E5S1",
        "outputId": "424e5abf-4425-44d6-ff83-17cd78960cca"
      },
      "source": [
        "print(\"Shapes:\\nx_train:%s\\ny_train:%s\\n\" % (x_train.shape, y_train.shape))\n",
        "print(\"x_test:%s\\ny_test:%s\\n\" % (x_test.shape, y_test.shape))\n",
        "print(\"input_shape:{}\\n\".format(input_shape))"
      ],
      "execution_count": null,
      "outputs": [
        {
          "output_type": "stream",
          "name": "stdout",
          "text": [
            "Shapes:\n",
            "x_train:(66485, 111, 1)\n",
            "y_train:(66485, 2)\n",
            "\n",
            "x_test:(22162, 111, 1)\n",
            "y_test:(22162, 2)\n",
            "\n",
            "input_shape:(111, 1)\n",
            "\n"
          ]
        }
      ]
    },
    {
      "cell_type": "code",
      "metadata": {
        "id": "-mRYWjDvrkni"
      },
      "source": [
        "input_layer = Input(shape=(input_shape ))\n",
        "batch_size, time_steps, input_dim = None, 111, 1\n",
        "\n",
        "tcn_layer = TCN(input_shape=(time_steps, input_dim),dialations=[8,16,32],kernel_size=3)\n",
        "m = Sequential([\n",
        "    tcn_layer,\n",
        "\n",
        "    Dense(2, activation='softmax')\n",
        "])\n",
        "\n",
        "m.compile(loss=\"binary_crossentropy\",\n",
        "              optimizer=\"adam\",\n",
        "           metrics=[\"accuracy\"])"
      ],
      "execution_count": null,
      "outputs": []
    },
    {
      "cell_type": "code",
      "metadata": {
        "colab": {
          "base_uri": "https://localhost:8080/"
        },
        "id": "v-AjygUxtIBU",
        "outputId": "b87f1a8d-91b0-41fd-d229-7d62311f0ac3"
      },
      "source": [
        "history=m.fit(x_train, y_train,\n",
        "          batch_size=128,\n",
        "          epochs=100,\n",
        "          verbose=1,\n",
        "          validation_data=(x_test, y_test))"
      ],
      "execution_count": null,
      "outputs": [
        {
          "output_type": "stream",
          "name": "stdout",
          "text": [
            "Epoch 1/100\n",
            "520/520 [==============================] - 43s 53ms/step - loss: 284.1669 - accuracy: 0.8505 - val_loss: 71.1186 - val_accuracy: 0.8260\n",
            "Epoch 2/100\n",
            "520/520 [==============================] - 26s 51ms/step - loss: 23.8697 - accuracy: 0.9021 - val_loss: 13.7388 - val_accuracy: 0.9108\n",
            "Epoch 3/100\n",
            "520/520 [==============================] - 27s 51ms/step - loss: 19.6629 - accuracy: 0.9059 - val_loss: 10.0507 - val_accuracy: 0.9130\n",
            "Epoch 4/100\n",
            "520/520 [==============================] - 27s 51ms/step - loss: 7.5110 - accuracy: 0.9143 - val_loss: 3.0429 - val_accuracy: 0.9274\n",
            "Epoch 5/100\n",
            "520/520 [==============================] - 26s 51ms/step - loss: 4.2864 - accuracy: 0.9153 - val_loss: 1.3839 - val_accuracy: 0.9236\n",
            "Epoch 6/100\n",
            "520/520 [==============================] - 27s 51ms/step - loss: 1.1154 - accuracy: 0.9173 - val_loss: 0.5974 - val_accuracy: 0.9267\n",
            "Epoch 7/100\n",
            "520/520 [==============================] - 26s 51ms/step - loss: 0.5710 - accuracy: 0.9263 - val_loss: 0.4377 - val_accuracy: 0.9360\n",
            "Epoch 8/100\n",
            "520/520 [==============================] - 27s 51ms/step - loss: 0.4804 - accuracy: 0.9314 - val_loss: 0.4302 - val_accuracy: 0.9363\n",
            "Epoch 9/100\n",
            "520/520 [==============================] - 26s 51ms/step - loss: 0.4130 - accuracy: 0.9347 - val_loss: 0.3572 - val_accuracy: 0.9348\n",
            "Epoch 10/100\n",
            "520/520 [==============================] - 26s 51ms/step - loss: 0.3846 - accuracy: 0.9345 - val_loss: 0.3312 - val_accuracy: 0.9234\n",
            "Epoch 11/100\n",
            "520/520 [==============================] - 27s 51ms/step - loss: 0.3151 - accuracy: 0.9357 - val_loss: 0.2926 - val_accuracy: 0.9416\n",
            "Epoch 12/100\n",
            "520/520 [==============================] - 27s 51ms/step - loss: 0.2869 - accuracy: 0.9382 - val_loss: 0.2429 - val_accuracy: 0.9411\n",
            "Epoch 13/100\n",
            "520/520 [==============================] - 27s 51ms/step - loss: 0.2447 - accuracy: 0.9390 - val_loss: 0.2008 - val_accuracy: 0.9468\n",
            "Epoch 14/100\n",
            "520/520 [==============================] - 26s 51ms/step - loss: 0.2159 - accuracy: 0.9406 - val_loss: 0.2926 - val_accuracy: 0.9489\n",
            "Epoch 15/100\n",
            "520/520 [==============================] - 26s 51ms/step - loss: 0.1934 - accuracy: 0.9409 - val_loss: 0.1954 - val_accuracy: 0.9360\n",
            "Epoch 16/100\n",
            "520/520 [==============================] - 26s 51ms/step - loss: 0.8533 - accuracy: 0.9318 - val_loss: 0.3253 - val_accuracy: 0.9348\n",
            "Epoch 17/100\n",
            "520/520 [==============================] - 27s 51ms/step - loss: 0.2806 - accuracy: 0.9308 - val_loss: 0.1568 - val_accuracy: 0.9450\n",
            "Epoch 18/100\n",
            "520/520 [==============================] - 27s 51ms/step - loss: 0.1736 - accuracy: 0.9408 - val_loss: 0.1448 - val_accuracy: 0.9477\n",
            "Epoch 19/100\n",
            "520/520 [==============================] - 26s 51ms/step - loss: 0.1595 - accuracy: 0.9431 - val_loss: 0.1526 - val_accuracy: 0.9451\n",
            "Epoch 20/100\n",
            "520/520 [==============================] - 27s 51ms/step - loss: 0.1606 - accuracy: 0.9440 - val_loss: 0.1522 - val_accuracy: 0.9470\n",
            "Epoch 21/100\n",
            "520/520 [==============================] - 27s 51ms/step - loss: 0.1552 - accuracy: 0.9448 - val_loss: 0.1401 - val_accuracy: 0.9496\n",
            "Epoch 22/100\n",
            "520/520 [==============================] - 26s 51ms/step - loss: 0.1467 - accuracy: 0.9467 - val_loss: 0.1309 - val_accuracy: 0.9526\n",
            "Epoch 23/100\n",
            "520/520 [==============================] - 27s 51ms/step - loss: 0.1448 - accuracy: 0.9469 - val_loss: 0.1379 - val_accuracy: 0.9490\n",
            "Epoch 24/100\n",
            "520/520 [==============================] - 27s 51ms/step - loss: 0.2309 - accuracy: 0.9397 - val_loss: 0.1392 - val_accuracy: 0.9493\n",
            "Epoch 25/100\n",
            "520/520 [==============================] - 27s 51ms/step - loss: 0.1411 - accuracy: 0.9482 - val_loss: 0.1443 - val_accuracy: 0.9496\n",
            "Epoch 26/100\n",
            "520/520 [==============================] - 27s 51ms/step - loss: 0.1379 - accuracy: 0.9489 - val_loss: 0.1275 - val_accuracy: 0.9519\n",
            "Epoch 27/100\n",
            "520/520 [==============================] - 27s 51ms/step - loss: 0.1376 - accuracy: 0.9494 - val_loss: 0.1270 - val_accuracy: 0.9530\n",
            "Epoch 28/100\n",
            "520/520 [==============================] - 27s 51ms/step - loss: 0.1329 - accuracy: 0.9501 - val_loss: 0.1283 - val_accuracy: 0.9519\n",
            "Epoch 29/100\n",
            "520/520 [==============================] - 27s 51ms/step - loss: 0.3336 - accuracy: 0.9383 - val_loss: 0.1389 - val_accuracy: 0.9484\n",
            "Epoch 30/100\n",
            "520/520 [==============================] - 26s 51ms/step - loss: 0.1406 - accuracy: 0.9471 - val_loss: 0.1377 - val_accuracy: 0.9477\n",
            "Epoch 31/100\n",
            "520/520 [==============================] - 26s 51ms/step - loss: 0.1356 - accuracy: 0.9495 - val_loss: 0.1351 - val_accuracy: 0.9460\n",
            "Epoch 32/100\n",
            "520/520 [==============================] - 27s 51ms/step - loss: 0.1303 - accuracy: 0.9513 - val_loss: 0.1237 - val_accuracy: 0.9534\n",
            "Epoch 33/100\n",
            "520/520 [==============================] - 27s 51ms/step - loss: 0.1304 - accuracy: 0.9502 - val_loss: 0.1214 - val_accuracy: 0.9542\n",
            "Epoch 34/100\n",
            "520/520 [==============================] - 27s 51ms/step - loss: 0.1287 - accuracy: 0.9524 - val_loss: 0.1306 - val_accuracy: 0.9513\n",
            "Epoch 35/100\n",
            "520/520 [==============================] - 27s 51ms/step - loss: 0.1269 - accuracy: 0.9518 - val_loss: 0.1166 - val_accuracy: 0.9555\n",
            "Epoch 36/100\n",
            "520/520 [==============================] - 26s 51ms/step - loss: 0.1225 - accuracy: 0.9536 - val_loss: 0.1201 - val_accuracy: 0.9518\n",
            "Epoch 37/100\n",
            "520/520 [==============================] - 26s 51ms/step - loss: 0.1526 - accuracy: 0.9511 - val_loss: 0.1264 - val_accuracy: 0.9514\n",
            "Epoch 38/100\n",
            "520/520 [==============================] - 27s 51ms/step - loss: 0.1257 - accuracy: 0.9529 - val_loss: 0.1196 - val_accuracy: 0.9534\n",
            "Epoch 39/100\n",
            "520/520 [==============================] - 27s 51ms/step - loss: 0.1193 - accuracy: 0.9546 - val_loss: 0.1173 - val_accuracy: 0.9553\n",
            "Epoch 40/100\n",
            "520/520 [==============================] - 26s 51ms/step - loss: 0.1183 - accuracy: 0.9559 - val_loss: 0.1161 - val_accuracy: 0.9539\n",
            "Epoch 41/100\n",
            "520/520 [==============================] - 26s 51ms/step - loss: 0.1156 - accuracy: 0.9562 - val_loss: 0.1153 - val_accuracy: 0.9567\n",
            "Epoch 42/100\n",
            "520/520 [==============================] - 26s 51ms/step - loss: 0.1194 - accuracy: 0.9554 - val_loss: 0.1162 - val_accuracy: 0.9559\n",
            "Epoch 43/100\n",
            "520/520 [==============================] - 26s 51ms/step - loss: 0.1260 - accuracy: 0.9552 - val_loss: 0.1374 - val_accuracy: 0.9467\n",
            "Epoch 44/100\n",
            "520/520 [==============================] - 26s 51ms/step - loss: 0.1955 - accuracy: 0.9516 - val_loss: 0.1151 - val_accuracy: 0.9550\n",
            "Epoch 45/100\n",
            "520/520 [==============================] - 27s 51ms/step - loss: 0.1153 - accuracy: 0.9567 - val_loss: 0.1118 - val_accuracy: 0.9571\n",
            "Epoch 46/100\n",
            "520/520 [==============================] - 27s 51ms/step - loss: 0.1103 - accuracy: 0.9585 - val_loss: 0.1087 - val_accuracy: 0.9587\n",
            "Epoch 47/100\n",
            "520/520 [==============================] - 27s 52ms/step - loss: 0.1418 - accuracy: 0.9579 - val_loss: 0.1676 - val_accuracy: 0.9504\n",
            "Epoch 48/100\n",
            "520/520 [==============================] - 27s 51ms/step - loss: 0.1160 - accuracy: 0.9571 - val_loss: 0.1140 - val_accuracy: 0.9574\n",
            "Epoch 49/100\n",
            "520/520 [==============================] - 27s 51ms/step - loss: 0.1083 - accuracy: 0.9598 - val_loss: 0.1086 - val_accuracy: 0.9605\n",
            "Epoch 50/100\n",
            "520/520 [==============================] - 27s 51ms/step - loss: 0.1054 - accuracy: 0.9606 - val_loss: 0.1123 - val_accuracy: 0.9599\n",
            "Epoch 51/100\n",
            "520/520 [==============================] - 27s 51ms/step - loss: 0.1059 - accuracy: 0.9611 - val_loss: 0.1110 - val_accuracy: 0.9591\n",
            "Epoch 52/100\n",
            "520/520 [==============================] - 26s 51ms/step - loss: 0.1036 - accuracy: 0.9619 - val_loss: 0.1087 - val_accuracy: 0.9603\n",
            "Epoch 53/100\n",
            "520/520 [==============================] - 27s 51ms/step - loss: 0.1026 - accuracy: 0.9612 - val_loss: 0.1109 - val_accuracy: 0.9592\n",
            "Epoch 54/100\n",
            "520/520 [==============================] - 27s 51ms/step - loss: 0.1018 - accuracy: 0.9620 - val_loss: 0.1091 - val_accuracy: 0.9589\n",
            "Epoch 55/100\n",
            "520/520 [==============================] - 27s 51ms/step - loss: 0.0997 - accuracy: 0.9637 - val_loss: 0.1049 - val_accuracy: 0.9624\n",
            "Epoch 56/100\n",
            "520/520 [==============================] - 27s 51ms/step - loss: 0.0989 - accuracy: 0.9637 - val_loss: 0.1078 - val_accuracy: 0.9598\n",
            "Epoch 57/100\n",
            "520/520 [==============================] - 27s 51ms/step - loss: 0.1275 - accuracy: 0.9616 - val_loss: 0.1159 - val_accuracy: 0.9561\n",
            "Epoch 58/100\n",
            "520/520 [==============================] - 27s 51ms/step - loss: 0.1010 - accuracy: 0.9627 - val_loss: 0.1058 - val_accuracy: 0.9606\n",
            "Epoch 59/100\n",
            "520/520 [==============================] - 27s 51ms/step - loss: 0.0958 - accuracy: 0.9645 - val_loss: 0.1082 - val_accuracy: 0.9585\n",
            "Epoch 60/100\n",
            "520/520 [==============================] - 27s 51ms/step - loss: 0.0937 - accuracy: 0.9653 - val_loss: 0.1108 - val_accuracy: 0.9605\n",
            "Epoch 61/100\n",
            "520/520 [==============================] - 27s 51ms/step - loss: 0.0937 - accuracy: 0.9657 - val_loss: 0.1130 - val_accuracy: 0.9583\n",
            "Epoch 62/100\n",
            "520/520 [==============================] - 26s 51ms/step - loss: 0.0939 - accuracy: 0.9656 - val_loss: 0.1069 - val_accuracy: 0.9629\n",
            "Epoch 63/100\n",
            "520/520 [==============================] - 26s 51ms/step - loss: 0.0923 - accuracy: 0.9664 - val_loss: 0.1102 - val_accuracy: 0.9611\n",
            "Epoch 64/100\n",
            "520/520 [==============================] - 27s 51ms/step - loss: 0.0907 - accuracy: 0.9674 - val_loss: 0.1061 - val_accuracy: 0.9623\n",
            "Epoch 65/100\n",
            "520/520 [==============================] - 26s 51ms/step - loss: 0.0875 - accuracy: 0.9672 - val_loss: 0.1155 - val_accuracy: 0.9556\n",
            "Epoch 66/100\n",
            "520/520 [==============================] - 27s 52ms/step - loss: 0.0865 - accuracy: 0.9680 - val_loss: 0.1055 - val_accuracy: 0.9618\n",
            "Epoch 67/100\n",
            "520/520 [==============================] - 27s 53ms/step - loss: 0.0852 - accuracy: 0.9687 - val_loss: 0.1050 - val_accuracy: 0.9632\n",
            "Epoch 68/100\n",
            "520/520 [==============================] - 27s 52ms/step - loss: 0.2242 - accuracy: 0.9661 - val_loss: 0.1164 - val_accuracy: 0.9608\n",
            "Epoch 69/100\n",
            "520/520 [==============================] - 27s 52ms/step - loss: 0.0897 - accuracy: 0.9671 - val_loss: 0.1088 - val_accuracy: 0.9624\n",
            "Epoch 70/100\n",
            "520/520 [==============================] - 27s 52ms/step - loss: 0.0812 - accuracy: 0.9705 - val_loss: 0.1094 - val_accuracy: 0.9605\n",
            "Epoch 71/100\n",
            "520/520 [==============================] - 27s 52ms/step - loss: 0.0823 - accuracy: 0.9696 - val_loss: 0.1068 - val_accuracy: 0.9630\n",
            "Epoch 72/100\n",
            "520/520 [==============================] - 27s 52ms/step - loss: 0.0798 - accuracy: 0.9708 - val_loss: 0.1141 - val_accuracy: 0.9630\n",
            "Epoch 73/100\n",
            "520/520 [==============================] - 27s 52ms/step - loss: 0.0850 - accuracy: 0.9706 - val_loss: 0.1153 - val_accuracy: 0.9605\n",
            "Epoch 74/100\n",
            "520/520 [==============================] - 27s 53ms/step - loss: 0.1102 - accuracy: 0.9657 - val_loss: 0.1078 - val_accuracy: 0.9622\n",
            "Epoch 75/100\n",
            "520/520 [==============================] - 27s 53ms/step - loss: 0.0825 - accuracy: 0.9705 - val_loss: 0.1127 - val_accuracy: 0.9619\n",
            "Epoch 76/100\n",
            "520/520 [==============================] - 27s 52ms/step - loss: 0.0784 - accuracy: 0.9716 - val_loss: 0.1102 - val_accuracy: 0.9626\n",
            "Epoch 77/100\n",
            "520/520 [==============================] - 27s 52ms/step - loss: 0.0766 - accuracy: 0.9722 - val_loss: 0.1131 - val_accuracy: 0.9615\n",
            "Epoch 78/100\n",
            "520/520 [==============================] - 27s 52ms/step - loss: 0.0754 - accuracy: 0.9720 - val_loss: 0.1125 - val_accuracy: 0.9632\n",
            "Epoch 79/100\n",
            "520/520 [==============================] - 27s 52ms/step - loss: 0.0786 - accuracy: 0.9716 - val_loss: 0.1251 - val_accuracy: 0.9603\n",
            "Epoch 80/100\n",
            "520/520 [==============================] - 27s 52ms/step - loss: 0.0766 - accuracy: 0.9720 - val_loss: 0.1170 - val_accuracy: 0.9591\n",
            "Epoch 81/100\n",
            "520/520 [==============================] - 27s 52ms/step - loss: 0.0743 - accuracy: 0.9728 - val_loss: 0.1168 - val_accuracy: 0.9622\n",
            "Epoch 82/100\n",
            "520/520 [==============================] - 27s 52ms/step - loss: 0.0729 - accuracy: 0.9735 - val_loss: 0.1166 - val_accuracy: 0.9610\n",
            "Epoch 83/100\n",
            "520/520 [==============================] - 27s 52ms/step - loss: 0.0721 - accuracy: 0.9736 - val_loss: 0.1184 - val_accuracy: 0.9622\n",
            "Epoch 84/100\n",
            "520/520 [==============================] - 27s 53ms/step - loss: 0.0727 - accuracy: 0.9737 - val_loss: 0.1192 - val_accuracy: 0.9617\n",
            "Epoch 85/100\n",
            "520/520 [==============================] - 27s 52ms/step - loss: 0.0718 - accuracy: 0.9736 - val_loss: 0.1167 - val_accuracy: 0.9630\n",
            "Epoch 86/100\n",
            "520/520 [==============================] - 27s 52ms/step - loss: 0.0706 - accuracy: 0.9735 - val_loss: 0.1164 - val_accuracy: 0.9624\n",
            "Epoch 87/100\n",
            "520/520 [==============================] - 27s 52ms/step - loss: 0.0694 - accuracy: 0.9741 - val_loss: 0.1184 - val_accuracy: 0.9620\n",
            "Epoch 88/100\n",
            "520/520 [==============================] - 27s 53ms/step - loss: 0.0687 - accuracy: 0.9751 - val_loss: 0.1196 - val_accuracy: 0.9636\n",
            "Epoch 89/100\n",
            "520/520 [==============================] - 27s 52ms/step - loss: 0.0684 - accuracy: 0.9749 - val_loss: 0.1224 - val_accuracy: 0.9620\n",
            "Epoch 90/100\n",
            "520/520 [==============================] - 27s 53ms/step - loss: 0.0683 - accuracy: 0.9743 - val_loss: 0.1239 - val_accuracy: 0.9606\n",
            "Epoch 91/100\n",
            "520/520 [==============================] - 27s 53ms/step - loss: 0.0670 - accuracy: 0.9755 - val_loss: 0.1226 - val_accuracy: 0.9628\n",
            "Epoch 92/100\n",
            "520/520 [==============================] - 27s 52ms/step - loss: 0.0661 - accuracy: 0.9757 - val_loss: 0.1238 - val_accuracy: 0.9599\n",
            "Epoch 93/100\n",
            "520/520 [==============================] - 27s 52ms/step - loss: 0.0703 - accuracy: 0.9752 - val_loss: 0.1187 - val_accuracy: 0.9616\n",
            "Epoch 94/100\n",
            "520/520 [==============================] - 27s 53ms/step - loss: 0.0651 - accuracy: 0.9759 - val_loss: 0.1348 - val_accuracy: 0.9629\n",
            "Epoch 95/100\n",
            "520/520 [==============================] - 27s 53ms/step - loss: 0.0647 - accuracy: 0.9764 - val_loss: 0.1378 - val_accuracy: 0.9610\n",
            "Epoch 96/100\n",
            "520/520 [==============================] - 27s 52ms/step - loss: 0.0674 - accuracy: 0.9759 - val_loss: 0.1379 - val_accuracy: 0.9614\n",
            "Epoch 97/100\n",
            "520/520 [==============================] - 27s 53ms/step - loss: 0.0624 - accuracy: 0.9770 - val_loss: 0.1271 - val_accuracy: 0.9628\n",
            "Epoch 98/100\n",
            "520/520 [==============================] - 27s 52ms/step - loss: 0.0633 - accuracy: 0.9767 - val_loss: 0.1301 - val_accuracy: 0.9638\n",
            "Epoch 99/100\n",
            "520/520 [==============================] - 27s 52ms/step - loss: 0.0616 - accuracy: 0.9773 - val_loss: 0.1332 - val_accuracy: 0.9619\n",
            "Epoch 100/100\n",
            "520/520 [==============================] - 27s 52ms/step - loss: 0.0721 - accuracy: 0.9755 - val_loss: 0.1289 - val_accuracy: 0.9642\n"
          ]
        }
      ]
    },
    {
      "cell_type": "code",
      "source": [
        " # summarize history for accuracy\n",
        "plt.plot(history.history['accuracy'])\n",
        "plt.plot(history.history['val_accuracy'])\n",
        "plt.title('model accuracy')\n",
        "plt.ylabel('accuracy')\n",
        "plt.xlabel('epoch')\n",
        "plt.legend(['train', 'validation'], loc='upper left')\n",
        "plt.show()"
      ],
      "metadata": {
        "colab": {
          "base_uri": "https://localhost:8080/",
          "height": 295
        },
        "id": "-pwTTjf0bx2f",
        "outputId": "dadd1427-2ace-406d-de7f-a5fba4f9a3eb"
      },
      "execution_count": null,
      "outputs": [
        {
          "output_type": "display_data",
          "data": {
            "text/plain": [
              "<Figure size 432x288 with 1 Axes>"
            ],
            "image/png": "[encoded data removed]"
          },
          "metadata": {
            "needs_background": "light"
          }
        }
      ]
    },
    {
      "cell_type": "code",
      "source": [
        "# summarize history for loss\n",
        "plt.plot(history.history['loss'])\n",
        "plt.plot(history.history['val_loss'])\n",
        "plt.title('model loss')\n",
        "plt.ylabel('loss')\n",
        "plt.xlabel('epoch')\n",
        "plt.legend(['train', 'validation'], loc='upper left')\n",
        "plt.show()"
      ],
      "metadata": {
        "colab": {
          "base_uri": "https://localhost:8080/",
          "height": 295
        },
        "id": "RRD63csjb49S",
        "outputId": "5960e6f8-83f0-4c00-dda7-376c673015c4"
      },
      "execution_count": null,
      "outputs": [
        {
          "output_type": "display_data",
          "data": {
            "text/plain": [
              "<Figure size 432x288 with 1 Axes>"
            ],
            "image/png": "[encoded data removed]"
          },
          "metadata": {
            "needs_background": "light"
          }
        }
      ]
    },
    {
      "cell_type": "code",
      "metadata": {
        "colab": {
          "base_uri": "https://localhost:8080/"
        },
        "id": "GGQfvIUWJ9J9",
        "outputId": "a4508570-9d64-4e60-ba9a-724fbd6a86bc"
      },
      "source": [
        "score = m.evaluate(x_test, y_test, verbose=0)\n",
        "print('Test loss:', score[0])\n",
        "print('Test accuracy:', score[1])"
      ],
      "execution_count": null,
      "outputs": [
        {
          "output_type": "stream",
          "name": "stdout",
          "text": [
            "Test loss: 0.12891586124897003\n",
            "Test accuracy: 0.9643082618713379\n"
          ]
        }
      ]
    },
    {
      "cell_type": "code",
      "metadata": {
        "colab": {
          "base_uri": "https://localhost:8080/"
        },
        "id": "3xnCXPjICsrF",
        "outputId": "edd9acc3-011b-4e5a-96f7-4ef4e65bd350"
      },
      "source": [
        "preds = m.predict(x_test)\n",
        "y_pred = np.round(preds)\n",
        "print(y_pred)\n",
        "auc = roc_auc_score( y_pred, y_test)\n",
        "print(\"AUC: {:.2%}\".format (auc))"
      ],
      "execution_count": null,
      "outputs": [
        {
          "output_type": "stream",
          "name": "stdout",
          "text": [
            "[[1. 0.]\n",
            " [1. 0.]\n",
            " [1. 0.]\n",
            " ...\n",
            " [1. 0.]\n",
            " [0. 1.]\n",
            " [0. 1.]]\n",
            "AUC: 96.12%\n"
          ]
        }
      ]
    },
    {
      "cell_type": "code",
      "metadata": {
        "colab": {
          "base_uri": "https://localhost:8080/"
        },
        "id": "uZhWAB8UKXV7",
        "outputId": "3d424a84-46eb-420a-d4b2-f350cef34efe"
      },
      "source": [
        "from sklearn.metrics import confusion_matrix\n",
        "y_predict=np.argmax(y_pred,axis=-1)\n",
        "y=np.argmax(y_test,axis=-1)\n",
        "cnf_matrix = confusion_matrix(y_predict, y)\n",
        "cnf_matrix"
      ],
      "execution_count": null,
      "outputs": [
        {
          "output_type": "execute_result",
          "data": {
            "text/plain": [
              "array([[14153,   423],\n",
              "       [  368,  7218]])"
            ]
          },
          "metadata": {},
          "execution_count": 18
        }
      ]
    },
    {
      "cell_type": "code",
      "metadata": {
        "colab": {
          "base_uri": "https://localhost:8080/",
          "height": 295
        },
        "id": "74gUbDZSKfo0",
        "outputId": "42e15f5d-c62c-4a5a-b7af-ac8bc690ab15"
      },
      "source": [
        "import seaborn as sns\n",
        "ax= plt.subplot()\n",
        "sns.heatmap(cnf_matrix, annot=True, ax = ax,fmt=\"d\");\n",
        "ax.set_xlabel('Predicted labels');\n",
        "ax.set_ylabel('True labels'); \n",
        "ax.set_title('Confusion Matrix'); \n",
        "ax.xaxis.set_ticklabels(['legitime','phishing']);\n",
        "ax.yaxis.set_ticklabels(['legitime','phishing']);"
      ],
      "execution_count": null,
      "outputs": [
        {
          "output_type": "display_data",
          "data": {
            "text/plain": [
              "<Figure size 432x288 with 2 Axes>"
            ],
            "image/png": "[encoded data removed]"
          },
          "metadata": {
            "needs_background": "light"
          }
        }
      ]
    },
    {
      "cell_type": "code",
      "metadata": {
        "colab": {
          "base_uri": "https://localhost:8080/"
        },
        "id": "PHKLB_0zKK5K",
        "outputId": "dd327909-4ac8-4ea0-f3cf-e6812fc69efc"
      },
      "source": [
        "print(classification_report(y_test, y_pred))"
      ],
      "execution_count": null,
      "outputs": [
        {
          "output_type": "stream",
          "name": "stdout",
          "text": [
            "              precision    recall  f1-score   support\n",
            "\n",
            "           0       0.97      0.97      0.97     14521\n",
            "           1       0.95      0.94      0.95      7641\n",
            "\n",
            "   micro avg       0.96      0.96      0.96     22162\n",
            "   macro avg       0.96      0.96      0.96     22162\n",
            "weighted avg       0.96      0.96      0.96     22162\n",
            " samples avg       0.96      0.96      0.96     22162\n",
            "\n"
          ]
        }
      ]
    },
    {
      "cell_type": "code",
      "source": [
        "input_layer = Input(shape=(input_shape ))\n",
        "batch_size, time_steps, input_dim = None, 111, 1\n",
        "\n",
        "tcn_layer = TCN(input_shape=(time_steps, input_dim))\n",
        "m = Sequential([\n",
        "    tcn_layer,\n",
        "    Dense(2, activation='softmax')\n",
        "])\n",
        "\n",
        "m.compile(loss=\"binary_crossentropy\",\n",
        "              optimizer=\"Rmsprop\",\n",
        "           metrics=[\"accuracy\"])"
      ],
      "metadata": {
        "id": "_3HysIAObifc"
      },
      "execution_count": null,
      "outputs": []
    },
    {
      "cell_type": "code",
      "source": [
        "history=m.fit(x_train, y_train,\n",
        "          batch_size=128,\n",
        "          epochs=10,\n",
        "          verbose=1,\n",
        "          validation_data=(x_test, y_test))"
      ],
      "metadata": {
        "colab": {
          "base_uri": "https://localhost:8080/"
        },
        "id": "v9sgOVnrbrx2",
        "outputId": "41ad1436-8efa-429f-ea14-29a585a81920"
      },
      "execution_count": null,
      "outputs": [
        {
          "output_type": "stream",
          "name": "stdout",
          "text": [
            "Epoch 1/10\n",
            "520/520 [==============================] - 33s 63ms/step - loss: 0.3247 - accuracy: 0.9427 - val_loss: 1.0501 - val_accuracy: 0.9260\n",
            "Epoch 2/10\n",
            "520/520 [==============================] - 31s 60ms/step - loss: 0.2758 - accuracy: 0.9435 - val_loss: 0.1812 - val_accuracy: 0.9437\n",
            "Epoch 3/10\n",
            "520/520 [==============================] - 30s 57ms/step - loss: 0.2826 - accuracy: 0.9444 - val_loss: 0.1507 - val_accuracy: 0.9459\n",
            "Epoch 4/10\n",
            "520/520 [==============================] - 30s 58ms/step - loss: 0.2757 - accuracy: 0.9453 - val_loss: 0.1766 - val_accuracy: 0.9414\n",
            "Epoch 5/10\n",
            "520/520 [==============================] - 28s 55ms/step - loss: 0.1985 - accuracy: 0.9437 - val_loss: 0.2307 - val_accuracy: 0.9254\n",
            "Epoch 6/10\n",
            "520/520 [==============================] - 29s 56ms/step - loss: 0.2047 - accuracy: 0.9440 - val_loss: 0.2231 - val_accuracy: 0.9240\n",
            "Epoch 7/10\n",
            "520/520 [==============================] - 29s 56ms/step - loss: 0.4072 - accuracy: 0.9450 - val_loss: 0.2669 - val_accuracy: 0.9391\n",
            "Epoch 8/10\n",
            "520/520 [==============================] - 29s 55ms/step - loss: 0.2585 - accuracy: 0.9442 - val_loss: 0.1877 - val_accuracy: 0.9423\n",
            "Epoch 9/10\n",
            "520/520 [==============================] - 28s 55ms/step - loss: 0.3137 - accuracy: 0.9451 - val_loss: 0.1895 - val_accuracy: 0.9394\n",
            "Epoch 10/10\n",
            "520/520 [==============================] - 29s 55ms/step - loss: 0.2169 - accuracy: 0.9451 - val_loss: 0.4058 - val_accuracy: 0.9247\n"
          ]
        }
      ]
    },
    {
      "cell_type": "code",
      "source": [
        "score = m.evaluate(x_test, y_test, verbose=0)\n",
        "print('Test loss:', score[0])\n",
        "print('Test accuracy:', score[1])"
      ],
      "metadata": {
        "colab": {
          "base_uri": "https://localhost:8080/"
        },
        "id": "dYVF1MHjeM09",
        "outputId": "576d1f82-394d-4314-ceb0-b4fb343832e5"
      },
      "execution_count": null,
      "outputs": [
        {
          "output_type": "stream",
          "name": "stdout",
          "text": [
            "Test loss: 0.4057694673538208\n",
            "Test accuracy: 0.9246006608009338\n"
          ]
        }
      ]
    },
    {
      "cell_type": "code",
      "source": [
        "preds = m.predict(x_test)\n",
        "y_pred = np.round(preds)\n",
        "print(y_pred)\n",
        "auc = roc_auc_score( y_pred, y_test)\n",
        "print(\"AUC: {:.2%}\".format (auc))"
      ],
      "metadata": {
        "colab": {
          "base_uri": "https://localhost:8080/"
        },
        "id": "3-A1cJkAeQhG",
        "outputId": "30be6060-59a9-460b-9d32-fc511972bb70"
      },
      "execution_count": null,
      "outputs": [
        {
          "output_type": "stream",
          "name": "stdout",
          "text": [
            "[[1. 0.]\n",
            " [0. 1.]\n",
            " [0. 1.]\n",
            " ...\n",
            " [1. 0.]\n",
            " [0. 1.]\n",
            " [1. 0.]]\n",
            "AUC: 91.17%\n"
          ]
        }
      ]
    },
    {
      "cell_type": "code",
      "source": [
        "from sklearn.metrics import confusion_matrix\n",
        "y_predict=np.argmax(y_pred,axis=-1)\n",
        "y=np.argmax(y_test,axis=-1)\n",
        "cnf_matrix = confusion_matrix(y_predict, y)\n",
        "cnf_matrix"
      ],
      "metadata": {
        "colab": {
          "base_uri": "https://localhost:8080/"
        },
        "id": "5cIa240WeVAf",
        "outputId": "70745ccd-6827-4c0f-8871-90e4fa99b2e8"
      },
      "execution_count": null,
      "outputs": [
        {
          "output_type": "execute_result",
          "data": {
            "text/plain": [
              "array([[13173,   433],\n",
              "       [ 1238,  7318]])"
            ]
          },
          "metadata": {},
          "execution_count": 36
        }
      ]
    },
    {
      "cell_type": "code",
      "source": [
        "import seaborn as sns\n",
        "ax= plt.subplot()\n",
        "sns.heatmap(cnf_matrix, annot=True, ax = ax,fmt=\"d\");\n",
        "ax.set_xlabel('Predicted labels');\n",
        "ax.set_ylabel('True labels'); \n",
        "ax.set_title('Confusion Matrix'); \n",
        "ax.xaxis.set_ticklabels(['legitime','phishing']);\n",
        "ax.yaxis.set_ticklabels(['legitime','phishing']);"
      ],
      "metadata": {
        "colab": {
          "base_uri": "https://localhost:8080/",
          "height": 295
        },
        "id": "_yt2EnG9eayV",
        "outputId": "38a91c91-fd7c-4cfa-89eb-fd719f5213fa"
      },
      "execution_count": null,
      "outputs": [
        {
          "output_type": "display_data",
          "data": {
            "text/plain": [
              "<Figure size 432x288 with 2 Axes>"
            ],
            "image/png": "[encoded data removed]"
          },
          "metadata": {
            "needs_background": "light"
          }
        }
      ]
    },
    {
      "cell_type": "code",
      "source": [
        "print(classification_report(y_test, y_pred))"
      ],
      "metadata": {
        "colab": {
          "base_uri": "https://localhost:8080/"
        },
        "id": "1v1uI5uregoK",
        "outputId": "fe613abd-9b7b-43e7-81d7-7edba9717bb0"
      },
      "execution_count": null,
      "outputs": [
        {
          "output_type": "stream",
          "name": "stdout",
          "text": [
            "              precision    recall  f1-score   support\n",
            "\n",
            "           0       0.97      0.91      0.94     14411\n",
            "           1       0.86      0.94      0.90      7751\n",
            "\n",
            "   micro avg       0.92      0.92      0.92     22162\n",
            "   macro avg       0.91      0.93      0.92     22162\n",
            "weighted avg       0.93      0.92      0.93     22162\n",
            " samples avg       0.92      0.92      0.92     22162\n",
            "\n"
          ]
        }
      ]
    },
    {
      "cell_type": "code",
      "source": [
        "input_layer = Input(shape=(input_shape ))\n",
        "batch_size, time_steps, input_dim = None, 111, 1\n",
        "\n",
        "tcn_layer = TCN(input_shape=(time_steps, input_dim))\n",
        "m = Sequential([\n",
        "    tcn_layer,\n",
        "    Dense(2, activation='softmax')\n",
        "])\n",
        "\n",
        "m.compile(loss=\"binary_crossentropy\",\n",
        "              optimizer=\"Adamax\",\n",
        "           metrics=[\"accuracy\"])"
      ],
      "metadata": {
        "id": "u9DU1jk_flLS"
      },
      "execution_count": null,
      "outputs": []
    },
    {
      "cell_type": "code",
      "source": [
        "history=m.fit(x_train, y_train,\n",
        "          batch_size=128,\n",
        "          epochs=10,\n",
        "          verbose=1,\n",
        "          validation_data=(x_test, y_test))"
      ],
      "metadata": {
        "colab": {
          "base_uri": "https://localhost:8080/"
        },
        "id": "kwJsaqYrfqk2",
        "outputId": "17e4610c-465a-45a3-9d3c-4ebec8174a93"
      },
      "execution_count": null,
      "outputs": [
        {
          "output_type": "stream",
          "name": "stdout",
          "text": [
            "Epoch 1/10\n",
            "520/520 [==============================] - 32s 53ms/step - loss: 232.3745 - accuracy: 0.8234 - val_loss: 100.1784 - val_accuracy: 0.8482\n",
            "Epoch 2/10\n",
            "520/520 [==============================] - 27s 52ms/step - loss: 63.5682 - accuracy: 0.8812 - val_loss: 28.1329 - val_accuracy: 0.9066\n",
            "Epoch 3/10\n",
            "520/520 [==============================] - 27s 52ms/step - loss: 49.4447 - accuracy: 0.8954 - val_loss: 28.5600 - val_accuracy: 0.9089\n",
            "Epoch 4/10\n",
            "520/520 [==============================] - 27s 52ms/step - loss: 31.6431 - accuracy: 0.8992 - val_loss: 24.4404 - val_accuracy: 0.9099\n",
            "Epoch 5/10\n",
            "520/520 [==============================] - 27s 52ms/step - loss: 21.2152 - accuracy: 0.9022 - val_loss: 8.2460 - val_accuracy: 0.9140\n",
            "Epoch 6/10\n",
            "520/520 [==============================] - 27s 52ms/step - loss: 12.6267 - accuracy: 0.9039 - val_loss: 10.0661 - val_accuracy: 0.9108\n",
            "Epoch 7/10\n",
            "520/520 [==============================] - 32s 61ms/step - loss: 8.8299 - accuracy: 0.9102 - val_loss: 11.5963 - val_accuracy: 0.8655\n",
            "Epoch 8/10\n",
            "520/520 [==============================] - 27s 52ms/step - loss: 6.7825 - accuracy: 0.9114 - val_loss: 3.7716 - val_accuracy: 0.9216\n",
            "Epoch 9/10\n",
            "520/520 [==============================] - 27s 52ms/step - loss: 3.0908 - accuracy: 0.9181 - val_loss: 2.4523 - val_accuracy: 0.9186\n",
            "Epoch 10/10\n",
            "520/520 [==============================] - 29s 56ms/step - loss: 2.2808 - accuracy: 0.9193 - val_loss: 2.2388 - val_accuracy: 0.9108\n"
          ]
        }
      ]
    },
    {
      "cell_type": "code",
      "source": [
        "score = m.evaluate(x_test, y_test, verbose=0)\n",
        "print('Test loss:', score[0])\n",
        "print('Test accuracy:', score[1])"
      ],
      "metadata": {
        "colab": {
          "base_uri": "https://localhost:8080/"
        },
        "id": "I-f9MBbCgVHr",
        "outputId": "7ed30a28-16e8-49c4-ef63-b5f5525f1696"
      },
      "execution_count": null,
      "outputs": [
        {
          "output_type": "stream",
          "name": "stdout",
          "text": [
            "Test loss: 2.238863706588745\n",
            "Test accuracy: 0.9108383655548096\n"
          ]
        }
      ]
    },
    {
      "cell_type": "code",
      "source": [
        "preds = m.predict(x_test)\n",
        "y_pred = np.round(preds)\n",
        "print(y_pred)\n",
        "auc = roc_auc_score( y_pred, y_test)\n",
        "print(\"AUC: {:.2%}\".format (auc))"
      ],
      "metadata": {
        "colab": {
          "base_uri": "https://localhost:8080/"
        },
        "id": "_pfGSKSGgZNl",
        "outputId": "2f0c94c5-d69d-4d0d-9911-e0ab67943a76"
      },
      "execution_count": null,
      "outputs": [
        {
          "output_type": "stream",
          "name": "stdout",
          "text": [
            "[[1. 0.]\n",
            " [0. 1.]\n",
            " [0. 1.]\n",
            " ...\n",
            " [1. 0.]\n",
            " [0. 1.]\n",
            " [1. 0.]]\n",
            "AUC: 89.67%\n"
          ]
        }
      ]
    },
    {
      "cell_type": "code",
      "source": [
        "from sklearn.metrics import confusion_matrix\n",
        "y_predict=np.argmax(y_pred,axis=-1)\n",
        "y=np.argmax(y_test,axis=-1)\n",
        "cnf_matrix = confusion_matrix(y_predict, y)\n",
        "cnf_matrix"
      ],
      "metadata": {
        "colab": {
          "base_uri": "https://localhost:8080/"
        },
        "id": "oITiTtVQgppV",
        "outputId": "93e86a17-9a5f-4558-e5d9-94daf0c85483"
      },
      "execution_count": null,
      "outputs": [
        {
          "output_type": "execute_result",
          "data": {
            "text/plain": [
              "array([[12745,   310],\n",
              "       [ 1666,  7441]])"
            ]
          },
          "metadata": {},
          "execution_count": 43
        }
      ]
    },
    {
      "cell_type": "code",
      "source": [
        "import seaborn as sns\n",
        "ax= plt.subplot()\n",
        "sns.heatmap(cnf_matrix, annot=True, ax = ax,fmt=\"d\");\n",
        "ax.set_xlabel('Predicted labels');\n",
        "ax.set_ylabel('True labels'); \n",
        "ax.set_title('Confusion Matrix'); \n",
        "ax.xaxis.set_ticklabels(['legitime','phishing']);\n",
        "ax.yaxis.set_ticklabels(['legitime','phishing']);"
      ],
      "metadata": {
        "colab": {
          "base_uri": "https://localhost:8080/",
          "height": 295
        },
        "id": "zH6taF8vgsrC",
        "outputId": "c031a851-4284-4e53-acf6-8ebb10289531"
      },
      "execution_count": null,
      "outputs": [
        {
          "output_type": "display_data",
          "data": {
            "text/plain": [
              "<Figure size 432x288 with 2 Axes>"
            ],
            "image/png": "[encoded data removed]"
          },
          "metadata": {
            "needs_background": "light"
          }
        }
      ]
    },
    {
      "cell_type": "code",
      "source": [
        "print(classification_report(y_test, y_pred))"
      ],
      "metadata": {
        "colab": {
          "base_uri": "https://localhost:8080/"
        },
        "id": "wmZxRIFygwuB",
        "outputId": "826428a3-3e29-4a9d-a426-9c1fb71c8fff"
      },
      "execution_count": null,
      "outputs": [
        {
          "output_type": "stream",
          "name": "stdout",
          "text": [
            "              precision    recall  f1-score   support\n",
            "\n",
            "           0       0.98      0.88      0.93     14411\n",
            "           1       0.82      0.96      0.88      7751\n",
            "\n",
            "   micro avg       0.91      0.91      0.91     22162\n",
            "   macro avg       0.90      0.92      0.91     22162\n",
            "weighted avg       0.92      0.91      0.91     22162\n",
            " samples avg       0.91      0.91      0.91     22162\n",
            "\n"
          ]
        }
      ]
    }
  ]
}