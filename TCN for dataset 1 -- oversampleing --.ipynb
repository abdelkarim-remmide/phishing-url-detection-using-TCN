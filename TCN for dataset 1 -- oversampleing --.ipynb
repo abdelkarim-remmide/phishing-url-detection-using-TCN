{
  "cells": [
    {
      "cell_type": "code",
      "execution_count": null,
      "metadata": {
        "colab": {
          "base_uri": "https://localhost:8080/"
        },
        "id": "LCBGoaZIvIRM",
        "outputId": "9f2045ef-61a8-4237-8e45-35d81979b782"
      },
      "outputs": [
        {
          "name": "stdout",
          "output_type": "stream",
          "text": [
            "Collecting keras-tcn\n",
            "  Downloading keras_tcn-3.4.2-py3-none-any.whl (13 kB)\n",
            "Collecting tensorflow-addons\n",
            "  Downloading tensorflow_addons-0.16.1-cp37-cp37m-manylinux_2_12_x86_64.manylinux2010_x86_64.whl (1.1 MB)\n",
            "\u001b[K     |████████████████████████████████| 1.1 MB 5.3 MB/s \n",
            "\u001b[?25hRequirement already satisfied: tensorflow in /usr/local/lib/python3.7/dist-packages (from keras-tcn) (2.8.0)\n",
            "Requirement already satisfied: numpy in /usr/local/lib/python3.7/dist-packages (from keras-tcn) (1.21.5)\n",
            "Requirement already satisfied: grpcio<2.0,>=1.24.3 in /usr/local/lib/python3.7/dist-packages (from tensorflow->keras-tcn) (1.44.0)\n",
            "Requirement already satisfied: termcolor>=1.1.0 in /usr/local/lib/python3.7/dist-packages (from tensorflow->keras-tcn) (1.1.0)\n",
            "Requirement already satisfied: flatbuffers>=1.12 in /usr/local/lib/python3.7/dist-packages (from tensorflow->keras-tcn) (2.0)\n",
            "Collecting tf-estimator-nightly==2.8.0.dev2021122109\n",
            "  Downloading tf_estimator_nightly-2.8.0.dev2021122109-py2.py3-none-any.whl (462 kB)\n",
            "\u001b[K     |████████████████████████████████| 462 kB 36.2 MB/s \n",
            "\u001b[?25hRequirement already satisfied: protobuf>=3.9.2 in /usr/local/lib/python3.7/dist-packages (from tensorflow->keras-tcn) (3.17.3)\n",
            "Requirement already satisfied: h5py>=2.9.0 in /usr/local/lib/python3.7/dist-packages (from tensorflow->keras-tcn) (3.1.0)\n",
            "Requirement already satisfied: typing-extensions>=3.6.6 in /usr/local/lib/python3.7/dist-packages (from tensorflow->keras-tcn) (3.10.0.2)\n",
            "Requirement already satisfied: tensorflow-io-gcs-filesystem>=0.23.1 in /usr/local/lib/python3.7/dist-packages (from tensorflow->keras-tcn) (0.24.0)\n",
            "Requirement already satisfied: keras<2.9,>=2.8.0rc0 in /usr/local/lib/python3.7/dist-packages (from tensorflow->keras-tcn) (2.8.0)\n",
            "Requirement already satisfied: opt-einsum>=2.3.2 in /usr/local/lib/python3.7/dist-packages (from tensorflow->keras-tcn) (3.3.0)\n",
            "Requirement already satisfied: tensorboard<2.9,>=2.8 in /usr/local/lib/python3.7/dist-packages (from tensorflow->keras-tcn) (2.8.0)\n",
            "Requirement already satisfied: wrapt>=1.11.0 in /usr/local/lib/python3.7/dist-packages (from tensorflow->keras-tcn) (1.14.0)\n",
            "Requirement already satisfied: astunparse>=1.6.0 in /usr/local/lib/python3.7/dist-packages (from tensorflow->keras-tcn) (1.6.3)\n",
            "Requirement already satisfied: libclang>=9.0.1 in /usr/local/lib/python3.7/dist-packages (from tensorflow->keras-tcn) (13.0.0)\n",
            "Requirement already satisfied: six>=1.12.0 in /usr/local/lib/python3.7/dist-packages (from tensorflow->keras-tcn) (1.15.0)\n",
            "Requirement already satisfied: gast>=0.2.1 in /usr/local/lib/python3.7/dist-packages (from tensorflow->keras-tcn) (0.5.3)\n",
            "Requirement already satisfied: setuptools in /usr/local/lib/python3.7/dist-packages (from tensorflow->keras-tcn) (57.4.0)\n",
            "Requirement already satisfied: absl-py>=0.4.0 in /usr/local/lib/python3.7/dist-packages (from tensorflow->keras-tcn) (1.0.0)\n",
            "Requirement already satisfied: google-pasta>=0.1.1 in /usr/local/lib/python3.7/dist-packages (from tensorflow->keras-tcn) (0.2.0)\n",
            "Requirement already satisfied: keras-preprocessing>=1.1.1 in /usr/local/lib/python3.7/dist-packages (from tensorflow->keras-tcn) (1.1.2)\n",
            "Requirement already satisfied: wheel<1.0,>=0.23.0 in /usr/local/lib/python3.7/dist-packages (from astunparse>=1.6.0->tensorflow->keras-tcn) (0.37.1)\n",
            "Requirement already satisfied: cached-property in /usr/local/lib/python3.7/dist-packages (from h5py>=2.9.0->tensorflow->keras-tcn) (1.5.2)\n",
            "Requirement already satisfied: tensorboard-plugin-wit>=1.6.0 in /usr/local/lib/python3.7/dist-packages (from tensorboard<2.9,>=2.8->tensorflow->keras-tcn) (1.8.1)\n",
            "Requirement already satisfied: requests<3,>=2.21.0 in /usr/local/lib/python3.7/dist-packages (from tensorboard<2.9,>=2.8->tensorflow->keras-tcn) (2.23.0)\n",
            "Requirement already satisfied: google-auth<3,>=1.6.3 in /usr/local/lib/python3.7/dist-packages (from tensorboard<2.9,>=2.8->tensorflow->keras-tcn) (1.35.0)\n",
            "Requirement already satisfied: werkzeug>=0.11.15 in /usr/local/lib/python3.7/dist-packages (from tensorboard<2.9,>=2.8->tensorflow->keras-tcn) (1.0.1)\n",
            "Requirement already satisfied: google-auth-oauthlib<0.5,>=0.4.1 in /usr/local/lib/python3.7/dist-packages (from tensorboard<2.9,>=2.8->tensorflow->keras-tcn) (0.4.6)\n",
            "Requirement already satisfied: markdown>=2.6.8 in /usr/local/lib/python3.7/dist-packages (from tensorboard<2.9,>=2.8->tensorflow->keras-tcn) (3.3.6)\n",
            "Requirement already satisfied: tensorboard-data-server<0.7.0,>=0.6.0 in /usr/local/lib/python3.7/dist-packages (from tensorboard<2.9,>=2.8->tensorflow->keras-tcn) (0.6.1)\n",
            "Requirement already satisfied: rsa<5,>=3.1.4 in /usr/local/lib/python3.7/dist-packages (from google-auth<3,>=1.6.3->tensorboard<2.9,>=2.8->tensorflow->keras-tcn) (4.8)\n",
            "Requirement already satisfied: pyasn1-modules>=0.2.1 in /usr/local/lib/python3.7/dist-packages (from google-auth<3,>=1.6.3->tensorboard<2.9,>=2.8->tensorflow->keras-tcn) (0.2.8)\n",
            "Requirement already satisfied: cachetools<5.0,>=2.0.0 in /usr/local/lib/python3.7/dist-packages (from google-auth<3,>=1.6.3->tensorboard<2.9,>=2.8->tensorflow->keras-tcn) (4.2.4)\n",
            "Requirement already satisfied: requests-oauthlib>=0.7.0 in /usr/local/lib/python3.7/dist-packages (from google-auth-oauthlib<0.5,>=0.4.1->tensorboard<2.9,>=2.8->tensorflow->keras-tcn) (1.3.1)\n",
            "Requirement already satisfied: importlib-metadata>=4.4 in /usr/local/lib/python3.7/dist-packages (from markdown>=2.6.8->tensorboard<2.9,>=2.8->tensorflow->keras-tcn) (4.11.3)\n",
            "Requirement already satisfied: zipp>=0.5 in /usr/local/lib/python3.7/dist-packages (from importlib-metadata>=4.4->markdown>=2.6.8->tensorboard<2.9,>=2.8->tensorflow->keras-tcn) (3.7.0)\n",
            "Requirement already satisfied: pyasn1<0.5.0,>=0.4.6 in /usr/local/lib/python3.7/dist-packages (from pyasn1-modules>=0.2.1->google-auth<3,>=1.6.3->tensorboard<2.9,>=2.8->tensorflow->keras-tcn) (0.4.8)\n",
            "Requirement already satisfied: urllib3!=1.25.0,!=1.25.1,<1.26,>=1.21.1 in /usr/local/lib/python3.7/dist-packages (from requests<3,>=2.21.0->tensorboard<2.9,>=2.8->tensorflow->keras-tcn) (1.24.3)\n",
            "Requirement already satisfied: chardet<4,>=3.0.2 in /usr/local/lib/python3.7/dist-packages (from requests<3,>=2.21.0->tensorboard<2.9,>=2.8->tensorflow->keras-tcn) (3.0.4)\n",
            "Requirement already satisfied: idna<3,>=2.5 in /usr/local/lib/python3.7/dist-packages (from requests<3,>=2.21.0->tensorboard<2.9,>=2.8->tensorflow->keras-tcn) (2.10)\n",
            "Requirement already satisfied: certifi>=2017.4.17 in /usr/local/lib/python3.7/dist-packages (from requests<3,>=2.21.0->tensorboard<2.9,>=2.8->tensorflow->keras-tcn) (2021.10.8)\n",
            "Requirement already satisfied: oauthlib>=3.0.0 in /usr/local/lib/python3.7/dist-packages (from requests-oauthlib>=0.7.0->google-auth-oauthlib<0.5,>=0.4.1->tensorboard<2.9,>=2.8->tensorflow->keras-tcn) (3.2.0)\n",
            "Requirement already satisfied: typeguard>=2.7 in /usr/local/lib/python3.7/dist-packages (from tensorflow-addons->keras-tcn) (2.7.1)\n",
            "Installing collected packages: tf-estimator-nightly, tensorflow-addons, keras-tcn\n",
            "Successfully installed keras-tcn-3.4.2 tensorflow-addons-0.16.1 tf-estimator-nightly-2.8.0.dev2021122109\n"
          ]
        }
      ],
      "source": [
        "pip install keras-tcn"
      ]
    },
    {
      "cell_type": "code",
      "execution_count": null,
      "metadata": {
        "colab": {
          "base_uri": "https://localhost:8080/"
        },
        "id": "3CGvb7R6Ctu-",
        "outputId": "f5731ad8-63f1-4ff8-8a3c-fd027d8cca11"
      },
      "outputs": [
        {
          "name": "stdout",
          "output_type": "stream",
          "text": [
            "Mounted at /content/drive\n"
          ]
        }
      ],
      "source": [
        "'''\n",
        "from google.colab import drive \n",
        "drive.mount('/content/drive')\n",
        "'''"
      ]
    },
    {
      "cell_type": "code",
      "execution_count": null,
      "metadata": {
        "id": "8lION2m9CyTJ"
      },
      "outputs": [],
      "source": [
        "import tensorflow as tf\n",
        "import keras\n",
        "from tensorflow.keras import regularizers, optimizers\n",
        "from tensorflow.keras.utils import to_categorical\n",
        "from keras import losses\n",
        "from keras.models import Sequential, Model, load_model\n",
        "from keras.layers import Dense, Input, Dropout, Embedding, LSTM, Flatten, Conv1D, Dense, Flatten, Activation, UpSampling1D, MaxPooling1D, ZeroPadding1D\n",
        "from keras.preprocessing import sequence\n",
        "from keras.callbacks import ModelCheckpoint, TensorBoard\n",
        "from keras.utils.vis_utils import plot_model\n",
        "import sklearn\n",
        "from sklearn.preprocessing import StandardScaler, MinMaxScaler\n",
        "from sklearn.model_selection import train_test_split\n",
        "from sklearn.metrics import confusion_matrix, roc_auc_score, roc_auc_score, classification_report\n",
        "from tcn import TCN, tcn_full_summary\n",
        "\n",
        "import sys\n",
        "from tqdm import tqdm\n",
        "import os \n",
        "import seaborn as sns\n",
        "import pandas as pd\n",
        "import numpy as np\n",
        "\n",
        "import matplotlib\n",
        "from matplotlib import pyplot as plt\n",
        "import matplotlib.pyplot as plt\n",
        "import matplotlib.gridspec as gridspec\n",
        "%matplotlib inline\n",
        " \n"
      ]
    },
    {
      "cell_type": "code",
      "execution_count": null,
      "metadata": {
        "id": "JskKFg0sC2-K"
      },
      "outputs": [],
      "source": [
        "df= pd.read_csv('Data/dataset_full.csv' , sep = ',')"
      ]
    },
    {
      "cell_type": "code",
      "execution_count": null,
      "metadata": {
        "id": "LCmTrZZwQXaC"
      },
      "outputs": [],
      "source": [
        "df.dtypes == 'int64'\n",
        "def remove_negatives(df):\n",
        "    df[df == -1] = 0\n",
        "remove_negatives(df)"
      ]
    },
    {
      "cell_type": "code",
      "execution_count": null,
      "metadata": {
        "id": "QukaBsrZDYsD"
      },
      "outputs": [],
      "source": [
        "dataset = df.values\n",
        "input_x = dataset[:,:-1]\n",
        "output_x = dataset[:, -1]\n"
      ]
    },
    {
      "cell_type": "code",
      "execution_count": null,
      "metadata": {
        "id": "gBFHPvcR-TBG"
      },
      "outputs": [],
      "source": [
        "from imblearn.over_sampling import SMOTE\n",
        "oversample = SMOTE(sampling_strategy='all')\n",
        "X, y = oversample.fit_resample(input_x, output_x)"
      ]
    },
    {
      "cell_type": "code",
      "execution_count": null,
      "metadata": {
        "id": "zypOVN11DhfO"
      },
      "outputs": [],
      "source": [
        "validation_size = 0.25\n",
        "x_train, x_test, y_train, y_test = train_test_split(X , y, test_size=validation_size,shuffle=True)"
      ]
    },
    {
      "cell_type": "code",
      "execution_count": null,
      "metadata": {
        "id": "cvsq0AqMDxkC"
      },
      "outputs": [],
      "source": [
        "x_train = np.array(x_train).reshape(x_train.shape[0], x_train.shape[1], 1)\n",
        "x_test = np.array(x_test).reshape(x_test.shape[0], x_test.shape[1], 1)\n",
        "input_shape = (x_train.shape[1], 1)\n"
      ]
    },
    {
      "cell_type": "code",
      "execution_count": null,
      "metadata": {
        "id": "7rY9XySfEMTa"
      },
      "outputs": [],
      "source": [
        "from tensorflow.keras.utils import to_categorical\n",
        "y_train = to_categorical(y_train, 2)\n",
        "y_test = to_categorical(y_test, 2)"
      ]
    },
    {
      "cell_type": "code",
      "execution_count": null,
      "metadata": {
        "colab": {
          "base_uri": "https://localhost:8080/"
        },
        "id": "evVdZ6x4E5S1",
        "outputId": "b0d17596-8295-4ac7-e91d-6467db7486e8"
      },
      "outputs": [
        {
          "name": "stdout",
          "output_type": "stream",
          "text": [
            "Shapes:\n",
            "x_train:(87000, 111, 1)\n",
            "y_train:(87000, 2)\n",
            "\n",
            "x_test:(29000, 111, 1)\n",
            "y_test:(29000, 2)\n",
            "\n",
            "input_shape:(111, 1)\n",
            "\n"
          ]
        }
      ],
      "source": [
        "print(\"Shapes:\\nx_train:%s\\ny_train:%s\\n\" % (x_train.shape, y_train.shape))\n",
        "print(\"x_test:%s\\ny_test:%s\\n\" % (x_test.shape, y_test.shape))\n",
        "print(\"input_shape:{}\\n\".format(input_shape))"
      ]
    },
    {
      "cell_type": "code",
      "execution_count": null,
      "metadata": {
        "colab": {
          "base_uri": "https://localhost:8080/"
        },
        "id": "-mRYWjDvrkni",
        "outputId": "5cf7ff98-f337-46e8-c929-6bcf3f2f88e7"
      },
      "outputs": [
        {
          "name": "stderr",
          "output_type": "stream",
          "text": [
            "/usr/local/lib/python3.7/dist-packages/keras/optimizer_v2/adam.py:105: UserWarning: The `lr` argument is deprecated, use `learning_rate` instead.\n",
            "  super(Adam, self).__init__(name, **kwargs)\n"
          ]
        }
      ],
      "source": [
        "input_layer = Input(shape=(input_shape ))\n",
        "batch_size, time_steps, input_dim = None, 111, 1\n",
        "\n",
        "tcn_layer = TCN(input_shape=(time_steps, input_dim))\n",
        "m3 = Sequential([\n",
        "    tcn_layer,\n",
        "    Dense(2, activation='softmax')\n",
        "])\n",
        "\n",
        "m3.compile(loss=\"binary_crossentropy\",\n",
        "            optimizer=tf.keras.optimizers.Adam(lr = 10e-4)  ,\n",
        "       metrics=[\"accuracy\"])"
      ]
    },
    {
      "cell_type": "code",
      "execution_count": null,
      "metadata": {
        "colab": {
          "base_uri": "https://localhost:8080/"
        },
        "id": "v-AjygUxtIBU",
        "outputId": "843edd64-1998-49d0-e405-485c915125d3"
      },
      "outputs": [
        {
          "name": "stdout",
          "output_type": "stream",
          "text": [
            "Epoch 1/100\n",
            "680/680 [==============================] - 50s 55ms/step - loss: 221.0266 - accuracy: 0.8691 - val_loss: 49.0045 - val_accuracy: 0.9237\n",
            "Epoch 2/100\n",
            "680/680 [==============================] - 35s 51ms/step - loss: 25.0219 - accuracy: 0.9129 - val_loss: 10.8083 - val_accuracy: 0.8926\n",
            "Epoch 3/100\n",
            "680/680 [==============================] - 35s 51ms/step - loss: 11.1630 - accuracy: 0.9189 - val_loss: 23.4870 - val_accuracy: 0.9189\n",
            "Epoch 4/100\n",
            "680/680 [==============================] - 35s 51ms/step - loss: 5.3783 - accuracy: 0.9225 - val_loss: 2.1483 - val_accuracy: 0.9324\n",
            "Epoch 5/100\n",
            "680/680 [==============================] - 35s 52ms/step - loss: 2.2337 - accuracy: 0.9261 - val_loss: 1.1769 - val_accuracy: 0.9316\n",
            "Epoch 6/100\n",
            "680/680 [==============================] - 35s 51ms/step - loss: 0.6752 - accuracy: 0.9279 - val_loss: 0.3612 - val_accuracy: 0.9279\n",
            "Epoch 7/100\n",
            "680/680 [==============================] - 34s 51ms/step - loss: 0.2730 - accuracy: 0.9360 - val_loss: 0.1757 - val_accuracy: 0.9442\n",
            "Epoch 8/100\n",
            "680/680 [==============================] - 35s 51ms/step - loss: 0.2070 - accuracy: 0.9411 - val_loss: 0.1940 - val_accuracy: 0.9383\n",
            "Epoch 9/100\n",
            "680/680 [==============================] - 34s 51ms/step - loss: 0.1807 - accuracy: 0.9443 - val_loss: 0.1693 - val_accuracy: 0.9429\n",
            "Epoch 10/100\n",
            "680/680 [==============================] - 34s 51ms/step - loss: 0.1956 - accuracy: 0.9433 - val_loss: 0.1348 - val_accuracy: 0.9491\n",
            "Epoch 11/100\n",
            "680/680 [==============================] - 34s 51ms/step - loss: 0.1888 - accuracy: 0.9445 - val_loss: 0.1485 - val_accuracy: 0.9492\n",
            "Epoch 12/100\n",
            "680/680 [==============================] - 34s 51ms/step - loss: 0.1373 - accuracy: 0.9505 - val_loss: 0.1295 - val_accuracy: 0.9541\n",
            "Epoch 13/100\n",
            "680/680 [==============================] - 35s 51ms/step - loss: 1.7235 - accuracy: 0.9354 - val_loss: 0.2247 - val_accuracy: 0.9344\n",
            "Epoch 14/100\n",
            "680/680 [==============================] - 34s 51ms/step - loss: 0.1576 - accuracy: 0.9447 - val_loss: 0.1483 - val_accuracy: 0.9455\n",
            "Epoch 15/100\n",
            "680/680 [==============================] - 34s 50ms/step - loss: 0.1410 - accuracy: 0.9484 - val_loss: 0.1401 - val_accuracy: 0.9442\n",
            "Epoch 16/100\n",
            "680/680 [==============================] - 34s 51ms/step - loss: 0.1349 - accuracy: 0.9504 - val_loss: 0.1257 - val_accuracy: 0.9502\n",
            "Epoch 17/100\n",
            "680/680 [==============================] - 34s 51ms/step - loss: 0.1312 - accuracy: 0.9529 - val_loss: 0.1217 - val_accuracy: 0.9556\n",
            "Epoch 18/100\n",
            "680/680 [==============================] - 35s 52ms/step - loss: 0.1262 - accuracy: 0.9542 - val_loss: 0.1404 - val_accuracy: 0.9519\n",
            "Epoch 19/100\n",
            "680/680 [==============================] - 35s 51ms/step - loss: 0.1264 - accuracy: 0.9546 - val_loss: 0.1346 - val_accuracy: 0.9526\n",
            "Epoch 20/100\n",
            "680/680 [==============================] - 35s 51ms/step - loss: 0.1225 - accuracy: 0.9553 - val_loss: 0.1339 - val_accuracy: 0.9459\n",
            "Epoch 21/100\n",
            "680/680 [==============================] - 35s 51ms/step - loss: 0.1202 - accuracy: 0.9556 - val_loss: 0.1154 - val_accuracy: 0.9567\n",
            "Epoch 22/100\n",
            "680/680 [==============================] - 35s 51ms/step - loss: 0.4482 - accuracy: 0.9407 - val_loss: 0.1773 - val_accuracy: 0.9369\n",
            "Epoch 23/100\n",
            "680/680 [==============================] - 35s 51ms/step - loss: 0.1443 - accuracy: 0.9469 - val_loss: 0.1295 - val_accuracy: 0.9460\n",
            "Epoch 24/100\n",
            "680/680 [==============================] - 35s 51ms/step - loss: 0.1280 - accuracy: 0.9533 - val_loss: 0.1161 - val_accuracy: 0.9565\n",
            "Epoch 25/100\n",
            "680/680 [==============================] - 35s 51ms/step - loss: 0.1213 - accuracy: 0.9555 - val_loss: 0.1139 - val_accuracy: 0.9559\n",
            "Epoch 26/100\n",
            "680/680 [==============================] - 36s 53ms/step - loss: 0.1175 - accuracy: 0.9560 - val_loss: 0.1205 - val_accuracy: 0.9556\n",
            "Epoch 27/100\n",
            "680/680 [==============================] - 34s 51ms/step - loss: 0.1154 - accuracy: 0.9573 - val_loss: 0.1086 - val_accuracy: 0.9602\n",
            "Epoch 28/100\n",
            "680/680 [==============================] - 34s 51ms/step - loss: 0.1112 - accuracy: 0.9589 - val_loss: 0.1109 - val_accuracy: 0.9599\n",
            "Epoch 29/100\n",
            "680/680 [==============================] - 35s 51ms/step - loss: 0.1102 - accuracy: 0.9589 - val_loss: 0.1049 - val_accuracy: 0.9610\n",
            "Epoch 30/100\n",
            "680/680 [==============================] - 35s 51ms/step - loss: 0.1070 - accuracy: 0.9602 - val_loss: 0.1064 - val_accuracy: 0.9594\n",
            "Epoch 31/100\n",
            "680/680 [==============================] - 35s 51ms/step - loss: 0.1239 - accuracy: 0.9559 - val_loss: 0.1505 - val_accuracy: 0.9423\n",
            "Epoch 32/100\n",
            "680/680 [==============================] - 35s 51ms/step - loss: 0.1695 - accuracy: 0.9456 - val_loss: 0.1303 - val_accuracy: 0.9521\n",
            "Epoch 33/100\n",
            "680/680 [==============================] - 35s 51ms/step - loss: 0.1400 - accuracy: 0.9515 - val_loss: 0.1313 - val_accuracy: 0.9514\n",
            "Epoch 34/100\n",
            "680/680 [==============================] - 35s 51ms/step - loss: 0.1194 - accuracy: 0.9550 - val_loss: 0.1218 - val_accuracy: 0.9542\n",
            "Epoch 35/100\n",
            "680/680 [==============================] - 35s 51ms/step - loss: 0.1186 - accuracy: 0.9552 - val_loss: 0.1273 - val_accuracy: 0.9531\n",
            "Epoch 36/100\n",
            "680/680 [==============================] - 35s 51ms/step - loss: 0.1180 - accuracy: 0.9556 - val_loss: 0.1162 - val_accuracy: 0.9560\n",
            "Epoch 37/100\n",
            "680/680 [==============================] - 34s 51ms/step - loss: 0.1116 - accuracy: 0.9579 - val_loss: 0.1296 - val_accuracy: 0.9556\n",
            "Epoch 38/100\n",
            "680/680 [==============================] - 35s 51ms/step - loss: 0.1120 - accuracy: 0.9579 - val_loss: 0.1238 - val_accuracy: 0.9534\n",
            "Epoch 39/100\n",
            "680/680 [==============================] - 36s 53ms/step - loss: 0.1088 - accuracy: 0.9579 - val_loss: 0.1221 - val_accuracy: 0.9550\n",
            "Epoch 40/100\n",
            "680/680 [==============================] - 34s 51ms/step - loss: 0.1088 - accuracy: 0.9596 - val_loss: 0.1126 - val_accuracy: 0.9588\n",
            "Epoch 41/100\n",
            "680/680 [==============================] - 35s 51ms/step - loss: 0.1066 - accuracy: 0.9601 - val_loss: 0.1302 - val_accuracy: 0.9514\n",
            "Epoch 42/100\n",
            "680/680 [==============================] - 35s 52ms/step - loss: 0.1066 - accuracy: 0.9601 - val_loss: 0.1171 - val_accuracy: 0.9558\n",
            "Epoch 43/100\n",
            "680/680 [==============================] - 35s 51ms/step - loss: 0.1035 - accuracy: 0.9603 - val_loss: 0.1150 - val_accuracy: 0.9573\n",
            "Epoch 44/100\n",
            "680/680 [==============================] - 35s 51ms/step - loss: 0.1011 - accuracy: 0.9618 - val_loss: 0.1159 - val_accuracy: 0.9563\n",
            "Epoch 45/100\n",
            "680/680 [==============================] - 35s 51ms/step - loss: 0.1010 - accuracy: 0.9620 - val_loss: 0.1094 - val_accuracy: 0.9588\n",
            "Epoch 46/100\n",
            "680/680 [==============================] - 35s 51ms/step - loss: 0.1038 - accuracy: 0.9621 - val_loss: 0.1128 - val_accuracy: 0.9583\n",
            "Epoch 47/100\n",
            "680/680 [==============================] - 35s 51ms/step - loss: 0.0981 - accuracy: 0.9626 - val_loss: 0.1079 - val_accuracy: 0.9593\n",
            "Epoch 48/100\n",
            "680/680 [==============================] - 35s 51ms/step - loss: 0.1079 - accuracy: 0.9615 - val_loss: 0.1151 - val_accuracy: 0.9562\n",
            "Epoch 49/100\n",
            "680/680 [==============================] - 35s 51ms/step - loss: 0.0995 - accuracy: 0.9632 - val_loss: 0.1035 - val_accuracy: 0.9626\n",
            "Epoch 50/100\n",
            "680/680 [==============================] - 35s 51ms/step - loss: 0.0910 - accuracy: 0.9654 - val_loss: 0.1007 - val_accuracy: 0.9630\n",
            "Epoch 51/100\n",
            "680/680 [==============================] - 35s 51ms/step - loss: 0.0910 - accuracy: 0.9655 - val_loss: 0.1051 - val_accuracy: 0.9618\n",
            "Epoch 52/100\n",
            "680/680 [==============================] - 35s 51ms/step - loss: 0.0921 - accuracy: 0.9651 - val_loss: 0.1052 - val_accuracy: 0.9610\n",
            "Epoch 53/100\n",
            "680/680 [==============================] - 35s 51ms/step - loss: 0.0902 - accuracy: 0.9667 - val_loss: 0.1040 - val_accuracy: 0.9614\n",
            "Epoch 54/100\n",
            "680/680 [==============================] - 35s 51ms/step - loss: 0.0883 - accuracy: 0.9666 - val_loss: 0.1066 - val_accuracy: 0.9611\n",
            "Epoch 55/100\n",
            "680/680 [==============================] - 35s 51ms/step - loss: 0.0909 - accuracy: 0.9667 - val_loss: 0.1042 - val_accuracy: 0.9617\n",
            "Epoch 56/100\n",
            "680/680 [==============================] - 35s 51ms/step - loss: 0.2853 - accuracy: 0.9634 - val_loss: 0.1276 - val_accuracy: 0.9541\n",
            "Epoch 57/100\n",
            "680/680 [==============================] - 34s 51ms/step - loss: 0.1003 - accuracy: 0.9622 - val_loss: 0.1086 - val_accuracy: 0.9613\n",
            "Epoch 58/100\n",
            "680/680 [==============================] - 34s 51ms/step - loss: 0.0923 - accuracy: 0.9651 - val_loss: 0.1076 - val_accuracy: 0.9614\n",
            "Epoch 59/100\n",
            "680/680 [==============================] - 35s 51ms/step - loss: 0.0880 - accuracy: 0.9662 - val_loss: 0.1134 - val_accuracy: 0.9578\n",
            "Epoch 60/100\n",
            "680/680 [==============================] - 35s 51ms/step - loss: 0.0854 - accuracy: 0.9677 - val_loss: 0.1071 - val_accuracy: 0.9618\n",
            "Epoch 61/100\n",
            "680/680 [==============================] - 35s 51ms/step - loss: 0.0905 - accuracy: 0.9672 - val_loss: 0.1086 - val_accuracy: 0.9620\n",
            "Epoch 62/100\n",
            "680/680 [==============================] - 35s 51ms/step - loss: 0.0835 - accuracy: 0.9688 - val_loss: 0.1077 - val_accuracy: 0.9614\n",
            "Epoch 63/100\n",
            "680/680 [==============================] - 34s 51ms/step - loss: 0.0840 - accuracy: 0.9689 - val_loss: 0.1078 - val_accuracy: 0.9613\n",
            "Epoch 64/100\n",
            "680/680 [==============================] - 35s 51ms/step - loss: 0.0821 - accuracy: 0.9691 - val_loss: 0.1048 - val_accuracy: 0.9622\n",
            "Epoch 65/100\n",
            "680/680 [==============================] - 35s 51ms/step - loss: 0.0792 - accuracy: 0.9700 - val_loss: 0.1103 - val_accuracy: 0.9622\n",
            "Epoch 66/100\n",
            "680/680 [==============================] - 35s 51ms/step - loss: 0.0774 - accuracy: 0.9707 - val_loss: 0.1116 - val_accuracy: 0.9593\n",
            "Epoch 67/100\n",
            "680/680 [==============================] - 35s 51ms/step - loss: 0.0833 - accuracy: 0.9689 - val_loss: 0.1079 - val_accuracy: 0.9617\n",
            "Epoch 68/100\n",
            "680/680 [==============================] - 35s 51ms/step - loss: 0.0822 - accuracy: 0.9692 - val_loss: 0.1148 - val_accuracy: 0.9602\n",
            "Epoch 69/100\n",
            "680/680 [==============================] - 35s 51ms/step - loss: 0.0778 - accuracy: 0.9705 - val_loss: 0.1078 - val_accuracy: 0.9619\n",
            "Epoch 70/100\n",
            "680/680 [==============================] - 35s 51ms/step - loss: 0.0754 - accuracy: 0.9716 - val_loss: 0.1081 - val_accuracy: 0.9609\n",
            "Epoch 71/100\n",
            "680/680 [==============================] - 35s 51ms/step - loss: 0.0779 - accuracy: 0.9709 - val_loss: 0.1123 - val_accuracy: 0.9609\n",
            "Epoch 72/100\n",
            "680/680 [==============================] - 35s 51ms/step - loss: 0.0760 - accuracy: 0.9714 - val_loss: 0.1053 - val_accuracy: 0.9632\n",
            "Epoch 73/100\n",
            "680/680 [==============================] - 35s 51ms/step - loss: 0.0798 - accuracy: 0.9709 - val_loss: 0.1094 - val_accuracy: 0.9616\n",
            "Epoch 74/100\n",
            "680/680 [==============================] - 35s 51ms/step - loss: 0.0725 - accuracy: 0.9720 - val_loss: 0.1166 - val_accuracy: 0.9599\n",
            "Epoch 75/100\n",
            "680/680 [==============================] - 35s 51ms/step - loss: 0.0739 - accuracy: 0.9726 - val_loss: 0.1059 - val_accuracy: 0.9629\n",
            "Epoch 76/100\n",
            "680/680 [==============================] - 34s 51ms/step - loss: 0.0719 - accuracy: 0.9730 - val_loss: 0.1136 - val_accuracy: 0.9618\n",
            "Epoch 77/100\n",
            "680/680 [==============================] - 35s 51ms/step - loss: 0.0739 - accuracy: 0.9724 - val_loss: 0.1104 - val_accuracy: 0.9612\n",
            "Epoch 78/100\n",
            "680/680 [==============================] - 35s 51ms/step - loss: 0.0721 - accuracy: 0.9725 - val_loss: 0.1102 - val_accuracy: 0.9620\n",
            "Epoch 79/100\n",
            "680/680 [==============================] - 35s 51ms/step - loss: 0.0709 - accuracy: 0.9736 - val_loss: 0.1171 - val_accuracy: 0.9603\n",
            "Epoch 80/100\n",
            "680/680 [==============================] - 35s 51ms/step - loss: 0.0706 - accuracy: 0.9736 - val_loss: 0.1113 - val_accuracy: 0.9629\n",
            "Epoch 81/100\n",
            "680/680 [==============================] - 35s 51ms/step - loss: 0.0696 - accuracy: 0.9735 - val_loss: 0.1229 - val_accuracy: 0.9616\n",
            "Epoch 82/100\n",
            "680/680 [==============================] - 35s 51ms/step - loss: 0.0724 - accuracy: 0.9737 - val_loss: 0.1165 - val_accuracy: 0.9606\n",
            "Epoch 83/100\n",
            "680/680 [==============================] - 35s 51ms/step - loss: 0.0697 - accuracy: 0.9736 - val_loss: 0.1173 - val_accuracy: 0.9619\n",
            "Epoch 84/100\n",
            "680/680 [==============================] - 35s 51ms/step - loss: 0.0715 - accuracy: 0.9745 - val_loss: 0.1131 - val_accuracy: 0.9616\n",
            "Epoch 85/100\n",
            "680/680 [==============================] - 35s 52ms/step - loss: 0.0653 - accuracy: 0.9754 - val_loss: 0.1138 - val_accuracy: 0.9628\n",
            "Epoch 86/100\n",
            "680/680 [==============================] - 35s 51ms/step - loss: 0.0629 - accuracy: 0.9764 - val_loss: 0.1149 - val_accuracy: 0.9621\n",
            "Epoch 87/100\n",
            "680/680 [==============================] - 35s 51ms/step - loss: 0.0655 - accuracy: 0.9758 - val_loss: 0.1147 - val_accuracy: 0.9631\n",
            "Epoch 88/100\n",
            "680/680 [==============================] - 35s 51ms/step - loss: 0.0668 - accuracy: 0.9753 - val_loss: 0.1126 - val_accuracy: 0.9644\n",
            "Epoch 89/100\n",
            "680/680 [==============================] - 35s 51ms/step - loss: 0.0634 - accuracy: 0.9760 - val_loss: 0.1137 - val_accuracy: 0.9637\n",
            "Epoch 90/100\n",
            "680/680 [==============================] - 35s 51ms/step - loss: 0.0684 - accuracy: 0.9755 - val_loss: 0.1229 - val_accuracy: 0.9628\n",
            "Epoch 91/100\n",
            "680/680 [==============================] - 35s 51ms/step - loss: 0.0675 - accuracy: 0.9766 - val_loss: 0.1136 - val_accuracy: 0.9635\n",
            "Epoch 92/100\n",
            "680/680 [==============================] - 35s 51ms/step - loss: 0.0583 - accuracy: 0.9784 - val_loss: 0.1188 - val_accuracy: 0.9634\n",
            "Epoch 93/100\n",
            "680/680 [==============================] - 35s 51ms/step - loss: 0.0599 - accuracy: 0.9779 - val_loss: 0.1209 - val_accuracy: 0.9638\n",
            "Epoch 94/100\n",
            "680/680 [==============================] - 35s 51ms/step - loss: 0.0592 - accuracy: 0.9773 - val_loss: 0.1201 - val_accuracy: 0.9625\n",
            "Epoch 95/100\n",
            "680/680 [==============================] - 35s 51ms/step - loss: 0.0663 - accuracy: 0.9755 - val_loss: 0.1195 - val_accuracy: 0.9612\n",
            "Epoch 96/100\n",
            "680/680 [==============================] - 34s 51ms/step - loss: 0.0610 - accuracy: 0.9769 - val_loss: 0.1220 - val_accuracy: 0.9639\n",
            "Epoch 97/100\n",
            "680/680 [==============================] - 35s 51ms/step - loss: 0.0608 - accuracy: 0.9773 - val_loss: 0.1212 - val_accuracy: 0.9619\n",
            "Epoch 98/100\n",
            "680/680 [==============================] - 34s 51ms/step - loss: 0.0604 - accuracy: 0.9773 - val_loss: 0.1232 - val_accuracy: 0.9618\n",
            "Epoch 99/100\n",
            "680/680 [==============================] - 34s 51ms/step - loss: 0.0681 - accuracy: 0.9746 - val_loss: 0.1205 - val_accuracy: 0.9642\n",
            "Epoch 100/100\n",
            "680/680 [==============================] - 34s 51ms/step - loss: 0.0585 - accuracy: 0.9782 - val_loss: 0.1259 - val_accuracy: 0.9631\n"
          ]
        }
      ],
      "source": [
        "history=m3.fit(x_train, y_train,\n",
        "          batch_size=128,\n",
        "          epochs=100,\n",
        "          verbose=1,\n",
        "          validation_data=(x_test, y_test))"
      ]
    },
    {
      "cell_type": "code",
      "execution_count": null,
      "metadata": {
        "colab": {
          "base_uri": "https://localhost:8080/",
          "height": 295
        },
        "id": "-pwTTjf0bx2f",
        "outputId": "12e2d618-1d76-4714-9a91-fdd153831270"
      },
      "outputs": [
        {
          "data": {
            "image/png": "[encoded data removed]",
            "text/plain": [
              "<Figure size 432x288 with 1 Axes>"
            ]
          },
          "metadata": {
            "needs_background": "light"
          },
          "output_type": "display_data"
        }
      ],
      "source": [
        " # summarize history for accuracy\n",
        "plt.plot(history.history['accuracy'])\n",
        "plt.plot(history.history['val_accuracy'])\n",
        "plt.title('model accuracy')\n",
        "plt.ylabel('accuracy')\n",
        "plt.xlabel('epoch')\n",
        "plt.legend(['train', 'validation'], loc='upper left')\n",
        "plt.show()"
      ]
    },
    {
      "cell_type": "code",
      "execution_count": null,
      "metadata": {
        "colab": {
          "base_uri": "https://localhost:8080/",
          "height": 295
        },
        "id": "RRD63csjb49S",
        "outputId": "e4d594bf-114d-4fff-eae4-8510dd35e9a0"
      },
      "outputs": [
        {
          "data": {
            "image/png": "[encoded data removed]",
            "text/plain": [
              "<Figure size 432x288 with 1 Axes>"
            ]
          },
          "metadata": {
            "needs_background": "light"
          },
          "output_type": "display_data"
        }
      ],
      "source": [
        "# summarize history for loss\n",
        "plt.plot(history.history['loss'])\n",
        "plt.plot(history.history['val_loss'])\n",
        "plt.title('model loss')\n",
        "plt.ylabel('loss')\n",
        "plt.xlabel('epoch')\n",
        "plt.legend(['train', 'validation'], loc='upper left')\n",
        "plt.show()"
      ]
    },
    {
      "cell_type": "code",
      "execution_count": null,
      "metadata": {
        "colab": {
          "base_uri": "https://localhost:8080/"
        },
        "id": "GGQfvIUWJ9J9",
        "outputId": "186f4af0-8b4b-4412-da04-fe475bac4c8a"
      },
      "outputs": [
        {
          "name": "stdout",
          "output_type": "stream",
          "text": [
            "Test loss: 0.12594196200370789\n",
            "Test accuracy: 0.9631034731864929\n"
          ]
        }
      ],
      "source": [
        "score = m3.evaluate(x_test, y_test, verbose=0)\n",
        "print('Test loss:', score[0])\n",
        "print('Test accuracy:', score[1])"
      ]
    },
    {
      "cell_type": "code",
      "execution_count": null,
      "metadata": {
        "colab": {
          "base_uri": "https://localhost:8080/"
        },
        "id": "3xnCXPjICsrF",
        "outputId": "1e20a916-dc3f-4e4a-c08c-fa5f2fd69d2d"
      },
      "outputs": [
        {
          "name": "stdout",
          "output_type": "stream",
          "text": [
            "[[0. 1.]\n",
            " [0. 1.]\n",
            " [0. 1.]\n",
            " ...\n",
            " [1. 0.]\n",
            " [1. 0.]\n",
            " [1. 0.]]\n",
            "AUC: 96.31%\n"
          ]
        }
      ],
      "source": [
        "preds = m3.predict(x_test)\n",
        "y_pred = np.round(preds)\n",
        "print(y_pred)\n",
        "auc = roc_auc_score( y_pred, y_test)\n",
        "print(\"AUC: {:.2%}\".format (auc))"
      ]
    },
    {
      "cell_type": "code",
      "execution_count": null,
      "metadata": {
        "colab": {
          "base_uri": "https://localhost:8080/"
        },
        "id": "uZhWAB8UKXV7",
        "outputId": "1a6de503-7751-4df0-f3e2-7eee5322b679"
      },
      "outputs": [
        {
          "data": {
            "text/plain": [
              "array([[13974,   540],\n",
              "       [  530, 13956]])"
            ]
          },
          "execution_count": 21,
          "metadata": {},
          "output_type": "execute_result"
        }
      ],
      "source": [
        "from sklearn.metrics import confusion_matrix\n",
        "y_predict=np.argmax(y_pred,axis=-1)\n",
        "y=np.argmax(y_test,axis=-1)\n",
        "cnf_matrix = confusion_matrix(y_predict, y)\n",
        "cnf_matrix"
      ]
    },
    {
      "cell_type": "code",
      "execution_count": null,
      "metadata": {
        "colab": {
          "base_uri": "https://localhost:8080/",
          "height": 295
        },
        "id": "74gUbDZSKfo0",
        "outputId": "922b3123-eb7f-4e6f-ebc0-f819c29263b8"
      },
      "outputs": [
        {
          "data": {
            "image/png": "[encoded data removed]",
            "text/plain": [
              "<Figure size 432x288 with 2 Axes>"
            ]
          },
          "metadata": {
            "needs_background": "light"
          },
          "output_type": "display_data"
        }
      ],
      "source": [
        "import seaborn as sns\n",
        "ax= plt.subplot()\n",
        "sns.heatmap(cnf_matrix, annot=True, ax = ax,fmt=\"d\");\n",
        "ax.set_xlabel('Predicted labels');\n",
        "ax.set_ylabel('True labels'); \n",
        "ax.set_title('Confusion Matrix'); \n",
        "ax.xaxis.set_ticklabels(['legitime','phishing']);\n",
        "ax.yaxis.set_ticklabels(['legitime','phishing']);"
      ]
    },
    {
      "cell_type": "code",
      "execution_count": null,
      "metadata": {
        "colab": {
          "base_uri": "https://localhost:8080/"
        },
        "id": "PHKLB_0zKK5K",
        "outputId": "72b778de-5b18-43d2-e7d4-05ebf254119a"
      },
      "outputs": [
        {
          "name": "stdout",
          "output_type": "stream",
          "text": [
            "              precision    recall  f1-score   support\n",
            "\n",
            "           0       0.96      0.96      0.96     14504\n",
            "           1       0.96      0.96      0.96     14496\n",
            "\n",
            "   micro avg       0.96      0.96      0.96     29000\n",
            "   macro avg       0.96      0.96      0.96     29000\n",
            "weighted avg       0.96      0.96      0.96     29000\n",
            " samples avg       0.96      0.96      0.96     29000\n",
            "\n"
          ]
        }
      ],
      "source": [
        "print(classification_report(y_test, y_pred))"
      ]
    },
    {
      "cell_type": "code",
      "execution_count": null,
      "metadata": {
        "id": "zPocCWlL-UU9"
      },
      "outputs": [],
      "source": [
        "input_layer = Input(shape=(input_shape ))\n",
        "batch_size, time_steps, input_dim = None, 111, 1\n",
        "\n",
        "tcn_layer = TCN(input_shape=(time_steps, input_dim))\n",
        "m2 = Sequential([\n",
        "    tcn_layer,\n",
        "    Dense(2, activation='softmax')\n",
        "])"
      ]
    },
    {
      "cell_type": "code",
      "execution_count": null,
      "metadata": {
        "colab": {
          "base_uri": "https://localhost:8080/"
        },
        "id": "ZaX5N95wkVxD",
        "outputId": "2ec4e1e8-f593-48fa-a58b-2f6708e0383f"
      },
      "outputs": [
        {
          "name": "stderr",
          "output_type": "stream",
          "text": [
            "/usr/local/lib/python3.7/dist-packages/keras/optimizer_v2/adamax.py:90: UserWarning: The `lr` argument is deprecated, use `learning_rate` instead.\n",
            "  super(Adamax, self).__init__(name, **kwargs)\n"
          ]
        }
      ],
      "source": [
        "m2.compile(loss=\"binary_crossentropy\",\n",
        "              optimizer=tf.keras.optimizers.Adamax(lr = 10e-2)  ,\n",
        "           metrics=[\"accuracy\"])"
      ]
    },
    {
      "cell_type": "code",
      "execution_count": null,
      "metadata": {
        "colab": {
          "base_uri": "https://localhost:8080/"
        },
        "id": "wW0eTcJIklb9",
        "outputId": "6edf06ba-31be-4a6e-ea69-0b1e946f8313"
      },
      "outputs": [
        {
          "name": "stdout",
          "output_type": "stream",
          "text": [
            "Epoch 1/10\n",
            "680/680 [==============================] - 35s 52ms/step - loss: 0.2045 - accuracy: 0.9210 - val_loss: 0.2040 - val_accuracy: 0.9185\n",
            "Epoch 2/10\n",
            "680/680 [==============================] - 37s 54ms/step - loss: 0.2062 - accuracy: 0.9203 - val_loss: 0.2314 - val_accuracy: 0.9174\n",
            "Epoch 3/10\n",
            "680/680 [==============================] - 35s 51ms/step - loss: 0.2059 - accuracy: 0.9193 - val_loss: 0.1919 - val_accuracy: 0.9239\n",
            "Epoch 4/10\n",
            "680/680 [==============================] - 35s 52ms/step - loss: 0.2218 - accuracy: 0.9230 - val_loss: 0.2365 - val_accuracy: 0.9106\n",
            "Epoch 5/10\n",
            "680/680 [==============================] - 35s 51ms/step - loss: 0.2070 - accuracy: 0.9184 - val_loss: 0.2191 - val_accuracy: 0.9201\n",
            "Epoch 6/10\n",
            "680/680 [==============================] - 35s 51ms/step - loss: 0.1926 - accuracy: 0.9238 - val_loss: 0.1856 - val_accuracy: 0.9262\n",
            "Epoch 7/10\n",
            "680/680 [==============================] - 37s 54ms/step - loss: 0.1859 - accuracy: 0.9273 - val_loss: 0.1939 - val_accuracy: 0.9231\n",
            "Epoch 8/10\n",
            "680/680 [==============================] - 35s 51ms/step - loss: 0.2030 - accuracy: 0.9221 - val_loss: 0.2055 - val_accuracy: 0.9242\n",
            "Epoch 9/10\n",
            "680/680 [==============================] - 35s 51ms/step - loss: 0.2692 - accuracy: 0.9275 - val_loss: 0.1808 - val_accuracy: 0.9306\n",
            "Epoch 10/10\n",
            "680/680 [==============================] - 35s 51ms/step - loss: 0.1833 - accuracy: 0.9302 - val_loss: 0.1766 - val_accuracy: 0.9311\n"
          ]
        }
      ],
      "source": [
        "history=m2.fit(x_train, y_train,\n",
        "          batch_size=128,\n",
        "          epochs=10,\n",
        "          verbose=1,\n",
        "          validation_data=(x_test, y_test))"
      ]
    },
    {
      "cell_type": "code",
      "execution_count": null,
      "metadata": {
        "colab": {
          "base_uri": "https://localhost:8080/"
        },
        "id": "H4WodcLekrbn",
        "outputId": "8537231d-cf7a-47e2-d207-f9b6e66a1852"
      },
      "outputs": [
        {
          "name": "stdout",
          "output_type": "stream",
          "text": [
            "Test loss: 0.17662356793880463\n",
            "Test accuracy: 0.9310689568519592\n"
          ]
        }
      ],
      "source": [
        "score = m2.evaluate(x_test, y_test, verbose=0)\n",
        "print('Test loss:', score[0])\n",
        "print('Test accuracy:', score[1])"
      ]
    },
    {
      "cell_type": "code",
      "execution_count": null,
      "metadata": {
        "colab": {
          "base_uri": "https://localhost:8080/"
        },
        "id": "Z4DLS21Wkvt0",
        "outputId": "d6684f05-60a0-4a5c-f798-5d9834f5e18b"
      },
      "outputs": [
        {
          "name": "stdout",
          "output_type": "stream",
          "text": [
            "[[0. 1.]\n",
            " [0. 1.]\n",
            " [0. 1.]\n",
            " ...\n",
            " [1. 0.]\n",
            " [1. 0.]\n",
            " [1. 0.]]\n",
            "AUC: 93.14%\n"
          ]
        }
      ],
      "source": [
        "preds = m2.predict(x_test)\n",
        "y_pred = np.round(preds)\n",
        "print(y_pred)\n",
        "auc = roc_auc_score( y_pred, y_test)\n",
        "print(\"AUC: {:.2%}\".format (auc))"
      ]
    },
    {
      "cell_type": "code",
      "execution_count": null,
      "metadata": {
        "colab": {
          "base_uri": "https://localhost:8080/"
        },
        "id": "jn4UHSeDk4CO",
        "outputId": "1bad606e-8424-4f04-c610-6d735897a1bc"
      },
      "outputs": [
        {
          "data": {
            "text/plain": [
              "array([[13308,   803],\n",
              "       [ 1196, 13693]])"
            ]
          },
          "execution_count": 35,
          "metadata": {},
          "output_type": "execute_result"
        }
      ],
      "source": [
        "from sklearn.metrics import confusion_matrix\n",
        "y_predict=np.argmax(y_pred,axis=-1)\n",
        "y=np.argmax(y_test,axis=-1)\n",
        "cnf_matrix = confusion_matrix(y_predict, y)\n",
        "cnf_matrix"
      ]
    },
    {
      "cell_type": "code",
      "execution_count": null,
      "metadata": {
        "colab": {
          "base_uri": "https://localhost:8080/",
          "height": 295
        },
        "id": "wutaorBnlB2d",
        "outputId": "1b8016a7-8332-4a22-e92f-4aca76b5bcda"
      },
      "outputs": [
        {
          "data": {
            "image/png": "[encoded data removed]",
            "text/plain": [
              "<Figure size 432x288 with 2 Axes>"
            ]
          },
          "metadata": {
            "needs_background": "light"
          },
          "output_type": "display_data"
        }
      ],
      "source": [
        "import seaborn as sns\n",
        "ax= plt.subplot()\n",
        "sns.heatmap(cnf_matrix, annot=True, ax = ax,fmt=\"d\");\n",
        "ax.set_xlabel('Predicted labels');\n",
        "ax.set_ylabel('True labels'); \n",
        "ax.set_title('Confusion Matrix'); \n",
        "ax.xaxis.set_ticklabels(['legitime','phishing']);\n",
        "ax.yaxis.set_ticklabels(['legitime','phishing']);"
      ]
    },
    {
      "cell_type": "code",
      "execution_count": null,
      "metadata": {
        "colab": {
          "base_uri": "https://localhost:8080/"
        },
        "id": "7RIj8jdylHtV",
        "outputId": "566681d8-76c1-4c54-9a2e-9d36927cb79f"
      },
      "outputs": [
        {
          "name": "stdout",
          "output_type": "stream",
          "text": [
            "              precision    recall  f1-score   support\n",
            "\n",
            "           0       0.94      0.92      0.93     14504\n",
            "           1       0.92      0.94      0.93     14496\n",
            "\n",
            "   micro avg       0.93      0.93      0.93     29000\n",
            "   macro avg       0.93      0.93      0.93     29000\n",
            "weighted avg       0.93      0.93      0.93     29000\n",
            " samples avg       0.93      0.93      0.93     29000\n",
            "\n"
          ]
        }
      ],
      "source": [
        "print(classification_report(y_test, y_pred))"
      ]
    },
    {
      "cell_type": "code",
      "execution_count": null,
      "metadata": {
        "id": "JGl5bsVG_5MD"
      },
      "outputs": [],
      "source": [
        "input_layer = Input(shape=(input_shape ))\n",
        "batch_size, time_steps, input_dim = None, 111, 1\n",
        "\n",
        "tcn_layer = TCN(input_shape=(time_steps, input_dim))\n",
        "m3 = Sequential([\n",
        "    tcn_layer,\n",
        "    Dense(2, activation='softmax')\n",
        "])"
      ]
    },
    {
      "cell_type": "code",
      "execution_count": null,
      "metadata": {
        "colab": {
          "base_uri": "https://localhost:8080/"
        },
        "id": "TZ8SRqwhmpm1",
        "outputId": "91498b1b-d4af-4b2d-9c27-ddb0c061b3e9"
      },
      "outputs": [
        {
          "name": "stderr",
          "output_type": "stream",
          "text": [
            "/usr/local/lib/python3.7/dist-packages/keras/optimizer_v2/rmsprop.py:130: UserWarning: The `lr` argument is deprecated, use `learning_rate` instead.\n",
            "  super(RMSprop, self).__init__(name, **kwargs)\n"
          ]
        }
      ],
      "source": [
        "m3.compile(loss=\"binary_crossentropy\",\n",
        "              optimizer=tf.keras.optimizers.RMSprop(lr = 10e-4)  ,\n",
        "           metrics=[\"accuracy\"])"
      ]
    },
    {
      "cell_type": "code",
      "execution_count": null,
      "metadata": {
        "colab": {
          "base_uri": "https://localhost:8080/"
        },
        "id": "HZOYyJqJm5ik",
        "outputId": "c95f0be8-c7a9-4546-c647-856b53e7c569"
      },
      "outputs": [
        {
          "name": "stdout",
          "output_type": "stream",
          "text": [
            "Epoch 1/10\n",
            "680/680 [==============================] - 41s 56ms/step - loss: 258.4699 - accuracy: 0.8481 - val_loss: 0.2320 - val_accuracy: 0.9234\n",
            "Epoch 2/10\n",
            "680/680 [==============================] - 37s 55ms/step - loss: 0.3477 - accuracy: 0.9137 - val_loss: 0.2139 - val_accuracy: 0.9202\n",
            "Epoch 3/10\n",
            "680/680 [==============================] - 38s 55ms/step - loss: 0.3895 - accuracy: 0.9247 - val_loss: 0.1735 - val_accuracy: 0.9356\n",
            "Epoch 4/10\n",
            "680/680 [==============================] - 38s 56ms/step - loss: 0.3848 - accuracy: 0.9272 - val_loss: 0.1679 - val_accuracy: 0.9327\n",
            "Epoch 5/10\n",
            "680/680 [==============================] - 37s 55ms/step - loss: 0.3455 - accuracy: 0.9336 - val_loss: 0.1748 - val_accuracy: 0.9342\n",
            "Epoch 6/10\n",
            "680/680 [==============================] - 37s 55ms/step - loss: 0.2160 - accuracy: 0.9374 - val_loss: 0.1535 - val_accuracy: 0.9415\n",
            "Epoch 7/10\n",
            "680/680 [==============================] - 38s 55ms/step - loss: 0.2661 - accuracy: 0.9422 - val_loss: 0.1651 - val_accuracy: 0.9394\n",
            "Epoch 8/10\n",
            "680/680 [==============================] - 37s 55ms/step - loss: 0.1634 - accuracy: 0.9451 - val_loss: 0.1378 - val_accuracy: 0.9508\n",
            "Epoch 9/10\n",
            "680/680 [==============================] - 37s 55ms/step - loss: 0.1959 - accuracy: 0.9481 - val_loss: 0.2640 - val_accuracy: 0.9326\n",
            "Epoch 10/10\n",
            "680/680 [==============================] - 37s 55ms/step - loss: 0.2430 - accuracy: 0.9475 - val_loss: 0.1569 - val_accuracy: 0.9432\n"
          ]
        }
      ],
      "source": [
        "history=m3.fit(x_train, y_train,\n",
        "          batch_size=128,\n",
        "          epochs=10,\n",
        "          verbose=1,\n",
        "          validation_data=(x_test, y_test))"
      ]
    },
    {
      "cell_type": "code",
      "execution_count": null,
      "metadata": {
        "colab": {
          "base_uri": "https://localhost:8080/"
        },
        "id": "EQUX9GgMm_Bh",
        "outputId": "d701f714-1f39-4b7f-c0f6-cb7667e86751"
      },
      "outputs": [
        {
          "name": "stdout",
          "output_type": "stream",
          "text": [
            "Test loss: 0.1568867564201355\n",
            "Test accuracy: 0.9431723952293396\n"
          ]
        }
      ],
      "source": [
        "score = m3.evaluate(x_test, y_test, verbose=0)\n",
        "print('Test loss:', score[0])\n",
        "print('Test accuracy:', score[1])"
      ]
    },
    {
      "cell_type": "code",
      "execution_count": null,
      "metadata": {
        "colab": {
          "base_uri": "https://localhost:8080/"
        },
        "id": "BsOi8ut8nEQA",
        "outputId": "2574089b-1980-4da6-ec96-9e9ae9d76c6d"
      },
      "outputs": [
        {
          "name": "stdout",
          "output_type": "stream",
          "text": [
            "[[0. 1.]\n",
            " [0. 1.]\n",
            " [0. 1.]\n",
            " ...\n",
            " [1. 0.]\n",
            " [1. 0.]\n",
            " [1. 0.]]\n",
            "AUC: 94.51%\n"
          ]
        }
      ],
      "source": [
        "preds = m3.predict(x_test)\n",
        "y_pred = np.round(preds)\n",
        "print(y_pred)\n",
        "auc = roc_auc_score( y_pred, y_test)\n",
        "print(\"AUC: {:.2%}\".format (auc))"
      ]
    },
    {
      "cell_type": "code",
      "execution_count": null,
      "metadata": {
        "colab": {
          "base_uri": "https://localhost:8080/"
        },
        "id": "Fkb090FdnM9d",
        "outputId": "4198bd35-76be-40ec-ca24-a5fdc4a24880"
      },
      "outputs": [
        {
          "data": {
            "text/plain": [
              "array([[13199,   343],\n",
              "       [ 1305, 14153]])"
            ]
          },
          "execution_count": 44,
          "metadata": {},
          "output_type": "execute_result"
        }
      ],
      "source": [
        "from sklearn.metrics import confusion_matrix\n",
        "y_predict=np.argmax(y_pred,axis=-1)\n",
        "y=np.argmax(y_test,axis=-1)\n",
        "cnf_matrix = confusion_matrix(y_predict, y)\n",
        "cnf_matrix"
      ]
    },
    {
      "cell_type": "code",
      "execution_count": null,
      "metadata": {
        "colab": {
          "base_uri": "https://localhost:8080/",
          "height": 295
        },
        "id": "G0FtUBWNnQtT",
        "outputId": "a21cd9bd-419b-4c50-eb50-aa708b6113eb"
      },
      "outputs": [
        {
          "data": {
            "image/png": "[encoded data removed]",
            "text/plain": [
              "<Figure size 432x288 with 2 Axes>"
            ]
          },
          "metadata": {
            "needs_background": "light"
          },
          "output_type": "display_data"
        }
      ],
      "source": [
        "import seaborn as sns\n",
        "ax= plt.subplot()\n",
        "sns.heatmap(cnf_matrix, annot=True, ax = ax,fmt=\"d\");\n",
        "ax.set_xlabel('Predicted labels');\n",
        "ax.set_ylabel('True labels'); \n",
        "ax.set_title('Confusion Matrix'); \n",
        "ax.xaxis.set_ticklabels(['legitime','phishing']);\n",
        "ax.yaxis.set_ticklabels(['legitime','phishing']);"
      ]
    },
    {
      "cell_type": "code",
      "execution_count": null,
      "metadata": {
        "colab": {
          "base_uri": "https://localhost:8080/"
        },
        "id": "J2Ak22k-nXLR",
        "outputId": "32af7516-cbc7-48de-f190-cd54f1170dfa"
      },
      "outputs": [
        {
          "name": "stdout",
          "output_type": "stream",
          "text": [
            "              precision    recall  f1-score   support\n",
            "\n",
            "           0       0.97      0.91      0.94     14504\n",
            "           1       0.92      0.98      0.94     14496\n",
            "\n",
            "   micro avg       0.94      0.94      0.94     29000\n",
            "   macro avg       0.95      0.94      0.94     29000\n",
            "weighted avg       0.95      0.94      0.94     29000\n",
            " samples avg       0.94      0.94      0.94     29000\n",
            "\n"
          ]
        }
      ],
      "source": [
        "print(classification_report(y_test, y_pred))"
      ]
    }
  ],
  "metadata": {
    "accelerator": "GPU",
    "colab": {
      "provenance": []
    },
    "kernelspec": {
      "display_name": "Python 3",
      "name": "python3"
    },
    "language_info": {
      "name": "python"
    }
  },
  "nbformat": 4,
  "nbformat_minor": 0
}
