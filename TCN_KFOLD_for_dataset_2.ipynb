{
  "nbformat": 4,
  "nbformat_minor": 0,
  "metadata": {
    "colab": {
      "provenance": [],
      "collapsed_sections": []
    },
    "kernelspec": {
      "name": "python3",
      "display_name": "Python 3"
    },
    "language_info": {
      "name": "python"
    }
  },
  "cells": [
    {
      "cell_type": "code",
      "source": [
        "pip install keras-tcn"
      ],
      "metadata": {
        "colab": {
          "base_uri": "https://localhost:8080/"
        },
        "id": "Ip3TilnfOIct",
        "outputId": "d242df88-8c97-4ad3-a45c-90cf794a0baa"
      },
      "execution_count": null,
      "outputs": [
        {
          "output_type": "stream",
          "name": "stdout",
          "text": [
            "Collecting keras-tcn\n",
            "  Downloading keras_tcn-3.4.2-py3-none-any.whl (13 kB)\n",
            "Requirement already satisfied: tensorflow in /usr/local/lib/python3.7/dist-packages (from keras-tcn) (2.8.0)\n",
            "Requirement already satisfied: numpy in /usr/local/lib/python3.7/dist-packages (from keras-tcn) (1.21.5)\n",
            "Collecting tensorflow-addons\n",
            "  Downloading tensorflow_addons-0.16.1-cp37-cp37m-manylinux_2_12_x86_64.manylinux2010_x86_64.whl (1.1 MB)\n",
            "\u001b[K     |████████████████████████████████| 1.1 MB 4.8 MB/s \n",
            "\u001b[?25hRequirement already satisfied: h5py>=2.9.0 in /usr/local/lib/python3.7/dist-packages (from tensorflow->keras-tcn) (3.1.0)\n",
            "Requirement already satisfied: astunparse>=1.6.0 in /usr/local/lib/python3.7/dist-packages (from tensorflow->keras-tcn) (1.6.3)\n",
            "Requirement already satisfied: wrapt>=1.11.0 in /usr/local/lib/python3.7/dist-packages (from tensorflow->keras-tcn) (1.14.0)\n",
            "Requirement already satisfied: grpcio<2.0,>=1.24.3 in /usr/local/lib/python3.7/dist-packages (from tensorflow->keras-tcn) (1.44.0)\n",
            "Requirement already satisfied: typing-extensions>=3.6.6 in /usr/local/lib/python3.7/dist-packages (from tensorflow->keras-tcn) (3.10.0.2)\n",
            "Requirement already satisfied: tensorflow-io-gcs-filesystem>=0.23.1 in /usr/local/lib/python3.7/dist-packages (from tensorflow->keras-tcn) (0.24.0)\n",
            "Requirement already satisfied: termcolor>=1.1.0 in /usr/local/lib/python3.7/dist-packages (from tensorflow->keras-tcn) (1.1.0)\n",
            "Requirement already satisfied: keras-preprocessing>=1.1.1 in /usr/local/lib/python3.7/dist-packages (from tensorflow->keras-tcn) (1.1.2)\n",
            "Requirement already satisfied: flatbuffers>=1.12 in /usr/local/lib/python3.7/dist-packages (from tensorflow->keras-tcn) (2.0)\n",
            "Requirement already satisfied: setuptools in /usr/local/lib/python3.7/dist-packages (from tensorflow->keras-tcn) (57.4.0)\n",
            "Requirement already satisfied: google-pasta>=0.1.1 in /usr/local/lib/python3.7/dist-packages (from tensorflow->keras-tcn) (0.2.0)\n",
            "Requirement already satisfied: protobuf>=3.9.2 in /usr/local/lib/python3.7/dist-packages (from tensorflow->keras-tcn) (3.17.3)\n",
            "Collecting tf-estimator-nightly==2.8.0.dev2021122109\n",
            "  Downloading tf_estimator_nightly-2.8.0.dev2021122109-py2.py3-none-any.whl (462 kB)\n",
            "\u001b[K     |████████████████████████████████| 462 kB 45.9 MB/s \n",
            "\u001b[?25hRequirement already satisfied: keras<2.9,>=2.8.0rc0 in /usr/local/lib/python3.7/dist-packages (from tensorflow->keras-tcn) (2.8.0)\n",
            "Requirement already satisfied: six>=1.12.0 in /usr/local/lib/python3.7/dist-packages (from tensorflow->keras-tcn) (1.15.0)\n",
            "Requirement already satisfied: libclang>=9.0.1 in /usr/local/lib/python3.7/dist-packages (from tensorflow->keras-tcn) (13.0.0)\n",
            "Requirement already satisfied: absl-py>=0.4.0 in /usr/local/lib/python3.7/dist-packages (from tensorflow->keras-tcn) (1.0.0)\n",
            "Requirement already satisfied: tensorboard<2.9,>=2.8 in /usr/local/lib/python3.7/dist-packages (from tensorflow->keras-tcn) (2.8.0)\n",
            "Requirement already satisfied: opt-einsum>=2.3.2 in /usr/local/lib/python3.7/dist-packages (from tensorflow->keras-tcn) (3.3.0)\n",
            "Requirement already satisfied: gast>=0.2.1 in /usr/local/lib/python3.7/dist-packages (from tensorflow->keras-tcn) (0.5.3)\n",
            "Requirement already satisfied: wheel<1.0,>=0.23.0 in /usr/local/lib/python3.7/dist-packages (from astunparse>=1.6.0->tensorflow->keras-tcn) (0.37.1)\n",
            "Requirement already satisfied: cached-property in /usr/local/lib/python3.7/dist-packages (from h5py>=2.9.0->tensorflow->keras-tcn) (1.5.2)\n",
            "Requirement already satisfied: werkzeug>=0.11.15 in /usr/local/lib/python3.7/dist-packages (from tensorboard<2.9,>=2.8->tensorflow->keras-tcn) (1.0.1)\n",
            "Requirement already satisfied: tensorboard-data-server<0.7.0,>=0.6.0 in /usr/local/lib/python3.7/dist-packages (from tensorboard<2.9,>=2.8->tensorflow->keras-tcn) (0.6.1)\n",
            "Requirement already satisfied: google-auth<3,>=1.6.3 in /usr/local/lib/python3.7/dist-packages (from tensorboard<2.9,>=2.8->tensorflow->keras-tcn) (1.35.0)\n",
            "Requirement already satisfied: tensorboard-plugin-wit>=1.6.0 in /usr/local/lib/python3.7/dist-packages (from tensorboard<2.9,>=2.8->tensorflow->keras-tcn) (1.8.1)\n",
            "Requirement already satisfied: google-auth-oauthlib<0.5,>=0.4.1 in /usr/local/lib/python3.7/dist-packages (from tensorboard<2.9,>=2.8->tensorflow->keras-tcn) (0.4.6)\n",
            "Requirement already satisfied: requests<3,>=2.21.0 in /usr/local/lib/python3.7/dist-packages (from tensorboard<2.9,>=2.8->tensorflow->keras-tcn) (2.23.0)\n",
            "Requirement already satisfied: markdown>=2.6.8 in /usr/local/lib/python3.7/dist-packages (from tensorboard<2.9,>=2.8->tensorflow->keras-tcn) (3.3.6)\n",
            "Requirement already satisfied: pyasn1-modules>=0.2.1 in /usr/local/lib/python3.7/dist-packages (from google-auth<3,>=1.6.3->tensorboard<2.9,>=2.8->tensorflow->keras-tcn) (0.2.8)\n",
            "Requirement already satisfied: rsa<5,>=3.1.4 in /usr/local/lib/python3.7/dist-packages (from google-auth<3,>=1.6.3->tensorboard<2.9,>=2.8->tensorflow->keras-tcn) (4.8)\n",
            "Requirement already satisfied: cachetools<5.0,>=2.0.0 in /usr/local/lib/python3.7/dist-packages (from google-auth<3,>=1.6.3->tensorboard<2.9,>=2.8->tensorflow->keras-tcn) (4.2.4)\n",
            "Requirement already satisfied: requests-oauthlib>=0.7.0 in /usr/local/lib/python3.7/dist-packages (from google-auth-oauthlib<0.5,>=0.4.1->tensorboard<2.9,>=2.8->tensorflow->keras-tcn) (1.3.1)\n",
            "Requirement already satisfied: importlib-metadata>=4.4 in /usr/local/lib/python3.7/dist-packages (from markdown>=2.6.8->tensorboard<2.9,>=2.8->tensorflow->keras-tcn) (4.11.3)\n",
            "Requirement already satisfied: zipp>=0.5 in /usr/local/lib/python3.7/dist-packages (from importlib-metadata>=4.4->markdown>=2.6.8->tensorboard<2.9,>=2.8->tensorflow->keras-tcn) (3.7.0)\n",
            "Requirement already satisfied: pyasn1<0.5.0,>=0.4.6 in /usr/local/lib/python3.7/dist-packages (from pyasn1-modules>=0.2.1->google-auth<3,>=1.6.3->tensorboard<2.9,>=2.8->tensorflow->keras-tcn) (0.4.8)\n",
            "Requirement already satisfied: urllib3!=1.25.0,!=1.25.1,<1.26,>=1.21.1 in /usr/local/lib/python3.7/dist-packages (from requests<3,>=2.21.0->tensorboard<2.9,>=2.8->tensorflow->keras-tcn) (1.24.3)\n",
            "Requirement already satisfied: idna<3,>=2.5 in /usr/local/lib/python3.7/dist-packages (from requests<3,>=2.21.0->tensorboard<2.9,>=2.8->tensorflow->keras-tcn) (2.10)\n",
            "Requirement already satisfied: chardet<4,>=3.0.2 in /usr/local/lib/python3.7/dist-packages (from requests<3,>=2.21.0->tensorboard<2.9,>=2.8->tensorflow->keras-tcn) (3.0.4)\n",
            "Requirement already satisfied: certifi>=2017.4.17 in /usr/local/lib/python3.7/dist-packages (from requests<3,>=2.21.0->tensorboard<2.9,>=2.8->tensorflow->keras-tcn) (2021.10.8)\n",
            "Requirement already satisfied: oauthlib>=3.0.0 in /usr/local/lib/python3.7/dist-packages (from requests-oauthlib>=0.7.0->google-auth-oauthlib<0.5,>=0.4.1->tensorboard<2.9,>=2.8->tensorflow->keras-tcn) (3.2.0)\n",
            "Requirement already satisfied: typeguard>=2.7 in /usr/local/lib/python3.7/dist-packages (from tensorflow-addons->keras-tcn) (2.7.1)\n",
            "Installing collected packages: tf-estimator-nightly, tensorflow-addons, keras-tcn\n",
            "Successfully installed keras-tcn-3.4.2 tensorflow-addons-0.16.1 tf-estimator-nightly-2.8.0.dev2021122109\n"
          ]
        }
      ]
    },
    {
      "cell_type": "code",
      "metadata": {
        "colab": {
          "base_uri": "https://localhost:8080/"
        },
        "id": "VTfRb7pQ9Q8C",
        "outputId": "3efb98f3-3946-49a5-b1d2-18b2573a5df1"
      },
      "source": [
        "'''\n",
        "from google.colab import drive \n",
        "drive.mount('/content/drive')\n",
        "'''"
      ],
      "execution_count": null,
      "outputs": [
        {
          "output_type": "stream",
          "name": "stdout",
          "text": [
            "Mounted at /content/drive\n"
          ]
        }
      ]
    },
    {
      "cell_type": "code",
      "metadata": {
        "id": "aJLN2trC-hqO"
      },
      "source": [
        "import tensorflow as tf\n",
        "import keras\n",
        "from tensorflow.keras import regularizers, optimizers\n",
        "from tensorflow.keras.utils import to_categorical\n",
        "from keras import losses\n",
        "from keras.models import Sequential, Model, load_model\n",
        "from keras.layers import Dense, Input, Dropout, Embedding, LSTM, Flatten, Conv1D, Dense, Flatten, Activation, UpSampling1D, MaxPooling1D, ZeroPadding1D\n",
        "from keras.preprocessing import sequence\n",
        "from keras.callbacks import ModelCheckpoint, TensorBoard\n",
        "from keras.utils.vis_utils import plot_model\n",
        "import sklearn\n",
        "from sklearn.preprocessing import StandardScaler, MinMaxScaler\n",
        "from sklearn.model_selection import train_test_split\n",
        "from sklearn.metrics import confusion_matrix, roc_auc_score, roc_auc_score, classification_report\n",
        "\n",
        "from sklearn.model_selection import train_test_split, StratifiedKFold, cross_val_score, cross_val_predict\n",
        "import matplotlib.pyplot as plt\n",
        "from tensorflow import keras\n",
        "from tensorflow.keras import *\n",
        "from keras.utils.np_utils import *\n",
        "from keras.wrappers.scikit_learn import KerasClassifier\n",
        "from sklearn.metrics import confusion_matrix, accuracy_score, f1_score, precision_score, recall_score, roc_curve, roc_auc_score, plot_precision_recall_curve, precision_recall_curve, average_precision_score\n",
        "import seaborn as sns\n",
        "import sys\n",
        "from tqdm import tqdm\n",
        "import os \n",
        "import seaborn as sns\n",
        "import pandas as pd\n",
        "import numpy as np\n",
        "\n",
        "import matplotlib\n",
        "from matplotlib import pyplot as plt\n",
        "import matplotlib.pyplot as plt\n",
        "import matplotlib.gridspec as gridspec\n",
        "%matplotlib inline\n"
      ],
      "execution_count": null,
      "outputs": []
    },
    {
      "cell_type": "code",
      "metadata": {
        "id": "OTy-xBO2-jvx"
      },
      "source": [
        "df= pd.read_csv('Data/data.csv' , sep = ',')"
      ],
      "execution_count": null,
      "outputs": []
    },
    {
      "cell_type": "code",
      "metadata": {
        "colab": {
          "base_uri": "https://localhost:8080/",
          "height": 270
        },
        "id": "Xf8TETbQ-zUV",
        "outputId": "cba46462-bbee-4965-d1f8-0d7114a4ba05"
      },
      "source": [
        "# First 5 sample rows of Dataset\n",
        "df.head()"
      ],
      "execution_count": null,
      "outputs": [
        {
          "output_type": "execute_result",
          "data": {
            "text/plain": [
              "   whois_regDate  whois_expDate  whois_updatedDate  dot_count  url_len  \\\n",
              "0           8451           2870                422          1       10   \n",
              "1           5741            102                295          1       11   \n",
              "2           8419            345                720          1        9   \n",
              "3           7695           2166                545          1        9   \n",
              "4           9316           2455                  6          1        6   \n",
              "\n",
              "   digit_count  special_count  hyphen_count  double_slash  single_slash  \\\n",
              "0            0              0             0             0             0   \n",
              "1            0              0             0             0             0   \n",
              "2            0              0             0             0             0   \n",
              "3            0              0             0             0             0   \n",
              "4            0              0             0             0             0   \n",
              "\n",
              "   at_the_rate  protocol  protocol_count  web_traffic  label  \n",
              "0            0         0               0            0      1  \n",
              "1            0         0               0            0      1  \n",
              "2            0         0               0            0      1  \n",
              "3            0         0               0            0      1  \n",
              "4            0         0               0            0      1  "
            ],
            "text/html": [
              "\n",
              "  <div id=\"df-8169e0bd-d800-4ea8-939b-067543fad477\">\n",
              "    <div class=\"colab-df-container\">\n",
              "      <div>\n",
              "<style scoped>\n",
              "    .dataframe tbody tr th:only-of-type {\n",
              "        vertical-align: middle;\n",
              "    }\n",
              "\n",
              "    .dataframe tbody tr th {\n",
              "        vertical-align: top;\n",
              "    }\n",
              "\n",
              "    .dataframe thead th {\n",
              "        text-align: right;\n",
              "    }\n",
              "</style>\n",
              "<table border=\"1\" class=\"dataframe\">\n",
              "  <thead>\n",
              "    <tr style=\"text-align: right;\">\n",
              "      <th></th>\n",
              "      <th>whois_regDate</th>\n",
              "      <th>whois_expDate</th>\n",
              "      <th>whois_updatedDate</th>\n",
              "      <th>dot_count</th>\n",
              "      <th>url_len</th>\n",
              "      <th>digit_count</th>\n",
              "      <th>special_count</th>\n",
              "      <th>hyphen_count</th>\n",
              "      <th>double_slash</th>\n",
              "      <th>single_slash</th>\n",
              "      <th>at_the_rate</th>\n",
              "      <th>protocol</th>\n",
              "      <th>protocol_count</th>\n",
              "      <th>web_traffic</th>\n",
              "      <th>label</th>\n",
              "    </tr>\n",
              "  </thead>\n",
              "  <tbody>\n",
              "    <tr>\n",
              "      <th>0</th>\n",
              "      <td>8451</td>\n",
              "      <td>2870</td>\n",
              "      <td>422</td>\n",
              "      <td>1</td>\n",
              "      <td>10</td>\n",
              "      <td>0</td>\n",
              "      <td>0</td>\n",
              "      <td>0</td>\n",
              "      <td>0</td>\n",
              "      <td>0</td>\n",
              "      <td>0</td>\n",
              "      <td>0</td>\n",
              "      <td>0</td>\n",
              "      <td>0</td>\n",
              "      <td>1</td>\n",
              "    </tr>\n",
              "    <tr>\n",
              "      <th>1</th>\n",
              "      <td>5741</td>\n",
              "      <td>102</td>\n",
              "      <td>295</td>\n",
              "      <td>1</td>\n",
              "      <td>11</td>\n",
              "      <td>0</td>\n",
              "      <td>0</td>\n",
              "      <td>0</td>\n",
              "      <td>0</td>\n",
              "      <td>0</td>\n",
              "      <td>0</td>\n",
              "      <td>0</td>\n",
              "      <td>0</td>\n",
              "      <td>0</td>\n",
              "      <td>1</td>\n",
              "    </tr>\n",
              "    <tr>\n",
              "      <th>2</th>\n",
              "      <td>8419</td>\n",
              "      <td>345</td>\n",
              "      <td>720</td>\n",
              "      <td>1</td>\n",
              "      <td>9</td>\n",
              "      <td>0</td>\n",
              "      <td>0</td>\n",
              "      <td>0</td>\n",
              "      <td>0</td>\n",
              "      <td>0</td>\n",
              "      <td>0</td>\n",
              "      <td>0</td>\n",
              "      <td>0</td>\n",
              "      <td>0</td>\n",
              "      <td>1</td>\n",
              "    </tr>\n",
              "    <tr>\n",
              "      <th>3</th>\n",
              "      <td>7695</td>\n",
              "      <td>2166</td>\n",
              "      <td>545</td>\n",
              "      <td>1</td>\n",
              "      <td>9</td>\n",
              "      <td>0</td>\n",
              "      <td>0</td>\n",
              "      <td>0</td>\n",
              "      <td>0</td>\n",
              "      <td>0</td>\n",
              "      <td>0</td>\n",
              "      <td>0</td>\n",
              "      <td>0</td>\n",
              "      <td>0</td>\n",
              "      <td>1</td>\n",
              "    </tr>\n",
              "    <tr>\n",
              "      <th>4</th>\n",
              "      <td>9316</td>\n",
              "      <td>2455</td>\n",
              "      <td>6</td>\n",
              "      <td>1</td>\n",
              "      <td>6</td>\n",
              "      <td>0</td>\n",
              "      <td>0</td>\n",
              "      <td>0</td>\n",
              "      <td>0</td>\n",
              "      <td>0</td>\n",
              "      <td>0</td>\n",
              "      <td>0</td>\n",
              "      <td>0</td>\n",
              "      <td>0</td>\n",
              "      <td>1</td>\n",
              "    </tr>\n",
              "  </tbody>\n",
              "</table>\n",
              "</div>\n",
              "      <button class=\"colab-df-convert\" onclick=\"convertToInteractive('df-8169e0bd-d800-4ea8-939b-067543fad477')\"\n",
              "              title=\"Convert this dataframe to an interactive table.\"\n",
              "              style=\"display:none;\">\n",
              "        \n",
              "  <svg xmlns=\"http://www.w3.org/2000/svg\" height=\"24px\"viewBox=\"0 0 24 24\"\n",
              "       width=\"24px\">\n",
              "    <path d=\"M0 0h24v24H0V0z\" fill=\"none\"/>\n",
              "    <path d=\"M18.56 5.44l.94 2.06.94-2.06 2.06-.94-2.06-.94-.94-2.06-.94 2.06-2.06.94zm-11 1L8.5 8.5l.94-2.06 2.06-.94-2.06-.94L8.5 2.5l-.94 2.06-2.06.94zm10 10l.94 2.06.94-2.06 2.06-.94-2.06-.94-.94-2.06-.94 2.06-2.06.94z\"/><path d=\"M17.41 7.96l-1.37-1.37c-.4-.4-.92-.59-1.43-.59-.52 0-1.04.2-1.43.59L10.3 9.45l-7.72 7.72c-.78.78-.78 2.05 0 2.83L4 21.41c.39.39.9.59 1.41.59.51 0 1.02-.2 1.41-.59l7.78-7.78 2.81-2.81c.8-.78.8-2.07 0-2.86zM5.41 20L4 18.59l7.72-7.72 1.47 1.35L5.41 20z\"/>\n",
              "  </svg>\n",
              "      </button>\n",
              "      \n",
              "  <style>\n",
              "    .colab-df-container {\n",
              "      display:flex;\n",
              "      flex-wrap:wrap;\n",
              "      gap: 12px;\n",
              "    }\n",
              "\n",
              "    .colab-df-convert {\n",
              "      background-color: #E8F0FE;\n",
              "      border: none;\n",
              "      border-radius: 50%;\n",
              "      cursor: pointer;\n",
              "      display: none;\n",
              "      fill: #1967D2;\n",
              "      height: 32px;\n",
              "      padding: 0 0 0 0;\n",
              "      width: 32px;\n",
              "    }\n",
              "\n",
              "    .colab-df-convert:hover {\n",
              "      background-color: #E2EBFA;\n",
              "      box-shadow: 0px 1px 2px rgba(60, 64, 67, 0.3), 0px 1px 3px 1px rgba(60, 64, 67, 0.15);\n",
              "      fill: #174EA6;\n",
              "    }\n",
              "\n",
              "    [theme=dark] .colab-df-convert {\n",
              "      background-color: #3B4455;\n",
              "      fill: #D2E3FC;\n",
              "    }\n",
              "\n",
              "    [theme=dark] .colab-df-convert:hover {\n",
              "      background-color: #434B5C;\n",
              "      box-shadow: 0px 1px 3px 1px rgba(0, 0, 0, 0.15);\n",
              "      filter: drop-shadow(0px 1px 2px rgba(0, 0, 0, 0.3));\n",
              "      fill: #FFFFFF;\n",
              "    }\n",
              "  </style>\n",
              "\n",
              "      <script>\n",
              "        const buttonEl =\n",
              "          document.querySelector('#df-8169e0bd-d800-4ea8-939b-067543fad477 button.colab-df-convert');\n",
              "        buttonEl.style.display =\n",
              "          google.colab.kernel.accessAllowed ? 'block' : 'none';\n",
              "\n",
              "        async function convertToInteractive(key) {\n",
              "          const element = document.querySelector('#df-8169e0bd-d800-4ea8-939b-067543fad477');\n",
              "          const dataTable =\n",
              "            await google.colab.kernel.invokeFunction('convertToInteractive',\n",
              "                                                     [key], {});\n",
              "          if (!dataTable) return;\n",
              "\n",
              "          const docLinkHtml = 'Like what you see? Visit the ' +\n",
              "            '<a target=\"_blank\" href=https://colab.research.google.com/notebooks/data_table.ipynb>data table notebook</a>'\n",
              "            + ' to learn more about interactive tables.';\n",
              "          element.innerHTML = '';\n",
              "          dataTable['output_type'] = 'display_data';\n",
              "          await google.colab.output.renderOutput(dataTable, element);\n",
              "          const docLink = document.createElement('div');\n",
              "          docLink.innerHTML = docLinkHtml;\n",
              "          element.appendChild(docLink);\n",
              "        }\n",
              "      </script>\n",
              "    </div>\n",
              "  </div>\n",
              "  "
            ]
          },
          "metadata": {},
          "execution_count": 4
        }
      ]
    },
    {
      "cell_type": "code",
      "metadata": {
        "id": "aJBSqcVy-4UB",
        "colab": {
          "base_uri": "https://localhost:8080/"
        },
        "outputId": "df1fc240-ac25-4ed2-8210-2eae648d5730"
      },
      "source": [
        "# Name of columns\n",
        "list(df.columns)"
      ],
      "execution_count": null,
      "outputs": [
        {
          "output_type": "execute_result",
          "data": {
            "text/plain": [
              "['whois_regDate',\n",
              " 'whois_expDate',\n",
              " 'whois_updatedDate',\n",
              " 'dot_count',\n",
              " 'url_len',\n",
              " 'digit_count',\n",
              " 'special_count',\n",
              " 'hyphen_count',\n",
              " 'double_slash',\n",
              " 'single_slash',\n",
              " 'at_the_rate',\n",
              " 'protocol',\n",
              " 'protocol_count',\n",
              " 'web_traffic',\n",
              " 'label']"
            ]
          },
          "metadata": {},
          "execution_count": 5
        }
      ]
    },
    {
      "cell_type": "code",
      "metadata": {
        "colab": {
          "base_uri": "https://localhost:8080/"
        },
        "id": "-LM_5sMG--a1",
        "outputId": "970df6d9-45fe-4650-899b-edb67aabe237"
      },
      "source": [
        "df.info()"
      ],
      "execution_count": null,
      "outputs": [
        {
          "output_type": "stream",
          "name": "stdout",
          "text": [
            "<class 'pandas.core.frame.DataFrame'>\n",
            "RangeIndex: 11000 entries, 0 to 10999\n",
            "Data columns (total 15 columns):\n",
            " #   Column             Non-Null Count  Dtype\n",
            "---  ------             --------------  -----\n",
            " 0   whois_regDate      11000 non-null  int64\n",
            " 1   whois_expDate      11000 non-null  int64\n",
            " 2   whois_updatedDate  11000 non-null  int64\n",
            " 3   dot_count          11000 non-null  int64\n",
            " 4   url_len            11000 non-null  int64\n",
            " 5   digit_count        11000 non-null  int64\n",
            " 6   special_count      11000 non-null  int64\n",
            " 7   hyphen_count       11000 non-null  int64\n",
            " 8   double_slash       11000 non-null  int64\n",
            " 9   single_slash       11000 non-null  int64\n",
            " 10  at_the_rate        11000 non-null  int64\n",
            " 11  protocol           11000 non-null  int64\n",
            " 12  protocol_count     11000 non-null  int64\n",
            " 13  web_traffic        11000 non-null  int64\n",
            " 14  label              11000 non-null  int64\n",
            "dtypes: int64(15)\n",
            "memory usage: 1.3 MB\n"
          ]
        }
      ]
    },
    {
      "cell_type": "code",
      "metadata": {
        "id": "5zZMDTQF_I2C",
        "colab": {
          "base_uri": "https://localhost:8080/"
        },
        "outputId": "3ad0a82a-14d6-4172-e823-97ebe346fefd"
      },
      "source": [
        "for col in df.columns:\n",
        "    unique_value_list = df[col].unique()\n",
        "    if len(unique_value_list) > 10:\n",
        "        print(f'{col} has {df[col].nunique()} unique values')\n",
        "    else:\n",
        "        print(f'{col} contains:\\t\\t\\t{unique_value_list}')"
      ],
      "execution_count": null,
      "outputs": [
        {
          "output_type": "stream",
          "name": "stdout",
          "text": [
            "whois_regDate has 4038 unique values\n",
            "whois_expDate has 1872 unique values\n",
            "whois_updatedDate has 1146 unique values\n",
            "dot_count has 19 unique values\n",
            "url_len has 347 unique values\n",
            "digit_count has 128 unique values\n",
            "special_count has 35 unique values\n",
            "hyphen_count has 32 unique values\n",
            "double_slash contains:\t\t\t[0 1 5 3 6 2]\n",
            "single_slash has 25 unique values\n",
            "at_the_rate contains:\t\t\t[0 1 3 2]\n",
            "protocol contains:\t\t\t[0 1]\n",
            "protocol_count contains:\t\t\t[0 1 2 5 6 3]\n",
            "web_traffic contains:\t\t\t[0 1]\n",
            "label contains:\t\t\t[1 0]\n"
          ]
        }
      ]
    },
    {
      "cell_type": "code",
      "metadata": {
        "id": "w7OH8cqcAHzI",
        "colab": {
          "base_uri": "https://localhost:8080/",
          "height": 403
        },
        "outputId": "3ba783da-e2ac-4b58-ffdf-cf9b577d8f1f"
      },
      "source": [
        "print(df['label'].value_counts())\n",
        "sns.countplot(df['label'])"
      ],
      "execution_count": null,
      "outputs": [
        {
          "output_type": "stream",
          "name": "stdout",
          "text": [
            "1    5500\n",
            "0    5500\n",
            "Name: label, dtype: int64\n"
          ]
        },
        {
          "output_type": "stream",
          "name": "stderr",
          "text": [
            "/usr/local/lib/python3.7/dist-packages/seaborn/_decorators.py:43: FutureWarning: Pass the following variable as a keyword arg: x. From version 0.12, the only valid positional argument will be `data`, and passing other arguments without an explicit keyword will result in an error or misinterpretation.\n",
            "  FutureWarning\n"
          ]
        },
        {
          "output_type": "execute_result",
          "data": {
            "text/plain": [
              "<matplotlib.axes._subplots.AxesSubplot at 0x7fc3b0cc4e10>"
            ]
          },
          "metadata": {},
          "execution_count": 8
        },
        {
          "output_type": "display_data",
          "data": {
            "text/plain": [
              "<Figure size 432x288 with 1 Axes>"
            ],
            "image/png": "[encoded data removed]"
          },
          "metadata": {
            "needs_background": "light"
          }
        }
      ]
    },
    {
      "cell_type": "code",
      "metadata": {
        "id": "cZQcxo1SAZfb",
        "colab": {
          "base_uri": "https://localhost:8080/",
          "height": 973
        },
        "outputId": "d4540c5c-8d35-42df-89ee-5fb087be20fa"
      },
      "source": [
        "plt.figure(figsize=(15, 15))\n",
        "sns.heatmap(df.corr(), linewidths=.5)"
      ],
      "execution_count": null,
      "outputs": [
        {
          "output_type": "execute_result",
          "data": {
            "text/plain": [
              "<matplotlib.axes._subplots.AxesSubplot at 0x7fc3b0b71190>"
            ]
          },
          "metadata": {},
          "execution_count": 9
        },
        {
          "output_type": "display_data",
          "data": {
            "text/plain": [
              "<Figure size 1080x1080 with 2 Axes>"
            ],
            "image/png": "[encoded data removed]"
          },
          "metadata": {
            "needs_background": "light"
          }
        }
      ]
    },
    {
      "cell_type": "code",
      "metadata": {
        "id": "36Uuqm664YEc"
      },
      "source": [
        "dataset = df.values\n",
        "x = dataset[:,:-1]\n",
        "y = dataset[:, -1]"
      ],
      "execution_count": null,
      "outputs": []
    },
    {
      "cell_type": "code",
      "metadata": {
        "colab": {
          "base_uri": "https://localhost:8080/"
        },
        "id": "htrQpw6sU7dp",
        "outputId": "98d7edab-c2b7-45e3-8b61-f079aab5e9db"
      },
      "source": [
        "print(x.shape)\n",
        "print(y.shape)"
      ],
      "execution_count": null,
      "outputs": [
        {
          "output_type": "stream",
          "name": "stdout",
          "text": [
            "(11000, 14)\n",
            "(11000,)\n"
          ]
        }
      ]
    },
    {
      "cell_type": "code",
      "metadata": {
        "id": "CChTufTe4cum"
      },
      "source": [
        "x_train, x_test, y_train, y_test = train_test_split(x,y, test_size=0.25,random_state=808)"
      ],
      "execution_count": null,
      "outputs": []
    },
    {
      "cell_type": "code",
      "metadata": {
        "id": "6BUE-QZL4jBv"
      },
      "source": [
        "x_train = np.array(x_train).reshape(x_train.shape[0], x_train.shape[1], 1)\n",
        "x_test = np.array(x_test).reshape(x_test.shape[0], x_test.shape[1], 1)\n",
        "input_shape = (x_train.shape[1], 1)\n"
      ],
      "execution_count": null,
      "outputs": []
    },
    {
      "cell_type": "code",
      "metadata": {
        "colab": {
          "base_uri": "https://localhost:8080/"
        },
        "id": "wZaX6h8U4rbK",
        "outputId": "c319f80c-62b9-4124-cd48-0d9c510fffeb"
      },
      "source": [
        "print(x_train.shape)\n",
        "print(x_test.shape)"
      ],
      "execution_count": null,
      "outputs": [
        {
          "output_type": "stream",
          "name": "stdout",
          "text": [
            "(8250, 14, 1)\n",
            "(2750, 14, 1)\n"
          ]
        }
      ]
    },
    {
      "cell_type": "code",
      "metadata": {
        "id": "syP3PDIe4yyb"
      },
      "source": [
        "y_train = to_categorical(y_train, 2)\n",
        "y_test = to_categorical(y_test, 2)"
      ],
      "execution_count": null,
      "outputs": []
    },
    {
      "cell_type": "code",
      "metadata": {
        "colab": {
          "base_uri": "https://localhost:8080/"
        },
        "id": "BOlxxeK05BUs",
        "outputId": "3addf6bd-9178-42ab-f813-0ef4d09628fe"
      },
      "source": [
        "print(\"Shapes:\\nx_train:%s\\ny_train:%s\\n\" % (x_train.shape, y_train.shape))\n",
        "print(\"x_test:%s\\ny_test:%s\\n\" % (x_test.shape, y_test.shape))\n",
        "print(\"input_shape:{}\\n\".format(input_shape))"
      ],
      "execution_count": null,
      "outputs": [
        {
          "output_type": "stream",
          "name": "stdout",
          "text": [
            "Shapes:\n",
            "x_train:(8250, 14, 1)\n",
            "y_train:(8250, 2)\n",
            "\n",
            "x_test:(2750, 14, 1)\n",
            "y_test:(2750, 2)\n",
            "\n",
            "input_shape:(14, 1)\n",
            "\n"
          ]
        }
      ]
    },
    {
      "cell_type": "code",
      "metadata": {
        "id": "p08A3SNk5vtU"
      },
      "source": [
        "import tcn\n",
        "from tcn import TCN\n",
        "def phishing():\n",
        "  input_layer = Input(shape=(input_shape ))\n",
        "  batch_size, time_steps, input_dim = None, 14, 1\n",
        "\n",
        "  tcn_layer = TCN(input_shape=(time_steps, input_dim))\n",
        "  model = Sequential([\n",
        "    tcn_layer,\n",
        "    Dense(1, activation='sigmoid')\n",
        "   ]) \n",
        "\n",
        "  model.compile(loss=\"binary_crossentropy\",\n",
        "              optimizer=\"adam\",\n",
        "           metrics=[\"accuracy\"])\n",
        "\n",
        " \n",
        "  return model\n"
      ],
      "execution_count": null,
      "outputs": []
    },
    {
      "cell_type": "code",
      "metadata": {
        "colab": {
          "base_uri": "https://localhost:8080/"
        },
        "id": "d-NtFFdpF4TG",
        "outputId": "6822e5e8-29ff-49f2-f9a7-f1fe720d4c79"
      },
      "source": [
        "modi = KerasClassifier(build_fn=phishing,\n",
        "                        epochs=10,\n",
        "                        batch_size=128, verbose=1)\n",
        "\n",
        "num_folds=10\n",
        "kfold=StratifiedKFold(n_splits=num_folds, shuffle=True)"
      ],
      "execution_count": null,
      "outputs": [
        {
          "output_type": "stream",
          "name": "stderr",
          "text": [
            "/usr/local/lib/python3.7/dist-packages/ipykernel_launcher.py:3: DeprecationWarning: KerasClassifier is deprecated, use Sci-Keras (https://github.com/adriangb/scikeras) instead. See https://www.adriangb.com/scikeras/stable/migration.html for help migrating.\n",
            "  This is separate from the ipykernel package so we can avoid doing imports until\n"
          ]
        }
      ]
    },
    {
      "cell_type": "code",
      "metadata": {
        "colab": {
          "base_uri": "https://localhost:8080/"
        },
        "id": "h2l2oar6F7mB",
        "outputId": "42978d69-b537-41a4-c9ea-cace300ac31f"
      },
      "source": [
        "cv_results=cross_val_score(modi,\n",
        "                           x, y,\n",
        "                           cv=kfold, verbose=1\n",
        "                           )"
      ],
      "execution_count": null,
      "outputs": [
        {
          "output_type": "stream",
          "name": "stderr",
          "text": [
            "[Parallel(n_jobs=1)]: Using backend SequentialBackend with 1 concurrent workers.\n"
          ]
        },
        {
          "output_type": "stream",
          "name": "stdout",
          "text": [
            "Epoch 1/10\n",
            "78/78 [==============================] - 15s 128ms/step - loss: 68.2132 - accuracy: 0.7845\n",
            "Epoch 2/10\n",
            "78/78 [==============================] - 9s 120ms/step - loss: 8.9806 - accuracy: 0.8877\n",
            "Epoch 3/10\n",
            "78/78 [==============================] - 10s 123ms/step - loss: 2.0477 - accuracy: 0.9443\n",
            "Epoch 4/10\n",
            "78/78 [==============================] - 10s 123ms/step - loss: 1.5125 - accuracy: 0.9564\n",
            "Epoch 5/10\n",
            "78/78 [==============================] - 9s 120ms/step - loss: 0.9871 - accuracy: 0.9780\n",
            "Epoch 6/10\n",
            "78/78 [==============================] - 9s 120ms/step - loss: 0.8592 - accuracy: 0.9867\n",
            "Epoch 7/10\n",
            "78/78 [==============================] - 9s 120ms/step - loss: 0.1406 - accuracy: 0.9972\n",
            "Epoch 8/10\n",
            "78/78 [==============================] - 9s 120ms/step - loss: 0.0390 - accuracy: 0.9990\n",
            "Epoch 9/10\n",
            "78/78 [==============================] - 9s 119ms/step - loss: 1.1076 - accuracy: 0.9900\n",
            "Epoch 10/10\n",
            "78/78 [==============================] - 11s 136ms/step - loss: 0.6119 - accuracy: 0.9939\n",
            "9/9 [==============================] - 1s 31ms/step - loss: 2.7479e-20 - accuracy: 1.0000\n",
            "Epoch 1/10\n",
            "78/78 [==============================] - 12s 123ms/step - loss: 153.9321 - accuracy: 0.6782\n",
            "Epoch 2/10\n",
            "78/78 [==============================] - 11s 139ms/step - loss: 4.1688 - accuracy: 0.9097\n",
            "Epoch 3/10\n",
            "78/78 [==============================] - 10s 125ms/step - loss: 2.3174 - accuracy: 0.9390\n",
            "Epoch 4/10\n",
            "78/78 [==============================] - 10s 125ms/step - loss: 2.4897 - accuracy: 0.9437\n",
            "Epoch 5/10\n",
            "78/78 [==============================] - 10s 124ms/step - loss: 1.0357 - accuracy: 0.9706\n",
            "Epoch 6/10\n",
            "78/78 [==============================] - 10s 124ms/step - loss: 0.4420 - accuracy: 0.9896\n",
            "Epoch 7/10\n",
            "78/78 [==============================] - 10s 124ms/step - loss: 0.0904 - accuracy: 0.9982\n",
            "Epoch 8/10\n",
            "78/78 [==============================] - 10s 122ms/step - loss: 0.0173 - accuracy: 0.9995\n",
            "Epoch 9/10\n",
            "78/78 [==============================] - 9s 120ms/step - loss: 3.7334e-08 - accuracy: 1.0000\n",
            "Epoch 10/10\n",
            "78/78 [==============================] - 9s 120ms/step - loss: 3.5837e-08 - accuracy: 1.0000\n",
            "9/9 [==============================] - 1s 32ms/step - loss: 2.7068e-12 - accuracy: 1.0000\n",
            "Epoch 1/10\n",
            "78/78 [==============================] - 12s 122ms/step - loss: 74.1711 - accuracy: 0.7606\n",
            "Epoch 2/10\n",
            "78/78 [==============================] - 9s 122ms/step - loss: 3.7163 - accuracy: 0.9095\n",
            "Epoch 3/10\n",
            "78/78 [==============================] - 10s 122ms/step - loss: 0.8716 - accuracy: 0.9534\n",
            "Epoch 4/10\n",
            "78/78 [==============================] - 10s 125ms/step - loss: 1.1955 - accuracy: 0.9595\n",
            "Epoch 5/10\n",
            "78/78 [==============================] - 10s 124ms/step - loss: 0.1789 - accuracy: 0.9907\n",
            "Epoch 6/10\n",
            "78/78 [==============================] - 10s 123ms/step - loss: 0.1311 - accuracy: 0.9959\n",
            "Epoch 7/10\n",
            "78/78 [==============================] - 10s 123ms/step - loss: 0.1786 - accuracy: 0.9947\n",
            "Epoch 8/10\n",
            "78/78 [==============================] - 10s 124ms/step - loss: 0.1750 - accuracy: 0.9935\n",
            "Epoch 9/10\n",
            "78/78 [==============================] - 10s 122ms/step - loss: 0.0561 - accuracy: 0.9981\n",
            "Epoch 10/10\n",
            "78/78 [==============================] - 10s 126ms/step - loss: 1.4866e-10 - accuracy: 1.0000\n",
            "9/9 [==============================] - 1s 33ms/step - loss: 0.0022 - accuracy: 0.9991\n",
            "Epoch 1/10\n",
            "78/78 [==============================] - 12s 123ms/step - loss: 86.2464 - accuracy: 0.7768\n",
            "Epoch 2/10\n",
            "78/78 [==============================] - 10s 123ms/step - loss: 14.6185 - accuracy: 0.8827\n",
            "Epoch 3/10\n",
            "78/78 [==============================] - 10s 122ms/step - loss: 5.4840 - accuracy: 0.9206\n",
            "Epoch 4/10\n",
            "78/78 [==============================] - 10s 123ms/step - loss: 1.8410 - accuracy: 0.9513\n",
            "Epoch 5/10\n",
            "78/78 [==============================] - 10s 122ms/step - loss: 1.6659 - accuracy: 0.9616\n",
            "Epoch 6/10\n",
            "78/78 [==============================] - 10s 122ms/step - loss: 1.1267 - accuracy: 0.9806\n",
            "Epoch 7/10\n",
            "78/78 [==============================] - 10s 123ms/step - loss: 0.8912 - accuracy: 0.9864\n",
            "Epoch 8/10\n",
            "78/78 [==============================] - 10s 123ms/step - loss: 0.1591 - accuracy: 0.9974\n",
            "Epoch 9/10\n",
            "78/78 [==============================] - 9s 121ms/step - loss: 0.0452 - accuracy: 0.9987\n",
            "Epoch 10/10\n",
            "78/78 [==============================] - 9s 121ms/step - loss: 0.2025 - accuracy: 0.9978\n",
            "9/9 [==============================] - 1s 32ms/step - loss: 0.1306 - accuracy: 0.9973\n",
            "Epoch 1/10\n",
            "78/78 [==============================] - 11s 121ms/step - loss: 72.1173 - accuracy: 0.7724\n",
            "Epoch 2/10\n",
            "78/78 [==============================] - 9s 120ms/step - loss: 5.1112 - accuracy: 0.9075\n",
            "Epoch 3/10\n",
            "78/78 [==============================] - 10s 122ms/step - loss: 1.2047 - accuracy: 0.9508\n",
            "Epoch 4/10\n",
            "78/78 [==============================] - 10s 123ms/step - loss: 0.3330 - accuracy: 0.9803\n",
            "Epoch 5/10\n",
            "78/78 [==============================] - 9s 121ms/step - loss: 1.3637 - accuracy: 0.9719\n",
            "Epoch 6/10\n",
            "78/78 [==============================] - 9s 121ms/step - loss: 0.0922 - accuracy: 0.9976\n",
            "Epoch 7/10\n",
            "78/78 [==============================] - 10s 122ms/step - loss: 0.0760 - accuracy: 0.9982\n",
            "Epoch 8/10\n",
            "78/78 [==============================] - 9s 121ms/step - loss: 0.0253 - accuracy: 0.9989\n",
            "Epoch 9/10\n",
            "78/78 [==============================] - 10s 122ms/step - loss: 0.1057 - accuracy: 0.9976\n",
            "Epoch 10/10\n",
            "78/78 [==============================] - 9s 120ms/step - loss: 2.4524e-08 - accuracy: 1.0000\n",
            "9/9 [==============================] - 1s 31ms/step - loss: 3.6117e-12 - accuracy: 1.0000\n",
            "Epoch 1/10\n",
            "78/78 [==============================] - 12s 120ms/step - loss: 78.9513 - accuracy: 0.7683\n",
            "Epoch 2/10\n",
            "78/78 [==============================] - 9s 120ms/step - loss: 8.3419 - accuracy: 0.8902\n",
            "Epoch 3/10\n",
            "78/78 [==============================] - 9s 120ms/step - loss: 8.7504 - accuracy: 0.8977\n",
            "Epoch 4/10\n",
            "78/78 [==============================] - 9s 119ms/step - loss: 3.1690 - accuracy: 0.9357\n",
            "Epoch 5/10\n",
            "78/78 [==============================] - 9s 119ms/step - loss: 0.8888 - accuracy: 0.9671\n",
            "Epoch 6/10\n",
            "78/78 [==============================] - 9s 120ms/step - loss: 0.3905 - accuracy: 0.9864\n",
            "Epoch 7/10\n",
            "78/78 [==============================] - 9s 120ms/step - loss: 0.0624 - accuracy: 0.9971\n",
            "Epoch 8/10\n",
            "78/78 [==============================] - 9s 120ms/step - loss: 0.2759 - accuracy: 0.9942\n",
            "Epoch 9/10\n",
            "78/78 [==============================] - 9s 120ms/step - loss: 0.0632 - accuracy: 0.9975\n",
            "Epoch 10/10\n",
            "78/78 [==============================] - 9s 122ms/step - loss: 0.0629 - accuracy: 0.9987\n",
            "9/9 [==============================] - 1s 32ms/step - loss: 0.0072 - accuracy: 0.9991\n",
            "Epoch 1/10\n",
            "78/78 [==============================] - 11s 120ms/step - loss: 77.3901 - accuracy: 0.7622\n",
            "Epoch 2/10\n",
            "78/78 [==============================] - 9s 121ms/step - loss: 12.6906 - accuracy: 0.8916\n",
            "Epoch 3/10\n",
            "78/78 [==============================] - 9s 120ms/step - loss: 4.7733 - accuracy: 0.9294\n",
            "Epoch 4/10\n",
            "78/78 [==============================] - 9s 120ms/step - loss: 3.9235 - accuracy: 0.9502\n",
            "Epoch 5/10\n",
            "78/78 [==============================] - 9s 119ms/step - loss: 1.2307 - accuracy: 0.9800\n",
            "Epoch 6/10\n",
            "78/78 [==============================] - 9s 120ms/step - loss: 0.0450 - accuracy: 0.9983\n",
            "Epoch 7/10\n",
            "78/78 [==============================] - 9s 119ms/step - loss: 0.2826 - accuracy: 0.9966\n",
            "Epoch 8/10\n",
            "78/78 [==============================] - 9s 120ms/step - loss: 0.1295 - accuracy: 0.9977\n",
            "Epoch 9/10\n",
            "78/78 [==============================] - 9s 120ms/step - loss: 0.6187 - accuracy: 0.9945\n",
            "Epoch 10/10\n",
            "78/78 [==============================] - 9s 121ms/step - loss: 0.9833 - accuracy: 0.9890\n",
            "9/9 [==============================] - 1s 33ms/step - loss: 0.1374 - accuracy: 0.9909\n",
            "Epoch 1/10\n",
            "78/78 [==============================] - 12s 125ms/step - loss: 87.3546 - accuracy: 0.7584\n",
            "Epoch 2/10\n",
            "78/78 [==============================] - 10s 124ms/step - loss: 5.0002 - accuracy: 0.9114\n",
            "Epoch 3/10\n",
            "78/78 [==============================] - 10s 124ms/step - loss: 5.9714 - accuracy: 0.9284\n",
            "Epoch 4/10\n",
            "78/78 [==============================] - 10s 123ms/step - loss: 2.5223 - accuracy: 0.9434\n",
            "Epoch 5/10\n",
            "78/78 [==============================] - 10s 125ms/step - loss: 3.0494 - accuracy: 0.9552\n",
            "Epoch 6/10\n",
            "78/78 [==============================] - 10s 126ms/step - loss: 4.2586 - accuracy: 0.9519\n",
            "Epoch 7/10\n",
            "78/78 [==============================] - 10s 122ms/step - loss: 0.3064 - accuracy: 0.9935\n",
            "Epoch 8/10\n",
            "78/78 [==============================] - 10s 123ms/step - loss: 0.1493 - accuracy: 0.9964\n",
            "Epoch 9/10\n",
            "78/78 [==============================] - 10s 124ms/step - loss: 0.0868 - accuracy: 0.9976\n",
            "Epoch 10/10\n",
            "78/78 [==============================] - 10s 122ms/step - loss: 0.3381 - accuracy: 0.9948\n",
            "9/9 [==============================] - 1s 33ms/step - loss: 0.0367 - accuracy: 0.9982\n",
            "Epoch 1/10\n",
            "78/78 [==============================] - 12s 122ms/step - loss: 83.1245 - accuracy: 0.7471\n",
            "Epoch 2/10\n",
            "78/78 [==============================] - 10s 123ms/step - loss: 6.7550 - accuracy: 0.8964\n",
            "Epoch 3/10\n",
            "78/78 [==============================] - 9s 121ms/step - loss: 6.4779 - accuracy: 0.9127\n",
            "Epoch 4/10\n",
            "78/78 [==============================] - 9s 121ms/step - loss: 2.6788 - accuracy: 0.9570\n",
            "Epoch 5/10\n",
            "78/78 [==============================] - 9s 121ms/step - loss: 0.4048 - accuracy: 0.9908\n",
            "Epoch 6/10\n",
            "78/78 [==============================] - 9s 121ms/step - loss: 0.1718 - accuracy: 0.9966\n",
            "Epoch 7/10\n",
            "78/78 [==============================] - 9s 121ms/step - loss: 0.1046 - accuracy: 0.9973\n",
            "Epoch 8/10\n",
            "78/78 [==============================] - 9s 121ms/step - loss: 1.0977 - accuracy: 0.9876\n",
            "Epoch 9/10\n",
            "78/78 [==============================] - 9s 121ms/step - loss: 0.0540 - accuracy: 0.9992\n",
            "Epoch 10/10\n",
            "78/78 [==============================] - 9s 120ms/step - loss: 0.2837 - accuracy: 0.9973\n",
            "9/9 [==============================] - 1s 32ms/step - loss: 1.5775e-13 - accuracy: 1.0000\n",
            "Epoch 1/10\n",
            "78/78 [==============================] - 11s 121ms/step - loss: 149.7702 - accuracy: 0.7583\n",
            "Epoch 2/10\n",
            "78/78 [==============================] - 9s 120ms/step - loss: 5.2004 - accuracy: 0.9165\n",
            "Epoch 3/10\n",
            "78/78 [==============================] - 9s 120ms/step - loss: 6.7283 - accuracy: 0.9073\n",
            "Epoch 4/10\n",
            "78/78 [==============================] - 9s 121ms/step - loss: 2.9429 - accuracy: 0.9398\n",
            "Epoch 5/10\n",
            "78/78 [==============================] - 9s 122ms/step - loss: 2.1369 - accuracy: 0.9632\n",
            "Epoch 6/10\n",
            "78/78 [==============================] - 9s 121ms/step - loss: 0.3406 - accuracy: 0.9931\n",
            "Epoch 7/10\n",
            "78/78 [==============================] - 9s 121ms/step - loss: 0.0609 - accuracy: 0.9980\n",
            "Epoch 8/10\n",
            "78/78 [==============================] - 9s 121ms/step - loss: 0.3987 - accuracy: 0.9945\n",
            "Epoch 9/10\n",
            "78/78 [==============================] - 9s 122ms/step - loss: 0.9588 - accuracy: 0.9943\n",
            "Epoch 10/10\n",
            "78/78 [==============================] - 9s 121ms/step - loss: 0.2955 - accuracy: 0.9965\n",
            "9/9 [==============================] - 1s 33ms/step - loss: 0.8037 - accuracy: 0.9945\n"
          ]
        },
        {
          "output_type": "stream",
          "name": "stderr",
          "text": [
            "[Parallel(n_jobs=1)]: Done  10 out of  10 | elapsed: 18.8min finished\n"
          ]
        }
      ]
    },
    {
      "cell_type": "code",
      "metadata": {
        "id": "Xzid5Lr-F_7E",
        "colab": {
          "base_uri": "https://localhost:8080/"
        },
        "outputId": "37c0447e-895c-4674-a5e0-e9f7075742bb"
      },
      "source": [
        "print('The average cross-validation accuracy is: ', round(cv_results.mean(), 4))"
      ],
      "execution_count": null,
      "outputs": [
        {
          "output_type": "stream",
          "name": "stdout",
          "text": [
            "The average cross-validation accuracy is:  0.9979\n"
          ]
        }
      ]
    },
    {
      "cell_type": "code",
      "metadata": {
        "id": "G1h19RbEGCmI",
        "colab": {
          "base_uri": "https://localhost:8080/"
        },
        "outputId": "3ad4a691-d25e-4dab-9bd9-583130908109"
      },
      "source": [
        "print('The standard deviation for the cross-validation accuracy measure is: ', round(cv_results.std(), 4))"
      ],
      "execution_count": null,
      "outputs": [
        {
          "output_type": "stream",
          "name": "stdout",
          "text": [
            "The standard deviation for the cross-validation accuracy measure is:  0.0028\n"
          ]
        }
      ]
    },
    {
      "cell_type": "code",
      "metadata": {
        "id": "IYL98zmbGFWh",
        "colab": {
          "base_uri": "https://localhost:8080/"
        },
        "outputId": "e77e6e48-76bd-414b-eb30-fd433a2bbf5e"
      },
      "source": [
        "print('The five cross-validation accuracy results are: \\n', cv_results)"
      ],
      "execution_count": null,
      "outputs": [
        {
          "output_type": "stream",
          "name": "stdout",
          "text": [
            "The five cross-validation accuracy results are: \n",
            " [1.         1.         0.99909091 0.99727273 1.         0.99909091\n",
            " 0.9909091  0.99818182 1.         0.99454546]\n"
          ]
        }
      ]
    },
    {
      "cell_type": "code",
      "metadata": {
        "id": "JNb8X-c1GIN7",
        "colab": {
          "base_uri": "https://localhost:8080/"
        },
        "outputId": "dfd40c5b-5788-42d9-defe-4f3c32d93e52"
      },
      "source": [
        "# making predictions based on a five fold cross-validation\n",
        "cv_preds = cross_val_predict(modi,x,y, cv=kfold, verbose=0)\n",
        "cv_preds"
      ],
      "execution_count": null,
      "outputs": [
        {
          "output_type": "stream",
          "name": "stdout",
          "text": [
            "Epoch 1/10\n",
            "78/78 [==============================] - 14s 124ms/step - loss: 111.5179 - accuracy: 0.7378\n",
            "Epoch 2/10\n",
            "78/78 [==============================] - 9s 120ms/step - loss: 3.2597 - accuracy: 0.9264\n",
            "Epoch 3/10\n",
            "78/78 [==============================] - 9s 120ms/step - loss: 4.1766 - accuracy: 0.9299\n",
            "Epoch 4/10\n",
            "78/78 [==============================] - 9s 120ms/step - loss: 1.3643 - accuracy: 0.9785\n",
            "Epoch 5/10\n",
            "78/78 [==============================] - 10s 127ms/step - loss: 0.2488 - accuracy: 0.9931\n",
            "Epoch 6/10\n",
            "78/78 [==============================] - 9s 120ms/step - loss: 0.5235 - accuracy: 0.9901\n",
            "Epoch 7/10\n",
            "78/78 [==============================] - 9s 120ms/step - loss: 0.4205 - accuracy: 0.9931\n",
            "Epoch 8/10\n",
            "78/78 [==============================] - 9s 121ms/step - loss: 0.2074 - accuracy: 0.9965\n",
            "Epoch 9/10\n",
            "78/78 [==============================] - 9s 120ms/step - loss: 1.1793 - accuracy: 0.9902\n",
            "Epoch 10/10\n",
            "78/78 [==============================] - 9s 120ms/step - loss: 0.2138 - accuracy: 0.9966\n",
            "Epoch 1/10\n",
            "78/78 [==============================] - 11s 120ms/step - loss: 101.6591 - accuracy: 0.7756\n",
            "Epoch 2/10\n",
            "78/78 [==============================] - 9s 121ms/step - loss: 7.8329 - accuracy: 0.9062\n",
            "Epoch 3/10\n",
            "78/78 [==============================] - 10s 122ms/step - loss: 4.7797 - accuracy: 0.9282\n",
            "Epoch 4/10\n",
            "78/78 [==============================] - 10s 122ms/step - loss: 3.1629 - accuracy: 0.9682\n",
            "Epoch 5/10\n",
            "78/78 [==============================] - 10s 122ms/step - loss: 0.3840 - accuracy: 0.9948\n",
            "Epoch 6/10\n",
            "78/78 [==============================] - 11s 135ms/step - loss: 0.6906 - accuracy: 0.9914\n",
            "Epoch 7/10\n",
            "78/78 [==============================] - 10s 122ms/step - loss: 0.3633 - accuracy: 0.9945\n",
            "Epoch 8/10\n",
            "78/78 [==============================] - 10s 123ms/step - loss: 0.1705 - accuracy: 0.9972\n",
            "Epoch 9/10\n",
            "78/78 [==============================] - 10s 122ms/step - loss: 0.0090 - accuracy: 0.9996\n",
            "Epoch 10/10\n",
            "78/78 [==============================] - 10s 122ms/step - loss: 0.0484 - accuracy: 0.9994\n",
            "Epoch 1/10\n",
            "78/78 [==============================] - 11s 121ms/step - loss: 131.9023 - accuracy: 0.7436\n",
            "Epoch 2/10\n",
            "78/78 [==============================] - 9s 119ms/step - loss: 1.3529 - accuracy: 0.9419\n",
            "Epoch 3/10\n",
            "78/78 [==============================] - 9s 120ms/step - loss: 3.9005 - accuracy: 0.9244\n",
            "Epoch 4/10\n",
            "78/78 [==============================] - 9s 120ms/step - loss: 4.0205 - accuracy: 0.9337\n",
            "Epoch 5/10\n",
            "78/78 [==============================] - 9s 119ms/step - loss: 3.3932 - accuracy: 0.9524\n",
            "Epoch 6/10\n",
            "78/78 [==============================] - 9s 119ms/step - loss: 0.2393 - accuracy: 0.9912\n",
            "Epoch 7/10\n",
            "78/78 [==============================] - 9s 119ms/step - loss: 0.1918 - accuracy: 0.9943\n",
            "Epoch 8/10\n",
            "78/78 [==============================] - 10s 122ms/step - loss: 0.1103 - accuracy: 0.9966\n",
            "Epoch 9/10\n",
            "78/78 [==============================] - 9s 122ms/step - loss: 0.0929 - accuracy: 0.9981\n",
            "Epoch 10/10\n",
            "78/78 [==============================] - 10s 122ms/step - loss: 0.0244 - accuracy: 0.9990\n",
            "Epoch 1/10\n",
            "78/78 [==============================] - 12s 125ms/step - loss: 138.8862 - accuracy: 0.7237\n",
            "Epoch 2/10\n",
            "78/78 [==============================] - 10s 125ms/step - loss: 6.4795 - accuracy: 0.9068\n",
            "Epoch 3/10\n",
            "78/78 [==============================] - 10s 125ms/step - loss: 1.6232 - accuracy: 0.9507\n",
            "Epoch 4/10\n",
            "78/78 [==============================] - 10s 126ms/step - loss: 7.0514 - accuracy: 0.9219\n",
            "Epoch 5/10\n",
            "78/78 [==============================] - 10s 126ms/step - loss: 1.0437 - accuracy: 0.9785\n",
            "Epoch 6/10\n",
            "78/78 [==============================] - 10s 124ms/step - loss: 0.2049 - accuracy: 0.9961\n",
            "Epoch 7/10\n",
            "78/78 [==============================] - 10s 123ms/step - loss: 0.1216 - accuracy: 0.9973\n",
            "Epoch 8/10\n",
            "78/78 [==============================] - 10s 123ms/step - loss: 0.2254 - accuracy: 0.9974\n",
            "Epoch 9/10\n",
            "78/78 [==============================] - 10s 123ms/step - loss: 0.1422 - accuracy: 0.9977\n",
            "Epoch 10/10\n",
            "78/78 [==============================] - 10s 123ms/step - loss: 0.0463 - accuracy: 0.9988\n",
            "Epoch 1/10\n",
            "78/78 [==============================] - 12s 123ms/step - loss: 81.1557 - accuracy: 0.7295\n",
            "Epoch 2/10\n",
            "78/78 [==============================] - 10s 123ms/step - loss: 6.2864 - accuracy: 0.9024\n",
            "Epoch 3/10\n",
            "78/78 [==============================] - 11s 135ms/step - loss: 7.5791 - accuracy: 0.9035\n",
            "Epoch 4/10\n",
            "78/78 [==============================] - 10s 132ms/step - loss: 0.9928 - accuracy: 0.9600\n",
            "Epoch 5/10\n",
            "78/78 [==============================] - 10s 123ms/step - loss: 0.7338 - accuracy: 0.9783\n",
            "Epoch 6/10\n",
            "78/78 [==============================] - 10s 123ms/step - loss: 0.1752 - accuracy: 0.9928\n",
            "Epoch 7/10\n",
            "78/78 [==============================] - 9s 121ms/step - loss: 0.5093 - accuracy: 0.9892\n",
            "Epoch 8/10\n",
            "78/78 [==============================] - 10s 122ms/step - loss: 0.2792 - accuracy: 0.9938\n",
            "Epoch 9/10\n",
            "78/78 [==============================] - 9s 121ms/step - loss: 0.1805 - accuracy: 0.9957\n",
            "Epoch 10/10\n",
            "78/78 [==============================] - 9s 121ms/step - loss: 0.0508 - accuracy: 0.9987\n",
            "Epoch 1/10\n",
            "78/78 [==============================] - 12s 120ms/step - loss: 60.2089 - accuracy: 0.8027\n",
            "Epoch 2/10\n",
            "78/78 [==============================] - 9s 121ms/step - loss: 6.4404 - accuracy: 0.9160\n",
            "Epoch 3/10\n",
            "78/78 [==============================] - 9s 120ms/step - loss: 7.3874 - accuracy: 0.9195\n",
            "Epoch 4/10\n",
            "78/78 [==============================] - 10s 122ms/step - loss: 6.4004 - accuracy: 0.9401\n",
            "Epoch 5/10\n",
            "78/78 [==============================] - 10s 122ms/step - loss: 0.3123 - accuracy: 0.9923\n",
            "Epoch 6/10\n",
            "78/78 [==============================] - 9s 122ms/step - loss: 1.3936 - accuracy: 0.9857\n",
            "Epoch 7/10\n",
            "78/78 [==============================] - 9s 122ms/step - loss: 0.9010 - accuracy: 0.9923\n",
            "Epoch 8/10\n",
            "78/78 [==============================] - 10s 122ms/step - loss: 1.0306 - accuracy: 0.9940\n",
            "Epoch 9/10\n",
            "78/78 [==============================] - 9s 121ms/step - loss: 3.2009 - accuracy: 0.9849\n",
            "Epoch 10/10\n",
            "78/78 [==============================] - 9s 121ms/step - loss: 2.1151 - accuracy: 0.9900\n",
            "Epoch 1/10\n",
            "78/78 [==============================] - 12s 122ms/step - loss: 115.5266 - accuracy: 0.7449\n",
            "Epoch 2/10\n",
            "78/78 [==============================] - 10s 122ms/step - loss: 8.0387 - accuracy: 0.9046\n",
            "Epoch 3/10\n",
            "78/78 [==============================] - 9s 121ms/step - loss: 2.1518 - accuracy: 0.9487\n",
            "Epoch 4/10\n",
            "78/78 [==============================] - 10s 122ms/step - loss: 4.1863 - accuracy: 0.9291\n",
            "Epoch 5/10\n",
            "78/78 [==============================] - 10s 123ms/step - loss: 1.6089 - accuracy: 0.9595\n",
            "Epoch 6/10\n",
            "78/78 [==============================] - 10s 123ms/step - loss: 1.2555 - accuracy: 0.9762\n",
            "Epoch 7/10\n",
            "78/78 [==============================] - 10s 123ms/step - loss: 0.8263 - accuracy: 0.9880\n",
            "Epoch 8/10\n",
            "78/78 [==============================] - 10s 122ms/step - loss: 0.9041 - accuracy: 0.9901\n",
            "Epoch 9/10\n",
            "78/78 [==============================] - 10s 122ms/step - loss: 1.7897 - accuracy: 0.9843\n",
            "Epoch 10/10\n",
            "78/78 [==============================] - 10s 123ms/step - loss: 0.1656 - accuracy: 0.9975\n",
            "Epoch 1/10\n",
            "78/78 [==============================] - 12s 122ms/step - loss: 126.0859 - accuracy: 0.7535\n",
            "Epoch 2/10\n",
            "78/78 [==============================] - 10s 122ms/step - loss: 11.9046 - accuracy: 0.8859\n",
            "Epoch 3/10\n",
            "78/78 [==============================] - 10s 124ms/step - loss: 1.9155 - accuracy: 0.9494\n",
            "Epoch 4/10\n",
            "78/78 [==============================] - 10s 123ms/step - loss: 5.2515 - accuracy: 0.9306\n",
            "Epoch 5/10\n",
            "78/78 [==============================] - 10s 122ms/step - loss: 4.8118 - accuracy: 0.9502\n",
            "Epoch 6/10\n",
            "78/78 [==============================] - 9s 121ms/step - loss: 0.1717 - accuracy: 0.9963\n",
            "Epoch 7/10\n",
            "78/78 [==============================] - 10s 122ms/step - loss: 1.9707 - accuracy: 0.9876\n",
            "Epoch 8/10\n",
            "78/78 [==============================] - 9s 122ms/step - loss: 0.6943 - accuracy: 0.9899\n",
            "Epoch 9/10\n",
            "78/78 [==============================] - 10s 122ms/step - loss: 0.9560 - accuracy: 0.9906\n",
            "Epoch 10/10\n",
            "78/78 [==============================] - 9s 121ms/step - loss: 0.1368 - accuracy: 0.9982\n",
            "Epoch 1/10\n",
            "78/78 [==============================] - 12s 122ms/step - loss: 214.8525 - accuracy: 0.7571\n",
            "Epoch 2/10\n",
            "78/78 [==============================] - 10s 122ms/step - loss: 11.4853 - accuracy: 0.8836\n",
            "Epoch 3/10\n",
            "78/78 [==============================] - 10s 124ms/step - loss: 2.9176 - accuracy: 0.9342\n",
            "Epoch 4/10\n",
            "78/78 [==============================] - 10s 122ms/step - loss: 7.7653 - accuracy: 0.9151\n",
            "Epoch 5/10\n",
            "78/78 [==============================] - 10s 123ms/step - loss: 0.8069 - accuracy: 0.9769\n",
            "Epoch 6/10\n",
            "78/78 [==============================] - 10s 123ms/step - loss: 0.2357 - accuracy: 0.9922\n",
            "Epoch 7/10\n",
            "78/78 [==============================] - 10s 124ms/step - loss: 0.3411 - accuracy: 0.9905\n",
            "Epoch 8/10\n",
            "78/78 [==============================] - 10s 125ms/step - loss: 1.1009 - accuracy: 0.9842\n",
            "Epoch 9/10\n",
            "78/78 [==============================] - 10s 125ms/step - loss: 0.0934 - accuracy: 0.9988\n",
            "Epoch 10/10\n",
            "78/78 [==============================] - 10s 125ms/step - loss: 2.7074e-10 - accuracy: 1.0000\n",
            "Epoch 1/10\n",
            "78/78 [==============================] - 12s 124ms/step - loss: 68.2983 - accuracy: 0.7768\n",
            "Epoch 2/10\n",
            "78/78 [==============================] - 10s 125ms/step - loss: 4.9986 - accuracy: 0.9176\n",
            "Epoch 3/10\n",
            "78/78 [==============================] - 10s 124ms/step - loss: 1.6710 - accuracy: 0.9462\n",
            "Epoch 4/10\n",
            "78/78 [==============================] - 10s 124ms/step - loss: 2.0204 - accuracy: 0.9437\n",
            "Epoch 5/10\n",
            "78/78 [==============================] - 10s 128ms/step - loss: 0.8103 - accuracy: 0.9742\n",
            "Epoch 6/10\n",
            "78/78 [==============================] - 11s 142ms/step - loss: 0.2028 - accuracy: 0.9905\n",
            "Epoch 7/10\n",
            "78/78 [==============================] - 10s 125ms/step - loss: 0.2133 - accuracy: 0.9940\n",
            "Epoch 8/10\n",
            "78/78 [==============================] - 10s 124ms/step - loss: 1.2851 - accuracy: 0.9826\n",
            "Epoch 9/10\n",
            "78/78 [==============================] - 10s 123ms/step - loss: 0.1806 - accuracy: 0.9977\n",
            "Epoch 10/10\n",
            "78/78 [==============================] - 10s 124ms/step - loss: 0.0038 - accuracy: 0.9995\n"
          ]
        },
        {
          "output_type": "execute_result",
          "data": {
            "text/plain": [
              "array([[1],\n",
              "       [1],\n",
              "       [1],\n",
              "       ...,\n",
              "       [0],\n",
              "       [0],\n",
              "       [0]])"
            ]
          },
          "metadata": {},
          "execution_count": 23
        }
      ]
    },
    {
      "cell_type": "code",
      "metadata": {
        "id": "DDibM0JoGOn5",
        "colab": {
          "base_uri": "https://localhost:8080/"
        },
        "outputId": "28e13adc-33fd-4860-c83e-e1cea7ba81f1"
      },
      "source": [
        "#confusion matrix of the cross validation results & the actual values\n",
        "cm = confusion_matrix(y, cv_preds)\n",
        "print(cm)"
      ],
      "execution_count": null,
      "outputs": [
        {
          "output_type": "stream",
          "name": "stdout",
          "text": [
            "[[5491    9]\n",
            " [   0 5500]]\n"
          ]
        }
      ]
    },
    {
      "cell_type": "code",
      "metadata": {
        "id": "dsempE-vGRFn",
        "colab": {
          "base_uri": "https://localhost:8080/",
          "height": 279
        },
        "outputId": "f332e02c-c137-4516-fa8e-82d89de1daed"
      },
      "source": [
        "sns.heatmap(cm, annot=True, fmt='d', linewidths=0.5, xticklabels=True, yticklabels=True)\n",
        "plt.xlabel('Actual')\n",
        "plt.ylabel('Predicted')\n",
        "plt.show()"
      ],
      "execution_count": null,
      "outputs": [
        {
          "output_type": "display_data",
          "data": {
            "text/plain": [
              "<Figure size 432x288 with 2 Axes>"
            ],
            "image/png": "[encoded data removed]"
          },
          "metadata": {
            "needs_background": "light"
          }
        }
      ]
    },
    {
      "cell_type": "code",
      "metadata": {
        "colab": {
          "base_uri": "https://localhost:8080/"
        },
        "id": "YgYBtnt8Afb_",
        "outputId": "6966d7d2-00dc-4ac5-fa91-79049c36bd36"
      },
      "source": [
        "target_names = ['legitime', 'phishing']\n",
        "print(classification_report(y, cv_preds,target_names=target_names ))"
      ],
      "execution_count": null,
      "outputs": [
        {
          "output_type": "stream",
          "name": "stdout",
          "text": [
            "              precision    recall  f1-score   support\n",
            "\n",
            "    legitime       1.00      1.00      1.00      5500\n",
            "    phishing       1.00      1.00      1.00      5500\n",
            "\n",
            "    accuracy                           1.00     11000\n",
            "   macro avg       1.00      1.00      1.00     11000\n",
            "weighted avg       1.00      1.00      1.00     11000\n",
            "\n"
          ]
        }
      ]
    },
    {
      "cell_type": "code",
      "metadata": {
        "colab": {
          "base_uri": "https://localhost:8080/"
        },
        "id": "ijKA2yWLznqi",
        "outputId": "d1f3195b-fdf9-452b-a2ec-e2b3e1ef6136"
      },
      "source": [
        "acc = accuracy_score(y, cv_preds)\n",
        "f1s = f1_score(y, cv_preds)\n",
        "precis = precision_score(y, cv_preds, average='binary')\n",
        "rec = recall_score(y, cv_preds, average='binary')\n",
        "auc = roc_auc_score(y, cv_preds)\n",
        "\n",
        "\n",
        "print('The accuracy score for the model is: \\n', acc)\n",
        "print('The F1 score for the model is: \\n', f1s)\n",
        "print('The precision-recall score is: {0:0.3f}'.format(precis))\n",
        "print('The recall score is: %.3f' % rec)\n",
        "print('Neural Network: ROC AUC=%.3f' % (auc))"
      ],
      "execution_count": null,
      "outputs": [
        {
          "output_type": "stream",
          "name": "stdout",
          "text": [
            "The accuracy score for the model is: \n",
            " 0.9991818181818182\n",
            "The F1 score for the model is: \n",
            " 0.9991824870560451\n",
            "The precision-recall score is: 0.998\n",
            "The recall score is: 1.000\n",
            "Neural Network: ROC AUC=0.999\n"
          ]
        }
      ]
    },
    {
      "cell_type": "code",
      "metadata": {
        "id": "FR7BbKPRzUFK",
        "colab": {
          "base_uri": "https://localhost:8080/",
          "height": 166
        },
        "outputId": "f053a3bf-6c5f-43d3-c9ce-6244da4eb63e"
      },
      "source": [
        "fpr, tpr, thresholds = roc_curve(y, cv_preds)"
      ],
      "execution_count": null,
      "outputs": [
        {
          "output_type": "error",
          "ename": "NameError",
          "evalue": "ignored",
          "traceback": [
            "\u001b[0;31m---------------------------------------------------------------------------\u001b[0m",
            "\u001b[0;31mNameError\u001b[0m                                 Traceback (most recent call last)",
            "\u001b[0;32m<ipython-input-1-b7bb04c8efeb>\u001b[0m in \u001b[0;36m<module>\u001b[0;34m()\u001b[0m\n\u001b[0;32m----> 1\u001b[0;31m \u001b[0mfpr\u001b[0m\u001b[0;34m,\u001b[0m \u001b[0mtpr\u001b[0m\u001b[0;34m,\u001b[0m \u001b[0mthresholds\u001b[0m \u001b[0;34m=\u001b[0m \u001b[0mroc_curve\u001b[0m\u001b[0;34m(\u001b[0m\u001b[0my\u001b[0m\u001b[0;34m,\u001b[0m \u001b[0mcv_preds\u001b[0m\u001b[0;34m)\u001b[0m\u001b[0;34m\u001b[0m\u001b[0;34m\u001b[0m\u001b[0m\n\u001b[0m",
            "\u001b[0;31mNameError\u001b[0m: name 'roc_curve' is not defined"
          ]
        }
      ]
    },
    {
      "cell_type": "code",
      "metadata": {
        "colab": {
          "base_uri": "https://localhost:8080/",
          "height": 295
        },
        "id": "LRGmsU3VzX-V",
        "outputId": "fe6b70d2-61c6-47a9-8908-736f566c848c"
      },
      "source": [
        "# plotting the curve\n",
        "plt.plot(fpr, tpr, marker='.', label='Neural Network')\n",
        "# axis labels\n",
        "plt.xlabel('False Positive Rate')\n",
        "plt.ylabel('True Positive Rate')\n",
        "# title\n",
        "plt.title('ROC curve of {}: AUC={}'.format(\"Final Model\", round(auc, 3)))\n",
        "# show the legend\n",
        "plt.legend()\n",
        "plt.show()"
      ],
      "execution_count": null,
      "outputs": [
        {
          "output_type": "display_data",
          "data": {
            "text/plain": [
              "<Figure size 432x288 with 1 Axes>"
            ],
            "image/png": "[encoded data removed]"
          },
          "metadata": {
            "needs_background": "light"
          }
        }
      ]
    },
    {
      "cell_type": "code",
      "metadata": {
        "colab": {
          "base_uri": "https://localhost:8080/",
          "height": 312
        },
        "id": "MeQ4_G2LzzHL",
        "outputId": "743713be-613a-4c1c-f16b-4c7b8cb6fb73"
      },
      "source": [
        "# Calculating values\n",
        "precision, recall, thresholds = precision_recall_curve(y, cv_preds)\n",
        "test_average_precision = average_precision_score(y, cv_preds)\n",
        "\n",
        "plt.step(recall, precision, color='b', alpha=0.2, where='post')\n",
        "plt.fill_between(recall, precision, step='post', alpha=0.2, color='b')\n",
        "plt.xlabel('Recall')\n",
        "plt.ylabel('Precision')\n",
        "plt.ylim([0.0, 1.05])\n",
        "plt.xlim([0.0, 1.0])\n",
        "str_average_precision = \"{0:.3f}\".format(test_average_precision)\n",
        "plt.title('Precision-Recall curve of {}: AUC={}'.format(\"Final Model\", str_average_precision))"
      ],
      "execution_count": null,
      "outputs": [
        {
          "output_type": "execute_result",
          "data": {
            "text/plain": [
              "Text(0.5, 1.0, 'Precision-Recall curve of Final Model: AUC=0.998')"
            ]
          },
          "metadata": {},
          "execution_count": 30
        },
        {
          "output_type": "display_data",
          "data": {
            "text/plain": [
              "<Figure size 432x288 with 1 Axes>"
            ],
            "image/png": "[encoded data removed]"
          },
          "metadata": {
            "needs_background": "light"
          }
        }
      ]
    }
  ]
}